{
  "cells": [
    {
      "cell_type": "markdown",
      "source": [
        "# 📘 **Introducció a Python**\n",
        "\n",
        "<img width=\"200\" align=\"right\" src=\"data:image/png;base64,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\" alt=\"Institut Sa Palomera\" />\n",
        "\n",
        "\n",
        "### **📚 Introducció Entorn del mòdul**  \n",
        "##### 🗂️ M0572 Sistemes d'aprenentatge automàtic  \n",
        "###### 👤 *Robert Ventura Vall-llovera*  \n",
        "\n",
        "---\n",
        "\n",
        "\n",
        "**Objectiu:** L'objectiu d'aquest Notebook és tenir una primera presa de contacte amb el llenguatge Python i veure'n les seves principals característiques. Si vols aprofundir en el llenguatge pots utilitzar el Tutorial disponible a [3WSchools](https://www.w3schools.com/python/)"
      ],
      "metadata": {
        "id": "n5aH6wplNqlV"
      },
      "id": "n5aH6wplNqlV"
    },
    {
      "cell_type": "markdown",
      "id": "67ba086e",
      "metadata": {
        "id": "67ba086e"
      },
      "source": [
        "## 1) *Hello World* Python i versió"
      ]
    },
    {
      "cell_type": "markdown",
      "id": "e0b06c0f",
      "metadata": {
        "id": "e0b06c0f"
      },
      "source": [
        "  \n",
        "Aquesta secció realitzem un Hello World amb Python i es mostra la versió de Python del sistema. És útil perquè algunes característiques (com `match/case`) només existeixen a partir de Python 3.10. Fer `print(...)` és la forma més simple de veure resultats.\n"
      ]
    },
    {
      "cell_type": "code",
      "execution_count": null,
      "id": "9b2ca35c",
      "metadata": {
        "id": "9b2ca35c",
        "colab": {
          "base_uri": "https://localhost:8080/"
        },
        "outputId": "43ae4d87-ff81-46ab-dcc6-3064a62f3bd6"
      },
      "outputs": [
        {
          "output_type": "stream",
          "name": "stdout",
          "text": [
            "Hello World!\n",
            "Versió de Python: 3.12.11 (main, Jun  4 2025, 08:56:18) [GCC 11.4.0]\n"
          ]
        }
      ],
      "source": [
        "\n",
        "import sys\n",
        "print(\"Hello World!\")\n",
        "print(\"Versió de Python:\", sys.version)\n"
      ]
    },
    {
      "cell_type": "markdown",
      "id": "edab10e0",
      "metadata": {
        "id": "edab10e0"
      },
      "source": [
        "\n",
        "## 2) Variables i tipus bàsics\n",
        "- Dinàmic: no declares el tipus.\n",
        "- Bàsics: `int`, `float`, `bool`, `str`, `None`.\n"
      ]
    },
    {
      "cell_type": "markdown",
      "id": "181ba188",
      "metadata": {
        "id": "181ba188"
      },
      "source": [
        "\n",
        "Python és un llenguatge **dinàmic** i no cal declarar el tipus de les variables, el motor ho dedueix. Els tipus bàsics que utlitzarem són: `int`, `float`, `bool`, `str`, `None`. Aquests cobreixen el 90% dels casos.  \n",
        "**Consell:** Pots convertir fàcilment els tipus de dades: `int(\"42\")`, `float(\"3.14\")`, `str(3.14)`, bool(0).\n",
        "\n",
        "Amb la funció `type()` podem obtenir el tipus de la variable que li passem per paràmetre."
      ]
    },
    {
      "cell_type": "code",
      "execution_count": null,
      "id": "9aa60fe0",
      "metadata": {
        "id": "9aa60fe0",
        "colab": {
          "base_uri": "https://localhost:8080/"
        },
        "outputId": "f5b0ad5c-9329-41c9-dafd-9c48667640cb"
      },
      "outputs": [
        {
          "output_type": "stream",
          "name": "stdout",
          "text": [
            "<class 'int'> <class 'float'> <class 'bool'> <class 'str'> <class 'NoneType'>\n",
            "3 5.0 42 False True\n"
          ]
        }
      ],
      "source": [
        "\n",
        "x = 5\n",
        "pi = 3.14\n",
        "ok = True\n",
        "nom = \"Ada\"\n",
        "res = None\n",
        "print(type(x), type(pi), type(ok), type(nom), type(res))\n",
        "print(int(pi), float(x), str(42), bool(0), bool(1))\n"
      ]
    },
    {
      "cell_type": "markdown",
      "id": "955ed9a5",
      "metadata": {
        "id": "955ed9a5"
      },
      "source": [
        "## 3) Entrada i sortida (E/S)"
      ]
    },
    {
      "cell_type": "markdown",
      "id": "a90c0db7",
      "metadata": {
        "id": "a90c0db7"
      },
      "source": [
        "Per demanar dades a l'usuari hem d'utilitzar la funció `input()`. Aquesta sempre retorna **text** (`str`). Si necessites enters o decimals, fes la conversió `int(...)` o `float(...)`.\n",
        "\n",
        "Com ja s'ha vist la funció `print()`ens serveix per mostrar informació\n"
      ]
    },
    {
      "cell_type": "code",
      "execution_count": null,
      "id": "56c67982",
      "metadata": {
        "id": "56c67982",
        "colab": {
          "base_uri": "https://localhost:8080/",
          "height": 321
        },
        "outputId": "2cba0739-e08f-477b-e2cf-ff7e68111e25"
      },
      "outputs": [
        {
          "output_type": "error",
          "ename": "KeyboardInterrupt",
          "evalue": "Interrupted by user",
          "traceback": [
            "\u001b[0;31m---------------------------------------------------------------------------\u001b[0m",
            "\u001b[0;31mKeyboardInterrupt\u001b[0m                         Traceback (most recent call last)",
            "\u001b[0;32m/tmp/ipython-input-635819419.py\u001b[0m in \u001b[0;36m<cell line: 0>\u001b[0;34m()\u001b[0m\n\u001b[1;32m      1\u001b[0m \u001b[0;31m# Descomenta per provar en local\u001b[0m\u001b[0;34m\u001b[0m\u001b[0;34m\u001b[0m\u001b[0m\n\u001b[0;32m----> 2\u001b[0;31m \u001b[0mnom\u001b[0m \u001b[0;34m=\u001b[0m \u001b[0minput\u001b[0m\u001b[0;34m(\u001b[0m\u001b[0;34m\"El teu nom: \"\u001b[0m\u001b[0;34m)\u001b[0m\u001b[0;34m\u001b[0m\u001b[0;34m\u001b[0m\u001b[0m\n\u001b[0m\u001b[1;32m      3\u001b[0m \u001b[0mprint\u001b[0m\u001b[0;34m(\u001b[0m\u001b[0;34m\"Exemple d'input comentat per evitar aturades.\"\u001b[0m\u001b[0;34m)\u001b[0m\u001b[0;34m\u001b[0m\u001b[0;34m\u001b[0m\u001b[0m\n",
            "\u001b[0;32m/usr/local/lib/python3.12/dist-packages/ipykernel/kernelbase.py\u001b[0m in \u001b[0;36mraw_input\u001b[0;34m(self, prompt)\u001b[0m\n\u001b[1;32m   1175\u001b[0m                 \u001b[0;34m\"raw_input was called, but this frontend does not support input requests.\"\u001b[0m\u001b[0;34m\u001b[0m\u001b[0;34m\u001b[0m\u001b[0m\n\u001b[1;32m   1176\u001b[0m             )\n\u001b[0;32m-> 1177\u001b[0;31m         return self._input_request(\n\u001b[0m\u001b[1;32m   1178\u001b[0m             \u001b[0mstr\u001b[0m\u001b[0;34m(\u001b[0m\u001b[0mprompt\u001b[0m\u001b[0;34m)\u001b[0m\u001b[0;34m,\u001b[0m\u001b[0;34m\u001b[0m\u001b[0;34m\u001b[0m\u001b[0m\n\u001b[1;32m   1179\u001b[0m             \u001b[0mself\u001b[0m\u001b[0;34m.\u001b[0m\u001b[0m_parent_ident\u001b[0m\u001b[0;34m[\u001b[0m\u001b[0;34m\"shell\"\u001b[0m\u001b[0;34m]\u001b[0m\u001b[0;34m,\u001b[0m\u001b[0;34m\u001b[0m\u001b[0;34m\u001b[0m\u001b[0m\n",
            "\u001b[0;32m/usr/local/lib/python3.12/dist-packages/ipykernel/kernelbase.py\u001b[0m in \u001b[0;36m_input_request\u001b[0;34m(self, prompt, ident, parent, password)\u001b[0m\n\u001b[1;32m   1217\u001b[0m             \u001b[0;32mexcept\u001b[0m \u001b[0mKeyboardInterrupt\u001b[0m\u001b[0;34m:\u001b[0m\u001b[0;34m\u001b[0m\u001b[0;34m\u001b[0m\u001b[0m\n\u001b[1;32m   1218\u001b[0m                 \u001b[0;31m# re-raise KeyboardInterrupt, to truncate traceback\u001b[0m\u001b[0;34m\u001b[0m\u001b[0;34m\u001b[0m\u001b[0m\n\u001b[0;32m-> 1219\u001b[0;31m                 \u001b[0;32mraise\u001b[0m \u001b[0mKeyboardInterrupt\u001b[0m\u001b[0;34m(\u001b[0m\u001b[0;34m\"Interrupted by user\"\u001b[0m\u001b[0;34m)\u001b[0m \u001b[0;32mfrom\u001b[0m \u001b[0;32mNone\u001b[0m\u001b[0;34m\u001b[0m\u001b[0;34m\u001b[0m\u001b[0m\n\u001b[0m\u001b[1;32m   1220\u001b[0m             \u001b[0;32mexcept\u001b[0m \u001b[0mException\u001b[0m\u001b[0;34m:\u001b[0m\u001b[0;34m\u001b[0m\u001b[0;34m\u001b[0m\u001b[0m\n\u001b[1;32m   1221\u001b[0m                 \u001b[0mself\u001b[0m\u001b[0;34m.\u001b[0m\u001b[0mlog\u001b[0m\u001b[0;34m.\u001b[0m\u001b[0mwarning\u001b[0m\u001b[0;34m(\u001b[0m\u001b[0;34m\"Invalid Message:\"\u001b[0m\u001b[0;34m,\u001b[0m \u001b[0mexc_info\u001b[0m\u001b[0;34m=\u001b[0m\u001b[0;32mTrue\u001b[0m\u001b[0;34m)\u001b[0m\u001b[0;34m\u001b[0m\u001b[0;34m\u001b[0m\u001b[0m\n",
            "\u001b[0;31mKeyboardInterrupt\u001b[0m: Interrupted by user"
          ]
        }
      ],
      "source": [
        "\n",
        "# Descomenta per provar en local\n",
        "nom = input(\"El teu nom: \")\n",
        "print(\"Exemple d'input comentat per evitar aturades.\")\n"
      ]
    },
    {
      "cell_type": "markdown",
      "id": "ac4cde5d",
      "metadata": {
        "id": "ac4cde5d"
      },
      "source": [
        "## 4) Operadors i *f-strings*"
      ]
    },
    {
      "cell_type": "markdown",
      "id": "db95a24f",
      "metadata": {
        "id": "db95a24f"
      },
      "source": [
        "Els operadors que tenim amb python són els habituals com a altres llenguatges:  \n",
        "\n",
        "**Aritmètics:**\n",
        "\n",
        "| Operador | Ús                                  | Exemple  | Resultat |\n",
        "| -------- | ----------------------------------- | -------- | -------- |\n",
        "| `+`      | Suma                                | `5 + 3`  | `8`      |\n",
        "| `-`      | Resta                               | `10 - 4` | `6`      |\n",
        "| `*`      | Multiplicació                       | `7 * 2`  | `14`     |\n",
        "| `/`      | Divisió (amb decimals, **float**)   | `7 / 2`  | `3.5`    |\n",
        "| `//`     | Divisió entera (**floor division**) | `7 // 2` | `3`      |\n",
        "| `%`      | Mòdul (residu de la divisió)        | `7 % 2`  | `1`      |\n",
        "| `**`     | Exponenciació (potències)           | `2 ** 3` | `8`      |\n",
        "\n",
        "**Lògics:**\n",
        "\n",
        "| Operador | Significat                                                   | Exemple                | Resultat |\n",
        "| -------- | ------------------------------------------------------------ | ---------------------- | -------- |\n",
        "| `and`    | Retorna `True` si **totes dues** condicions són certes       | `(5 > 2) and (10 > 3)` | `True`   |\n",
        "| `or`     | Retorna `True` si **almenys una** de les condicions és certa | `(5 > 2) or (10 < 3)`  | `True`   |\n",
        "| `not`    | Inverteix el valor lògic (negació)                           | `not (5 > 2)`          | `False`  |\n",
        "| `xor`    | No existeix com a tal amb Python. `True` quan alguna de les dues es certa. Es pot amb (a and not b) or (not a and b)                           | `(True xor True)`          | `False`  |\n",
        "\n",
        "**Concatenació strings:**\n",
        "\n",
        "  * Operador `+`\n",
        "```python\n",
        "nom = \"Maria\"\n",
        "cognom = \"Soler\"\n",
        "nom_complet = nom + \" \" + cognom\n",
        "print(nom_complet)  # Maria Soler\n",
        "```\n",
        "\n",
        "  * Operador `*`\n",
        "Repeteix cadenes\n",
        "```python\n",
        "print(\"Hi! \" * 3)  \n",
        "# Hi! Hi! Hi!\n",
        "```\n",
        "\n",
        "  * Ús f-strings\n",
        "És la manera recomanada d'interpolar variables a cadenes: llegibles i eficients.\n",
        "```python\n",
        "nom = \"Joan\"\n",
        "edat = 20\n",
        "print(f\"Hola, em dic {nom} i tinc {edat} anys.\")\n",
        "# Hola, em dic Joan i tinc 20 anys.\n",
        "```\n",
        "\n",
        "  * Amb `str.format()`\n",
        "És una manera més antiga, però encara és útil\n",
        "```python\n",
        "text = \"Hola, em dic {} i tinc {} anys.\".format(\"Laia\", 22)\n",
        "print(text)\n",
        "# Hola, em dic Laia i tinc 22 anys.\n",
        "```\n",
        "\n",
        "  * Amb `str.format()`\n",
        "Aquesta és idel per llistes. Si tens moltes peces de text dins duna llista és la més eficient.\n",
        "```python\n",
        "paraules = [\"Python\", \"és\", \"genial\"]\n",
        "frase = \" \".join(paraules)\n",
        "print(frase)  # Python és genial\n",
        "```"
      ]
    },
    {
      "cell_type": "code",
      "execution_count": null,
      "id": "5d8ecd7b",
      "metadata": {
        "id": "5d8ecd7b"
      },
      "outputs": [],
      "source": [
        "\n",
        "a, b = 7, 3\n",
        "print(a + b, a - b, a * b, a / b, a // b, a % b, a ** b)\n",
        "print(f\"{a} > {b}? -> {a > b}\")\n",
        "nom = input(\"Dona'm un nom:\")\n",
        "print(f\"Benvingut/da, {nom}!\")"
      ]
    },
    {
      "cell_type": "markdown",
      "id": "444a0dcf",
      "metadata": {
        "id": "444a0dcf"
      },
      "source": [
        "## 5) Control de flux: `if`, `for`, `while`, `match`"
      ]
    },
    {
      "cell_type": "markdown",
      "id": "4decdcde",
      "metadata": {
        "id": "4decdcde"
      },
      "source": [
        "\n",
        "- `if/elif/else` per decisions.  \n",
        "- `for` itera directament sobre iterables (no cal índex).  \n",
        "- `while` repeteix mentre la condició és certa (vigila bucles infinits).  \n",
        "- `match/case` (a partir de la versió 3.10) és un patró tipus `switch` modern i potent.\n"
      ]
    },
    {
      "cell_type": "code",
      "execution_count": null,
      "id": "762f8a5e",
      "metadata": {
        "id": "762f8a5e"
      },
      "outputs": [],
      "source": [
        "\n",
        "nota = 8.2\n",
        "if nota >= 9:     res = \"excel·lent\"\n",
        "elif nota >= 5:   res = \"aprovat\"\n",
        "else:             res = \"suspès\"\n",
        "print(res)\n",
        "\n",
        "for i in range(3):\n",
        "    print(\"i =\", i)\n",
        "\n",
        "c = 0\n",
        "while c < 3:\n",
        "    print(\"c =\", c); c += 1\n",
        "\n",
        "color = \"verd\"\n",
        "match color:\n",
        "    case \"vermell\": codi = \"#FF0000\"\n",
        "    case \"verd\":    codi = \"#00FF00\"\n",
        "    case _:         codi = \"desconegut\"\n",
        "print(\"codi:\", codi)\n"
      ]
    },
    {
      "cell_type": "markdown",
      "id": "8491ff83",
      "metadata": {
        "id": "8491ff83"
      },
      "source": [
        "\n",
        "## 6) Estructures de dades: llista, tupla, dict, set\n"
      ]
    },
    {
      "cell_type": "markdown",
      "id": "99d0e437",
      "metadata": {
        "id": "99d0e437"
      },
      "source": [
        "\n",
        "**Explicació breu i casos d’ús:**  \n",
        "- **Llista (`list`)** — *mutable, ordenada.* Ideal per col·leccions on **afegir/eliminar/modificar** elements: _ex._ cua de tasques, buffer d’events.  \n",
        "  ```python\n",
        "  tasques = [\"etl\", \"neteja\", \"model\"]\n",
        "  tasques.append(\"avaluacio\")  # afegim una tasca al final\n",
        "  ```\n",
        "- **Tupla (`tuple`)** — *immutable, ordenada.* Per **dades fixes** o com a **clau**/valor segur que no canviarà: _ex._ coordenades, retorn múltiple.  \n",
        "  ```python\n",
        "  posicio = (41.39, 2.17)       # lat, lon\n",
        "  nom, edat = (\"Ada\", 32)       # desempaquetat segur\n",
        "  ```\n",
        "- **Diccionari (`dict`)** — *clau→valor.* Per **mapes** i **configuracions**: _ex._ paràmetres d’un model, índex per clau.  \n",
        "  ```python\n",
        "  config = {\"lr\": 0.01, \"epochs\": 10, \"features\": [\"age\",\"income\"]}\n",
        "  print(config[\"lr\"])\n",
        "  ```\n",
        "- **Conjunt (`set`)** — *elements únics, no ordenats.* Per **eliminar duplicats** i fer **operacions d’ens** (unió, intersecció): _ex._ deduplicar IDs.  \n",
        "  ```python\n",
        "  ids = [1,1,2,3,3]\n",
        "  unics = set(ids)              # {1,2,3}\n",
        "  ```\n",
        "**Regla orientativa:** si necessites ordre i edició → `list`; si vols inmutabilitat → `tuple`; si busques per clau → `dict`; si vols unicitat i operacions d’ens → `set`.\n"
      ]
    },
    {
      "cell_type": "code",
      "execution_count": null,
      "id": "d395e09b",
      "metadata": {
        "id": "d395e09b"
      },
      "outputs": [],
      "source": [
        "\n",
        "ll = [10, 20, 30]\n",
        "tp = (1, 2, 3)\n",
        "dc = {\"nom\": \"Ada\", \"rol\": \"enginyera\"}\n",
        "cj = {1, 2, 2, 3}\n",
        "\n",
        "ll.append(40); ll[1] = 25\n",
        "print(\"ll:\", ll)\n",
        "print(\"tp:\", tp)\n",
        "print(\"dc claus:\", list(dc.keys()), \"valors:\", list(dc.values()))\n",
        "print(\"cj:\", cj)\n",
        "\n",
        "print(\"slicing ll[1:3] ->\", ll[1:3])\n",
        "print(\"invertit ll[::-1] ->\", ll[::-1])\n"
      ]
    },
    {
      "cell_type": "markdown",
      "id": "69c856b7",
      "metadata": {
        "id": "69c856b7"
      },
      "source": [
        "## 7) Recorreguts i mètodes útils"
      ]
    },
    {
      "cell_type": "markdown",
      "id": "79e9a740",
      "metadata": {
        "id": "79e9a740"
      },
      "source": [
        "\n",
        "**Explicació breu:**  \n",
        "- `enumerate(seq, start=1)` dóna `(índex, valor)` — perfecte per llistats amb numeració.  \n",
        "- Als `dict`, `.items()` retorna `(clau, valor)`.  \n",
        "- `set` permet **unió** (`|`), **intersecció** (`&`) i **diferència** (`-`) per combinar conjunts eficientment.\n"
      ]
    },
    {
      "cell_type": "code",
      "execution_count": null,
      "id": "04b191f4",
      "metadata": {
        "id": "04b191f4"
      },
      "outputs": [],
      "source": [
        "\n",
        "fruites = [\"poma\", \"pera\", \"maduixa\"]\n",
        "for idx, f in enumerate(fruites, start=1):\n",
        "    print(idx, f)\n",
        "\n",
        "for k, v in dc.items():\n",
        "    print(f\"{k} → {v}\")\n",
        "\n",
        "a, b = {1,2,3}, {3,4}\n",
        "print(\"unió:\", a | b, \"intersecció:\", a & b, \"diferència:\", a - b)\n"
      ]
    },
    {
      "cell_type": "markdown",
      "id": "4dd076a4",
      "metadata": {
        "id": "4dd076a4"
      },
      "source": [
        "## 8) Comprensions (llista, dict, set)"
      ]
    },
    {
      "cell_type": "markdown",
      "id": "3709e2fb",
      "metadata": {
        "id": "3709e2fb"
      },
      "source": [
        "\n",
        "**Explicació breu:**  \n",
        "Les **comprensions** creen col·leccions en una línia de forma clara i eficient:\n",
        "- **Llista:** transformacions/filtrat seqüencial.  \n",
        "- **Diccionari:** construir mapes a partir d’una seqüència.  \n",
        "- **Conjunt:** obtenir valors únics transformats/filtrats.  \n",
        "Evita bucles verbosos i millora la llegibilitat.\n"
      ]
    },
    {
      "cell_type": "code",
      "execution_count": null,
      "id": "55f5d96b",
      "metadata": {
        "id": "55f5d96b"
      },
      "outputs": [],
      "source": [
        "\n",
        "nums = list(range(10))\n",
        "quadrats_parells = [n*n for n in nums if n % 2 == 0]\n",
        "len_per_fruita = {f: len(f) for f in [\"poma\",\"pera\",\"maduixa\"]}\n",
        "parells = {n for n in nums if n % 2 == 0}\n",
        "print(quadrats_parells)\n",
        "print(len_per_fruita)\n",
        "print(parells)\n"
      ]
    },
    {
      "cell_type": "markdown",
      "id": "4ec9bd41",
      "metadata": {
        "id": "4ec9bd41"
      },
      "source": [
        "## 9) Funcions, `*args`, `**kwargs` i `lambda`"
      ]
    },
    {
      "cell_type": "markdown",
      "id": "505bea24",
      "metadata": {
        "id": "505bea24"
      },
      "source": [
        "\n",
        "**Explicació breu:**  \n",
        "- `*args` empaqueta arguments posicionals; `**kwargs` empaqueta arguments nominals.  \n",
        "- `lambda` és per funcions petites i puntuals (p.ex. claus d’ordenació, `map`, `filter`).  \n",
        "- Escriu funcions curtes i amb un únic propòsit per codi mantenible.\n"
      ]
    },
    {
      "cell_type": "code",
      "execution_count": null,
      "id": "31ec790f",
      "metadata": {
        "id": "31ec790f"
      },
      "outputs": [],
      "source": [
        "\n",
        "def salutacio(nom, prefix=\"Hola\"):\n",
        "    return f\"{prefix}, {nom}!\"\n",
        "\n",
        "def suma(*args):\n",
        "    return sum(args)\n",
        "\n",
        "def mostra_config(**kwargs):\n",
        "    return kwargs\n",
        "\n",
        "print(salutacio(\"Ada\"))\n",
        "print(suma(1,2,3,4))\n",
        "print(mostra_config(model=\"XGBoost\", lr=0.1, epochs=10))\n",
        "\n",
        "quad = lambda x: x*x\n",
        "print(quad(5))\n",
        "print(list(map(lambda x: x*2, [1,2,3])))\n",
        "print(list(filter(lambda x: x%2==0, [1,2,3,4,5])))\n"
      ]
    },
    {
      "cell_type": "markdown",
      "id": "0a76d8ab",
      "metadata": {
        "id": "0a76d8ab"
      },
      "source": [
        "## 10) Strings i format"
      ]
    },
    {
      "cell_type": "markdown",
      "id": "5b71ac6d",
      "metadata": {
        "id": "5b71ac6d"
      },
      "source": [
        "\n",
        "**Explicació breu:**  \n",
        "Els mètodes de `str` (`strip`, `lower`, `replace`, `split`) cobreixen la neteja bàsica. Amb f-strings pots **formatar** números (`{x:.2f}`) i crear missatges clars.\n"
      ]
    },
    {
      "cell_type": "code",
      "execution_count": null,
      "id": "188523d6",
      "metadata": {
        "id": "188523d6"
      },
      "outputs": [],
      "source": [
        "\n",
        "text = \"  Machine Learning amb Python  \"\n",
        "print(text.strip().lower().replace(\" \", \"_\"))\n",
        "print(\"Learn\" in text)\n",
        "print(text.split())\n",
        "print(f\"Decimals: {3.14159:.2f}\")\n"
      ]
    },
    {
      "cell_type": "markdown",
      "id": "d9fe02a5",
      "metadata": {
        "id": "d9fe02a5"
      },
      "source": [
        "## 11) Excepcions (`try/except/finally`)"
      ]
    },
    {
      "cell_type": "markdown",
      "id": "844b0bd7",
      "metadata": {
        "id": "844b0bd7"
      },
      "source": [
        "\n",
        "**Explicació breu:**  \n",
        "Usa `try/except` per capturar errors previsibles i donar missatges útils. `finally` s’executa sempre (neteja de recursos). És clau per robustesa en ETLs i APIs.\n"
      ]
    },
    {
      "cell_type": "code",
      "execution_count": null,
      "id": "b702a85e",
      "metadata": {
        "id": "b702a85e"
      },
      "outputs": [],
      "source": [
        "\n",
        "def dividir(a, b):\n",
        "    try:\n",
        "        return a / b\n",
        "    except ZeroDivisionError as e:\n",
        "        print(\"No es pot dividir per zero:\", e); return None\n",
        "    except TypeError as e:\n",
        "        print(\"Tipus invàlid:\", e); return None\n",
        "    finally:\n",
        "        pass\n",
        "\n",
        "print(dividir(10, 2))\n",
        "print(dividir(10, 0))\n",
        "print(dividir(10, \"x\"))\n"
      ]
    },
    {
      "cell_type": "markdown",
      "id": "87b18983",
      "metadata": {
        "id": "87b18983"
      },
      "source": [
        "## 12) `with` (context manager)"
      ]
    },
    {
      "cell_type": "markdown",
      "id": "29a3414f",
      "metadata": {
        "id": "29a3414f"
      },
      "source": [
        "\n",
        "**Explicació breu:**  \n",
        "`with` assegura **tancament i alliberament** de recursos (fitxers, sockets, connexions DB) fins i tot si hi ha excepcions. Evita fuites i codi duplicat.\n"
      ]
    },
    {
      "cell_type": "code",
      "execution_count": null,
      "id": "1e21d18f",
      "metadata": {
        "id": "1e21d18f"
      },
      "outputs": [],
      "source": [
        "\n",
        "from pathlib import Path\n",
        "p = Path(\"exemple.txt\")\n",
        "with p.open(\"w\", encoding=\"utf-8\") as f:\n",
        "    f.write(\"Hola des d'un fitxer!\")\n",
        "\n",
        "with p.open(\"r\", encoding=\"utf-8\") as f:\n",
        "    print(f.read())\n",
        "p.unlink()\n"
      ]
    },
    {
      "cell_type": "markdown",
      "id": "c036583a",
      "metadata": {
        "id": "c036583a"
      },
      "source": [
        "## 13) POO bàsica: classes, mètodes, `__repr__`"
      ]
    },
    {
      "cell_type": "markdown",
      "id": "029fe012",
      "metadata": {
        "id": "029fe012"
      },
      "source": [
        "\n",
        "**Explicació breu:**  \n",
        "Modela conceptes com a **classes** amb estat i comportament. Implementa `__repr__` per a representacions útils al depurar. Mantén mètodes curts i noms clars.\n"
      ]
    },
    {
      "cell_type": "code",
      "execution_count": null,
      "id": "9b3b7435",
      "metadata": {
        "id": "9b3b7435"
      },
      "outputs": [],
      "source": [
        "\n",
        "class Model:\n",
        "    def __init__(self, nom, lr=0.01):\n",
        "        self.nom = nom; self.lr = lr\n",
        "    def entrenar(self, epochs=10):\n",
        "        print(f\"Entrenant {self.nom} durant {epochs} èpoques, lr={self.lr}\")\n",
        "    def __repr__(self):\n",
        "        return f\"Model(nom={self.nom!r}, lr={self.lr})\"\n",
        "\n",
        "m = Model(\"LinearReg\", lr=0.05)\n",
        "print(m); m.entrenar(epochs=5)\n"
      ]
    },
    {
      "cell_type": "markdown",
      "id": "45675d9e",
      "metadata": {
        "id": "45675d9e"
      },
      "source": [
        "## 14) Herència i polimorfisme"
      ]
    },
    {
      "cell_type": "markdown",
      "id": "777f7095",
      "metadata": {
        "id": "777f7095"
      },
      "source": [
        "\n",
        "**Explicació breu:**  \n",
        "Heretar permet **reutilitzar** i **especialitzar** comportament. El polimorfisme fa que diferents classes comparteixin interfícies (p.ex. `entrenar`, `prediu`). No abusis d’herència; considera composició.\n"
      ]
    },
    {
      "cell_type": "code",
      "execution_count": null,
      "id": "cef3f879",
      "metadata": {
        "id": "cef3f879"
      },
      "outputs": [],
      "source": [
        "\n",
        "class Classificador(Model):\n",
        "    def prediu(self, X):\n",
        "        print(f\"{self.nom} prediu sobre {len(X)} mostres\"); return [0.5]*len(X)\n",
        "\n",
        "clf = Classificador(\"LogReg\", lr=0.1)\n",
        "clf.entrenar(epochs=3)\n",
        "print(clf.prediu([1,2,3]))\n"
      ]
    },
    {
      "cell_type": "markdown",
      "id": "64fd8493",
      "metadata": {
        "id": "64fd8493"
      },
      "source": [
        "## 15) `dataclasses` i `typing`"
      ]
    },
    {
      "cell_type": "markdown",
      "id": "69247ffa",
      "metadata": {
        "id": "69247ffa"
      },
      "source": [
        "\n",
        "**Explicació breu:**  \n",
        "`@dataclass` estalvia codi bolcada per a models de dades (constructor, `repr`, comparació). `typing` aporta pistes de tipus per millorar llegibilitat i eines (linters/IDE).\n"
      ]
    },
    {
      "cell_type": "code",
      "execution_count": null,
      "id": "0630383c",
      "metadata": {
        "id": "0630383c"
      },
      "outputs": [],
      "source": [
        "\n",
        "from dataclasses import dataclass\n",
        "from typing import List, Optional\n",
        "\n",
        "@dataclass\n",
        "class Config:\n",
        "    lr: float\n",
        "    batch_size: int\n",
        "    features: List[str]\n",
        "    seed: Optional[int] = None\n",
        "\n",
        "cfg = Config(lr=0.01, batch_size=32, features=[\"age\",\"income\"], seed=42)\n",
        "print(cfg)\n"
      ]
    },
    {
      "cell_type": "markdown",
      "id": "a5ae78b8",
      "metadata": {
        "id": "a5ae78b8"
      },
      "source": [
        "## 16) Iteradors i generadors (`yield`)"
      ]
    },
    {
      "cell_type": "markdown",
      "id": "f71022aa",
      "metadata": {
        "id": "f71022aa"
      },
      "source": [
        "\n",
        "**Explicació breu:**  \n",
        "`yield` crea **generadors** que produeixen valors sota demanda (lazy). Ideal per **grans volums** o fluxos de dades (logs, fitxers, streaming).\n"
      ]
    },
    {
      "cell_type": "code",
      "execution_count": null,
      "id": "bf9cefc6",
      "metadata": {
        "id": "bf9cefc6"
      },
      "outputs": [],
      "source": [
        "\n",
        "def compte_fins(n):\n",
        "    for i in range(1, n+1):\n",
        "        yield i\n",
        "\n",
        "print(list(compte_fins(5)))\n"
      ]
    },
    {
      "cell_type": "markdown",
      "id": "df5f187c",
      "metadata": {
        "id": "df5f187c"
      },
      "source": [
        "## 17) Imports i mòduls"
      ]
    },
    {
      "cell_type": "markdown",
      "id": "e42fb17a",
      "metadata": {
        "id": "e42fb17a"
      },
      "source": [
        "\n",
        "**Explicació breu:**  \n",
        "Organitza el projecte en **mòduls/paquets**. Importa només el necessari per reduir dependències i temps de càrrega. Usa `as` per noms curts (`import numpy as np`).\n"
      ]
    },
    {
      "cell_type": "code",
      "execution_count": null,
      "id": "43330368",
      "metadata": {
        "id": "43330368"
      },
      "outputs": [],
      "source": [
        "\n",
        "import math as m\n",
        "from math import sqrt\n",
        "print(m.pi, sqrt(16))\n"
      ]
    },
    {
      "cell_type": "markdown",
      "id": "6d08949b",
      "metadata": {
        "id": "6d08949b"
      },
      "source": [
        "## 18) Pitfalls habituals (mutabilitat en paràmetres per defecte)"
      ]
    },
    {
      "cell_type": "markdown",
      "id": "07a0a1ae",
      "metadata": {
        "id": "07a0a1ae"
      },
      "source": [
        "\n",
        "**Explicació breu:**  \n",
        "No posis col·leccions mutables com a valor per defecte (`[]`, `{}`). Es comparteixen entre crides. Patró segur: usa `None` i crea la col·lecció dins la funció.\n"
      ]
    },
    {
      "cell_type": "code",
      "execution_count": null,
      "id": "fcb6c22f",
      "metadata": {
        "id": "fcb6c22f"
      },
      "outputs": [],
      "source": [
        "\n",
        "def afegeix(x, col=[]):  # ⚠️ Evita-ho\n",
        "    col.append(x); return col\n",
        "print(afegeix(1))\n",
        "print(afegeix(2))  # reutilitza la mateixa llista!\n",
        "\n",
        "def afegeix_ok(x, col=None):\n",
        "    if col is None: col = []\n",
        "    col.append(x); return col\n",
        "print(afegeix_ok(1))\n",
        "print(afegeix_ok(2))\n"
      ]
    },
    {
      "cell_type": "markdown",
      "id": "d9002cfe",
      "metadata": {
        "id": "d9002cfe"
      },
      "source": [
        "\n",
        "## 19) Exercicis ràpids\n",
        "1. Funció `es_primer(n)` que retorni si n és primer.  \n",
        "2. Diccionari `{paraula: longitud}` amb comprensió a partir d'una llista.  \n",
        "3. Classe `Cronometre` amb `with` que mesuri temps.  \n",
        "4. Exemple `try/except` capturant dos errors diferents.\n"
      ]
    },
    {
      "cell_type": "markdown",
      "id": "f327237a",
      "metadata": {
        "id": "f327237a"
      },
      "source": [
        "\n",
        "**Orientació:**  \n",
        "Proposa reptes petits que consoliden: matemàtica bàsica (nombres primers), comprensions per transformar dades, un `Cronometre` amb `with`, i gestió d’errors amb dos `except`.\n"
      ]
    },
    {
      "cell_type": "markdown",
      "id": "b96a34bd",
      "metadata": {
        "id": "b96a34bd"
      },
      "source": [
        "## 20) Solucions orientatives"
      ]
    },
    {
      "cell_type": "markdown",
      "id": "8335bf22",
      "metadata": {
        "id": "8335bf22"
      },
      "source": [
        "\n",
        "**Nota docent:**  \n",
        "No hi ha una única solució; serveixen per comparar enfocaments i estil. Fomenta revisar eficiència, llegibilitat i proves simples.\n"
      ]
    },
    {
      "cell_type": "code",
      "execution_count": null,
      "id": "c42166da",
      "metadata": {
        "id": "c42166da"
      },
      "outputs": [],
      "source": [
        "\n",
        "def es_primer(n: int) -> bool:\n",
        "    if n < 2: return False\n",
        "    if n % 2 == 0: return n == 2\n",
        "    i = 3\n",
        "    while i*i <= n:\n",
        "        if n % i == 0: return False\n",
        "        i += 2\n",
        "    return True\n",
        "\n",
        "print([n for n in range(1, 20) if es_primer(n)])\n",
        "\n",
        "paraules = [\"python\",\"java\",\"scala\",\"go\"]\n",
        "d = {p: len(p) for p in paraules}\n",
        "print(d)\n",
        "\n",
        "import time\n",
        "class Cronometre:\n",
        "    def __enter__(self): self._t0 = time.perf_counter(); return self\n",
        "    def __exit__(self, *args): self._t1 = time.perf_counter()\n",
        "    def inicia(self): self._t0 = time.perf_counter()\n",
        "    def atura(self): self._t1 = time.perf_counter()\n",
        "    def elapsed(self): return getattr(self, \"_t1\", time.perf_counter()) - self._t0\n",
        "\n",
        "with Cronometre() as cr:\n",
        "    _ = sum(range(100000))\n",
        "print(\"Temps:\", cr.elapsed(), \"s\")\n",
        "\n",
        "try:\n",
        "    x = int(\"no-num\")\n",
        "    y = 10 / 0\n",
        "except ValueError as e:\n",
        "    print(\"ValueError:\", e)\n",
        "except ZeroDivisionError as e:\n",
        "    print(\"ZeroDivisionError:\", e)\n"
      ]
    },
    {
      "cell_type": "markdown",
      "id": "0c804c9f",
      "metadata": {
        "id": "0c804c9f"
      },
      "source": [
        "\n",
        "---\n",
        "### Resum\n",
        "- Sintaxi concisa i dinàmica.\n",
        "- Estructures de dades potents; comprensions i `lambda` et fan més eficient.\n",
        "- Errors amb `try/except` i recursos amb `with`.\n",
        "- POO simple; `dataclasses` per a dades; generadors per a seqüències grans.\n",
        "**Següent pas:** aplica-ho a `pandas`, `numpy` i `scikit-learn`.\n"
      ]
    },
    {
      "cell_type": "markdown",
      "id": "d4a36a94",
      "metadata": {
        "id": "d4a36a94"
      },
      "source": [
        "\n",
        "**Missatge clau:**  \n",
        "Amb aquests blocs domines l’essencial per entrar a l'entorn Python\n"
      ]
    },
    {
      "cell_type": "markdown",
      "source": [
        "## Exercici 1\n",
        "\n",
        "Escriu un programa que pregunti a l'usuari la seva edat i mostri per pantalla tots els anys que ha complert Exemple: Quants anys tens? 8 Has complert 1 any Has complert 2 any Has complert 3 any Has complert 4 any Has complert 5 any Has complert 6 any Has complert 7 any Has complert 8 any"
      ],
      "metadata": {
        "id": "2taRStiy-J6h"
      },
      "id": "2taRStiy-J6h"
    },
    {
      "cell_type": "code",
      "source": [
        "# Solució. Escriu quí el codi del exercici"
      ],
      "metadata": {
        "id": "deIF6Aig-OO2"
      },
      "id": "deIF6Aig-OO2",
      "execution_count": null,
      "outputs": []
    },
    {
      "cell_type": "markdown",
      "source": [
        "## Exercici 2\n",
        "\n",
        "Escriu un programa que pregunti l'any de naixement i mostri per pantalla tots els anys que han passat des de l'any de naixment entrat. A quin any vas nèixer? 2015 2015 2016 2017 2018 2019 2020 2021\n"
      ],
      "metadata": {
        "id": "5n1WUP98-RHK"
      },
      "id": "5n1WUP98-RHK"
    },
    {
      "cell_type": "code",
      "source": [
        "# Solució. Escriu quí el codi del exercici"
      ],
      "metadata": {
        "id": "SR83O-Fb-Xsn"
      },
      "id": "SR83O-Fb-Xsn",
      "execution_count": null,
      "outputs": []
    },
    {
      "cell_type": "markdown",
      "source": [
        "Llicència\n",
        "===================================\n",
        "Autor: Robert Ventura\n",
        "\n",
        "[![](http://i.creativecommons.org/l/by-sa/4.0/88x31.png)](http://creativecommons.org/licenses/by-sa/4.0/)\n",
        "\n",
        "Pots utilitzar lliurament aquest material, amb les següents condicions:\n",
        "\n",
        "* Atribuir l'autoria d'aquest repositori.\n",
        "* Si l'utilitzes i fas canvis, has de alliber-lo també sota la mateixa llicència.\n"
      ],
      "metadata": {
        "id": "lD6dUwmD_wXT"
      },
      "id": "lD6dUwmD_wXT"
    }
  ],
  "metadata": {
    "colab": {
      "provenance": []
    },
    "language_info": {
      "name": "python"
    },
    "kernelspec": {
      "name": "python3",
      "display_name": "Python 3"
    }
  },
  "nbformat": 4,
  "nbformat_minor": 5
}