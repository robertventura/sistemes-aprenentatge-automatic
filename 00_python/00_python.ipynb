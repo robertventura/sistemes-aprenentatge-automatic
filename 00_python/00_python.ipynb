{
 "cells": [
  {
   "cell_type": "markdown",
   "metadata": {},
   "source": [
    "\n",
    "\n",
    "## Exercicis\n",
    "\n",
    "Aquests exercicis són per practicar Python.\n",
    "\n",
    "### Exercici\n",
    "\n",
    "Escriu un programa que pregunti a l'usuari la seva edat i mostri per pantalla tots els anys que ha complert\n",
    "Exemple:\n",
    "Quants anys tens? 8\n",
    "Has complert 1 any\n",
    "Has complert 2 any\n",
    "Has complert 3 any\n",
    "Has complert 4 any\n",
    "Has complert 5 any\n",
    "Has complert 6 any\n",
    "Has complert 7 any\n",
    "Has complert 8 any"
   ]
  },
  {
   "cell_type": "code",
   "execution_count": null,
   "metadata": {},
   "outputs": [],
   "source": [
    "# Solució\n"
   ]
  },
  {
   "cell_type": "markdown",
   "metadata": {},
   "source": [
    "\n",
    "### Exercici\n",
    "Escriu un programa que pregunti l'any de naixement i mostri per pantalla tots els anys que han passat \n",
    "des de l'any de naixment entrat.\n",
    "A quin any vas nèixer? 2015\n",
    "2015\n",
    "2016\n",
    "2017\n",
    "2018\n",
    "2019\n",
    "2020\n",
    "2021\n"
   ]
  },
  {
   "cell_type": "code",
   "execution_count": null,
   "metadata": {},
   "outputs": [],
   "source": [
    "# Solució\n"
   ]
  }
 ],
 "metadata": {
  "kernelspec": {
   "display_name": "Python 3 (ipykernel)",
   "language": "python",
   "name": "python3"
  },
  "language_info": {
   "codemirror_mode": {
    "name": "ipython",
    "version": 3
   },
   "file_extension": ".py",
   "mimetype": "text/x-python",
   "name": "python",
   "nbconvert_exporter": "python",
   "pygments_lexer": "ipython3",
   "version": "3.9.12"
  },
  "vscode": {
   "interpreter": {
    "hash": "cf02e6bf250f77d388a6bc5f87ea1eec704c2fee4b623a6d66585fe8e13b7d67"
   }
  }
 },
 "nbformat": 4,
 "nbformat_minor": 4
}
