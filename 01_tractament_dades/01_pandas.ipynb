{
 "cells": [
  {
   "cell_type": "markdown",
   "metadata": {},
   "source": [
    "# Tractament de dades - Pandas  <img align=\"right\"  width=\"185\" height=\"75\"  src=\"img/pandas-logo.png\" alt=\"pandas_logo\"/>\n",
    "\n",
    "En aquest apartat veurem una de les llibreries més utilitzades alhora de realitzar anàlisis de dades: importar i exportar dades, realitzar operacions de tractament, etc..\n",
    "\n",
    "## Introducció a Pandas\n",
    "---------------------\n",
    "Com qualsevol atre llibreria de python utilitzarem la paraula import per utilitzar-la\n",
    "\n",
    "```python\n",
    "import pandas as pd\n",
    "```"
   ]
  },
  {
   "cell_type": "markdown",
   "metadata": {},
   "source": [
    "\n",
    "A Pandas hi ha dos objectes principals: el **DataFrame** i les **Series**\n",
    "\n",
    "## DataFrame\n",
    "---------------------\n",
    "La classe [*DataFrame*](https://pandas.pydata.org/docs/reference/api/pandas.DataFrame.html) és una de les més utilitzades ja que igual que R és aquells que utilitzarem per tractar les dades.\n",
    "Serà una taula de doble entrada (files i columnes).\n",
    "\n",
    "Una DataFrame és una taula que conté una sèrie d'entrades individuals, cadascuna de les quals té un valor determinat. Cada entrada correspon a una fila/registre i a una columna.\n",
    "\n",
    "Per exemple:"
   ]
  },
  {
   "cell_type": "code",
   "execution_count": 36,
   "metadata": {},
   "outputs": [
    {
     "data": {
      "text/html": [
       "<div>\n",
       "<style scoped>\n",
       "    .dataframe tbody tr th:only-of-type {\n",
       "        vertical-align: middle;\n",
       "    }\n",
       "\n",
       "    .dataframe tbody tr th {\n",
       "        vertical-align: top;\n",
       "    }\n",
       "\n",
       "    .dataframe thead th {\n",
       "        text-align: right;\n",
       "    }\n",
       "</style>\n",
       "<table border=\"1\" class=\"dataframe\">\n",
       "  <thead>\n",
       "    <tr style=\"text-align: right;\">\n",
       "      <th></th>\n",
       "      <th>Nom</th>\n",
       "      <th>Edat</th>\n",
       "    </tr>\n",
       "  </thead>\n",
       "  <tbody>\n",
       "    <tr>\n",
       "      <th>0</th>\n",
       "      <td>Pere</td>\n",
       "      <td>20</td>\n",
       "    </tr>\n",
       "    <tr>\n",
       "      <th>1</th>\n",
       "      <td>Alice</td>\n",
       "      <td>21</td>\n",
       "    </tr>\n",
       "    <tr>\n",
       "      <th>2</th>\n",
       "      <td>Marta</td>\n",
       "      <td>19</td>\n",
       "    </tr>\n",
       "    <tr>\n",
       "      <th>3</th>\n",
       "      <td>Tom</td>\n",
       "      <td>18</td>\n",
       "    </tr>\n",
       "  </tbody>\n",
       "</table>\n",
       "</div>"
      ],
      "text/plain": [
       "     Nom  Edat\n",
       "0   Pere    20\n",
       "1  Alice    21\n",
       "2  Marta    19\n",
       "3    Tom    18"
      ]
     },
     "execution_count": 36,
     "metadata": {},
     "output_type": "execute_result"
    }
   ],
   "source": [
    "import pandas as pd\n",
    "\n",
    "data = {'Nom':['Pere', 'Alice', 'Marta', 'Tom'],\n",
    "        'Edat':[20, 21, 19, 18]}\n",
    "\n",
    "pd.DataFrame(data)"
   ]
  },
  {
   "cell_type": "code",
   "execution_count": 37,
   "metadata": {},
   "outputs": [
    {
     "data": {
      "text/html": [
       "<div>\n",
       "<style scoped>\n",
       "    .dataframe tbody tr th:only-of-type {\n",
       "        vertical-align: middle;\n",
       "    }\n",
       "\n",
       "    .dataframe tbody tr th {\n",
       "        vertical-align: top;\n",
       "    }\n",
       "\n",
       "    .dataframe thead th {\n",
       "        text-align: right;\n",
       "    }\n",
       "</style>\n",
       "<table border=\"1\" class=\"dataframe\">\n",
       "  <thead>\n",
       "    <tr style=\"text-align: right;\">\n",
       "      <th></th>\n",
       "      <th>valors</th>\n",
       "      <th>clau</th>\n",
       "    </tr>\n",
       "  </thead>\n",
       "  <tbody>\n",
       "    <tr>\n",
       "      <th>0</th>\n",
       "      <td>0</td>\n",
       "      <td>A</td>\n",
       "    </tr>\n",
       "    <tr>\n",
       "      <th>1</th>\n",
       "      <td>1</td>\n",
       "      <td>B</td>\n",
       "    </tr>\n",
       "    <tr>\n",
       "      <th>2</th>\n",
       "      <td>2</td>\n",
       "      <td>C</td>\n",
       "    </tr>\n",
       "    <tr>\n",
       "      <th>3</th>\n",
       "      <td>3</td>\n",
       "      <td>A</td>\n",
       "    </tr>\n",
       "    <tr>\n",
       "      <th>4</th>\n",
       "      <td>4</td>\n",
       "      <td>B</td>\n",
       "    </tr>\n",
       "    <tr>\n",
       "      <th>5</th>\n",
       "      <td>5</td>\n",
       "      <td>C</td>\n",
       "    </tr>\n",
       "  </tbody>\n",
       "</table>\n",
       "</div>"
      ],
      "text/plain": [
       "   valors clau\n",
       "0       0    A\n",
       "1       1    B\n",
       "2       2    C\n",
       "3       3    A\n",
       "4       4    B\n",
       "5       5    C"
      ]
     },
     "execution_count": 37,
     "metadata": {},
     "output_type": "execute_result"
    }
   ],
   "source": [
    "pd.DataFrame({ \n",
    "    'clau':['A','B','C','A','B','C'] ,\n",
    "    'valors' : range(6) \n",
    "    }, \n",
    "    columns = ['valors','clau'] \n",
    ")"
   ]
  },
  {
   "cell_type": "markdown",
   "metadata": {},
   "source": [
    "Els valors de les columnes no han de ser número poden ser cadenes de text. A més, també podem assignar etiquetes a les files de la taula mitjançant el paràmetre index."
   ]
  },
  {
   "cell_type": "code",
   "execution_count": 38,
   "metadata": {},
   "outputs": [
    {
     "data": {
      "text/html": [
       "<div>\n",
       "<style scoped>\n",
       "    .dataframe tbody tr th:only-of-type {\n",
       "        vertical-align: middle;\n",
       "    }\n",
       "\n",
       "    .dataframe tbody tr th {\n",
       "        vertical-align: top;\n",
       "    }\n",
       "\n",
       "    .dataframe thead th {\n",
       "        text-align: right;\n",
       "    }\n",
       "</style>\n",
       "<table border=\"1\" class=\"dataframe\">\n",
       "  <thead>\n",
       "    <tr style=\"text-align: right;\">\n",
       "      <th></th>\n",
       "      <th>Pere</th>\n",
       "      <th>Marta</th>\n",
       "    </tr>\n",
       "  </thead>\n",
       "  <tbody>\n",
       "    <tr>\n",
       "      <th>Producte A</th>\n",
       "      <td>M'agrada</td>\n",
       "      <td>No està malament</td>\n",
       "    </tr>\n",
       "    <tr>\n",
       "      <th>Producte B</th>\n",
       "      <td>No m'agrada</td>\n",
       "      <td>M'agrada</td>\n",
       "    </tr>\n",
       "  </tbody>\n",
       "</table>\n",
       "</div>"
      ],
      "text/plain": [
       "                   Pere             Marta\n",
       "Producte A     M'agrada  No està malament\n",
       "Producte B  No m'agrada          M'agrada"
      ]
     },
     "execution_count": 38,
     "metadata": {},
     "output_type": "execute_result"
    }
   ],
   "source": [
    "pd.DataFrame({'Pere': ['M\\'agrada', 'No m\\'agrada'], \n",
    "              'Marta': ['No està malament', 'M\\'agrada']},\n",
    "             index=['Producte A', 'Producte B'])"
   ]
  },
  {
   "cell_type": "markdown",
   "metadata": {},
   "source": [
    "## Series\n",
    "---------------------\n",
    "\n",
    "Una sèrie, és senzillament una seqüència de valors de dades. Si un DataFrame és una taula, una Sèrie és una llista. I, de fet, es poden crear mitjanpodeu crear-ne un amb res més que una llista:\n",
    "La classe [*Serie*](https://pandas.pydata.org/docs/reference/series.html) és una única columna d'un DataFrame i com a tal podem assignar-li etiquetes a la fila.\n",
    "\n",
    "Per exemple:"
   ]
  },
  {
   "cell_type": "code",
   "execution_count": 39,
   "metadata": {},
   "outputs": [
    {
     "data": {
      "text/plain": [
       "0    1\n",
       "1    2\n",
       "2    3\n",
       "3    4\n",
       "4    5\n",
       "dtype: int64"
      ]
     },
     "execution_count": 39,
     "metadata": {},
     "output_type": "execute_result"
    }
   ],
   "source": [
    "pd.Series([1, 2, 3, 4, 5])"
   ]
  },
  {
   "cell_type": "code",
   "execution_count": 40,
   "metadata": {},
   "outputs": [
    {
     "data": {
      "text/plain": [
       "2015 Vendes    30\n",
       "2016 Vendes    35\n",
       "2017 Vendes    40\n",
       "Name: Producte A, dtype: int64"
      ]
     },
     "execution_count": 40,
     "metadata": {},
     "output_type": "execute_result"
    }
   ],
   "source": [
    "pd.Series([30, 35, 40], index=['2015 Vendes', '2016 Vendes', '2017 Vendes'], name='Producte A')"
   ]
  },
  {
   "cell_type": "markdown",
   "metadata": {},
   "source": [
    "\n",
    "## Importació\n",
    "---------------------\n",
    "\n",
    "Podem importar dades a DataFrames de Pandas de diferents orígen i formats. Alguns dels més utilitzats són:\n",
    "\n",
    "* De CSV: con [`read_csv`](https://pandas.pydata.org/pandas-docs/stable/generated/pandas.read_csv.html)\n",
    "* De Excel: con [`read_excel`](https://pandas.pydata.org/pandas-docs/stable/generated/pandas.read_excel.html)\n",
    "* De base de datos: con [`read_sql`](https://pandas.pydata.org/pandas-docs/stable/generated/pandas.read_sql.html)\n",
    "* La més genèrica és [`read_table`](https://pandas.pydata.org/pandas-docs/stable/generated/pandas.read_table.html)\n",
    "\n",
    "\n",
    "En aquest exemple veiem la manera d'importar les dades a partir d'un fitxer CSV. Aquest fitxer conté dades d'anuncis de venda de cotxes de segona mà de diferents plataformes. Origen del [dataset](https://www.kaggle.com/datasets/datamarket/venta-de-coches)\n",
    "\n",
    "**Nota:** Per poder manipular base de dades SQLite podem utilitzar l'eina [DB Browser for SQLite ](https://sqlitebrowser.org/)"
   ]
  },
  {
   "cell_type": "code",
   "execution_count": null,
   "metadata": {},
   "outputs": [],
   "source": [
    "\n",
    "#Importar dadades des d'un CSV\n",
    "import pandas as pd\n",
    "\n",
    "cotxes = pd.read_csv('dataset/venda-cotxes-segona-ma.csv', index_col=False)\n",
    "cotxes.head()\n"
   ]
  },
  {
   "cell_type": "code",
   "execution_count": null,
   "metadata": {},
   "outputs": [],
   "source": [
    "\n",
    "#Importar dadades des d'un Excel\n",
    "import pandas as pd\n",
    "\n",
    "cotxes = pd.read_excel('dataset/venda-cotxes-segona-ma.xlsx', index_col=0)\n",
    "cotxes.head()\n"
   ]
  },
  {
   "cell_type": "code",
   "execution_count": null,
   "metadata": {},
   "outputs": [],
   "source": [
    "\n",
    "#Importar dadades des d'una BD SQL (SQLite)\n",
    "import pandas as pd\n",
    "import sqlite3\n",
    "\n",
    "# Creem una conexió a la base de dades SQLite\n",
    "con = sqlite3.connect(\"dataset/venda-cotxes-segona-ma.db\")\n",
    "\n",
    "#\n",
    "cotxes = pd.read_sql(\"SELECT * FROM cotxes\", con)\n",
    "cotxes.head()\n",
    "\n",
    "#Tanquem la connexió\n",
    "con.close()\n"
   ]
  },
  {
   "cell_type": "code",
   "execution_count": null,
   "metadata": {},
   "outputs": [],
   "source": [
    "#Podem importar dades directament d'una URL\n",
    "import pandas as pd\n",
    "\n",
    "df = pd.read_csv(\"http://winterolympicsmedals.com/medals.csv\")\n",
    "df.head()"
   ]
  },
  {
   "cell_type": "markdown",
   "metadata": {},
   "source": [
    "Alguns dels paràmetres més importants de read_csv són:\n",
    "* delimiter: Indica quin caràcter és el delimitador de valors en el cas d'un CSV seràn les comes\n",
    "* decimal: Indica quin caràcter s'utilitza com a separador de milers\n",
    "* encoding: Indica la codificació de caràcters amb la qual ha de llegir el fitxer. El més usual és \"utf-8\"\n",
    "\n",
    "## Accés a les dades\n",
    "--------------------\n",
    "\n",
    "Podem accedir a les columnes del DataFrme mitjançant el nom de la columna.\n",
    "\n",
    "Per exemple: ```cotxes.price``` obtindria un vector amb la columna de preu de tots els cotxes.\n",
    "\n",
    "L'objecte DataFrame ofereix certes propietats/mètodes per cada columna. Per exemple si posem un punt '.' després del nom de la columna ens apareixeran tots els mètodes disponibles."
   ]
  },
  {
   "cell_type": "code",
   "execution_count": null,
   "metadata": {},
   "outputs": [],
   "source": [
    "# Retorna tot els valors de la columna price\n",
    "cotxes.price"
   ]
  },
  {
   "cell_type": "code",
   "execution_count": null,
   "metadata": {},
   "outputs": [],
   "source": [
    "# Retorna quin és el valor màxim de la columna preu\n",
    "cotxes.price.max()"
   ]
  },
  {
   "cell_type": "code",
   "execution_count": null,
   "metadata": {},
   "outputs": [],
   "source": [
    "# Retorna quina és la posició del valor màxim de la columna preu\n",
    "cotxes.price.argmax()"
   ]
  },
  {
   "cell_type": "code",
   "execution_count": null,
   "metadata": {},
   "outputs": [],
   "source": [
    "# Retorna la mitjana de la columna preu\n",
    "cotxes.price.mean()"
   ]
  },
  {
   "cell_type": "code",
   "execution_count": null,
   "metadata": {},
   "outputs": [],
   "source": [
    "# Retorna la mediana de la columna preu\n",
    "cotxes.price.median()"
   ]
  },
  {
   "cell_type": "code",
   "execution_count": null,
   "metadata": {},
   "outputs": [],
   "source": [
    "# Retorna un resum de la columna\n",
    "cotxes.price.describe()"
   ]
  },
  {
   "cell_type": "markdown",
   "metadata": {},
   "source": [
    "Podem també fer el describe de tot el DataFrame o Transposar files per columnes mitjançant el transpose.\n",
    "Molt sovint també ens interessa saber el tamany del DataFrame. Això ho fem la propietat shape que ens retornarà un vector amb dos valors (qt files, qt columnes)."
   ]
  },
  {
   "cell_type": "code",
   "execution_count": null,
   "metadata": {},
   "outputs": [],
   "source": [
    "# retorna una matriu amb el resum de cada columna\n",
    "cotxes.describe()"
   ]
  },
  {
   "cell_type": "code",
   "execution_count": null,
   "metadata": {},
   "outputs": [],
   "source": [
    "# Si volem transposar (canviar files/columnes) la matriu hi ha el mètode transpose\n",
    "cotxes.describe().transpose()"
   ]
  },
  {
   "cell_type": "code",
   "execution_count": null,
   "metadata": {},
   "outputs": [],
   "source": [
    "# Podem fer la mitjana per cada columna que sigui numèrica\n",
    "cotxes.mean()"
   ]
  },
  {
   "cell_type": "code",
   "execution_count": null,
   "metadata": {},
   "outputs": [],
   "source": [
    "# Si volem saber el tamany del DataFrame utilitzarem la propietat shape (quantitat de files i columnes)\n",
    "cotxes.shape"
   ]
  },
  {
   "cell_type": "code",
   "execution_count": null,
   "metadata": {},
   "outputs": [],
   "source": [
    "# Si volem veure els valors únics d'un camp (quines marques tenim)\n",
    "# retorna un array.\n",
    "cotxes.make.unique()"
   ]
  },
  {
   "cell_type": "code",
   "execution_count": null,
   "metadata": {},
   "outputs": [],
   "source": [
    "# Volem contar quantes files hi ha de cada marca\n",
    "cotxes.make.value_counts()"
   ]
  },
  {
   "cell_type": "code",
   "execution_count": null,
   "metadata": {},
   "outputs": [],
   "source": [
    "#També podem fer la mitjana per columnes (les columnes només han de ser númeriques)\n",
    "cotxes.mean(axis='columns')"
   ]
  },
  {
   "cell_type": "markdown",
   "metadata": {},
   "source": [
    "## Filtre i/o selecció\n",
    "----------------------\n",
    "\n",
    "Per poder seleccionar un subconjunt de les dades que tenim en un Dataframe podem utilitzar les porpietats `loc`, `iloc` i `[]`. El primer `loc` accedirem al grup de files i columnes mitjançant etiquetes o bé amb un array de vooleans. Amb el segon `iloc` accedim al grup de files i columnes mitjançant posicions. Per últim `[]` l'utilitzarem per filtrar per condicions.\n",
    "\n",
    "[https://pandas.pydata.org/docs/user_guide/indexing.html](https://pandas.pydata.org/docs/user_guide/indexing.html#)\n",
    "\n",
    "Aquests mètodes retornen un altre DataFrame. \n",
    "Si volem transformar-lo amb un array d'objectes (Array of object)\n",
    "\n",
    "### Selecció per índexs (`iloc`)\n",
    "\n",
    "Per accedir per posició utilitzant indexos numèrics , utilitzarem iloc[] i dins dels claudators indicarem els índexs de les les files i les columnes que volem seleccionar\n",
    "\n",
    "[https://pandas.pydata.org/docs/reference/api/pandas.DataFrame.iloc.html](https://pandas.pydata.org/docs/reference/api/pandas.DataFrame.iloc.html)\n",
    "\n",
    "Cal tenir en compte que Python utilitza el 0 com a primer valor d'un índex.\n",
    "\n",
    "\n",
    "```python\n",
    "# Sintaxi\n",
    "iloc[<número de files>]\n",
    "iloc[<índex primera fila>:<índex última fila>,<índex primera col>:<índex última col>]\n",
    "iloc[<índex fila a seleccionar>,<índex columna a seleccionar>]\n",
    "iloc[[<índexs de les files no consecutives a seleccionar>],[<índexs de les columnes no consecutives a seleccionar>]]\n",
    "```"
   ]
  },
  {
   "cell_type": "code",
   "execution_count": null,
   "metadata": {},
   "outputs": [],
   "source": [
    "# Seleccionem les 100 primeres observacions\n",
    "cotxes.iloc[100]"
   ]
  },
  {
   "cell_type": "code",
   "execution_count": null,
   "metadata": {},
   "outputs": [],
   "source": [
    "# Seleccionem totes les files i totes les columnes (no filtrem res)\n",
    "cotxes.iloc[:,:]"
   ]
  },
  {
   "cell_type": "code",
   "execution_count": null,
   "metadata": {},
   "outputs": [],
   "source": [
    "# Seleccionem totes les files i la primera columna (company)\n",
    "cotxes.iloc[:,0:1]"
   ]
  },
  {
   "cell_type": "code",
   "execution_count": null,
   "metadata": {},
   "outputs": [],
   "source": [
    "# Seleccionem totes les files i la primera columna (company)\n",
    "cotxes.iloc[:,0]"
   ]
  },
  {
   "cell_type": "code",
   "execution_count": null,
   "metadata": {},
   "outputs": [],
   "source": [
    "# Seleccionem la última columna (insert_date)\n",
    "cotxes.iloc[:,-1]"
   ]
  },
  {
   "cell_type": "code",
   "execution_count": null,
   "metadata": {},
   "outputs": [],
   "source": [
    "# Seleccionem totes les columnes excepte la última\n",
    "cotxes.iloc[:,:-1]"
   ]
  },
  {
   "cell_type": "code",
   "execution_count": null,
   "metadata": {},
   "outputs": [],
   "source": [
    "# Seleccionem les columnes 1, 2, 4 (columnes no consecutives) (make,model,price)\n",
    "cotxes.iloc[:,[1,2,4]] "
   ]
  },
  {
   "cell_type": "markdown",
   "metadata": {},
   "source": [
    "##### Exercicis `iloc`\n",
    "\n",
    "Del dataset venda-cotxes-segona-ma.csv \n",
    "\n",
    "* Mostra les 5 primeres files\n",
    "* Mostra les 5 últimes files\n",
    "* Mostra la fila 10,15,20\n",
    "* Mostra la fila 10, però només volem la marca i el model del cotxe"
   ]
  },
  {
   "cell_type": "code",
   "execution_count": null,
   "metadata": {},
   "outputs": [],
   "source": []
  },
  {
   "cell_type": "markdown",
   "metadata": {},
   "source": [
    "### Selecció per etiquetes (`loc`)\n",
    "\n",
    "Amb `loc` podem seleccionar un grup de files i/o columnes a través d'etiquetes o un array de booleans.\n",
    "\n",
    "[https://pandas.pydata.org/docs/reference/api/pandas.DataFrame.loc.html](https://pandas.pydata.org/docs/reference/api/pandas.DataFrame.loc.html)\n",
    "\n",
    "\n",
    "* Una sola etiqueta, per exemple. `5` or `'a'`, (el 5 és interpretat com una etiqueta i no com un índex).\n",
    "* Un array d'etiquetes, per exemple. `['a', 'b', 'c']`.\n",
    "* Un rang/tall d'objectes amb etiques, per exemple. 'a':'f'.\n",
    "* Un array de booleans amb la mateixa longitud que el número de columnes. True significarà que volem la columna i False no."
   ]
  },
  {
   "cell_type": "code",
   "execution_count": null,
   "metadata": {},
   "outputs": [],
   "source": [
    "# Seleccionem totes les files i només mostrarem les columnes `make` i `price`\n",
    "cotxes.loc[:,['make','price']]"
   ]
  },
  {
   "cell_type": "code",
   "execution_count": null,
   "metadata": {},
   "outputs": [],
   "source": [
    "# Seleccionem totes les files i les columnes compreses entre `make` i `fuel`\n",
    "cotxes.loc[:,'make':'fuel']"
   ]
  },
  {
   "cell_type": "code",
   "execution_count": null,
   "metadata": {},
   "outputs": [],
   "source": [
    "# Selecciona el valor de la cel·la de la fila 0 i la columna `make`. Per tant només retorna una valor\n",
    "cotxes.loc[1,'make']"
   ]
  },
  {
   "cell_type": "code",
   "execution_count": null,
   "metadata": {},
   "outputs": [],
   "source": [
    "# Seleccionem només la primera columna (company)\n",
    "cotxes.loc[:,[True,False,False,False,False,False,False,False,False,False,False,False,False,False,False,False,False,False,False,False]]"
   ]
  },
  {
   "cell_type": "code",
   "execution_count": null,
   "metadata": {},
   "outputs": [],
   "source": [
    "# Seleccionem només les files que `cotxes.make==\"BMW\"` retornin True.\n",
    "cotxes.loc[cotxes.make==\"BMW\"]"
   ]
  },
  {
   "cell_type": "markdown",
   "metadata": {},
   "source": [
    "### Selecció per condicions (`[]`)\n",
    "\n",
    "Amb el seleccionador també podem obtenir files i columnes. Fins i tot podem demanar que ens retorni les files de 5 en 5."
   ]
  },
  {
   "cell_type": "code",
   "execution_count": null,
   "metadata": {},
   "outputs": [],
   "source": [
    "# Seleccionar els cotxes de la fila 10 a la 50 de 5 en 5\n",
    "cotxes[10:50:5]"
   ]
  },
  {
   "cell_type": "markdown",
   "metadata": {},
   "source": [
    "Podem seleccionar files que compleixin una certa condició. Li passem al DataFrame una sère de booleans o una condició lògica que retorni un booleà.\n",
    "\n",
    "Podem combinar diferents condicions amb & (operador i lògic) i | (operador o lògic)"
   ]
  },
  {
   "cell_type": "code",
   "execution_count": null,
   "metadata": {},
   "outputs": [],
   "source": [
    "# Seleccionem els cotxes que només siguin de la marca BMW\n",
    "cotxes[cotxes.make==\"BMW\"]"
   ]
  },
  {
   "cell_type": "code",
   "execution_count": null,
   "metadata": {},
   "outputs": [],
   "source": [
    "# Seleccionem els cotxes que siguin de la marca BMW i que el seu preu sigui inferior a 20.000\n",
    "cotxes[(cotxes.make==\"BMW\") & (cotxes.price<20000)]"
   ]
  },
  {
   "cell_type": "code",
   "execution_count": null,
   "metadata": {},
   "outputs": [],
   "source": [
    "# Seleccionem els cotxes que siguin de la marca BMW i SEAT\n",
    "cotxes[(cotxes.make==\"BMW\") | (cotxes.make==\"SEAT\")]"
   ]
  },
  {
   "cell_type": "markdown",
   "metadata": {},
   "source": [
    "### selector IS IN\n",
    "\n",
    "A través del selector IS IN podem seleccionar dades els valor del qual es troba dins d'una llista. Vindria a ser l'operador `IN` d'SQL\n"
   ]
  },
  {
   "cell_type": "code",
   "execution_count": null,
   "metadata": {},
   "outputs": [],
   "source": [
    "# Seleccionem els cotex que siguin de la marca BMW i SEAT\n",
    "cotxes[cotxes.make.isin([\"BMW\",\"SEAT\"])]"
   ]
  },
  {
   "cell_type": "markdown",
   "metadata": {},
   "source": [
    "### selectors ISNULL/NOTNULL\n",
    "\n",
    "Amb aquest selectors podem obtenir aquelles dades que són o no buides (NaN)."
   ]
  },
  {
   "cell_type": "code",
   "execution_count": null,
   "metadata": {},
   "outputs": [],
   "source": [
    "# Seleccionem els cotxes que no tinguin valor en el camp power\n",
    "cotxes[cotxes.power.isnull()]"
   ]
  },
  {
   "cell_type": "code",
   "execution_count": null,
   "metadata": {},
   "outputs": [],
   "source": [
    "# Seleccionem els cotxes que tinguin valor en el camp power\n",
    "cotxes[cotxes.power.notnull()]"
   ]
  },
  {
   "cell_type": "markdown",
   "metadata": {},
   "source": [
    "**Important**: Podem combinar les propietats anteriors per fer seleccions més complexes"
   ]
  },
  {
   "cell_type": "code",
   "execution_count": null,
   "metadata": {},
   "outputs": [],
   "source": [
    "# De tots els cotxes BMW i que el seu preu sigui inferior a 20.000 retornem només la columna `company` (companyia)\n",
    "cotxes[(cotxes.make==\"BMW\") & (cotxes.price<20000)].loc[:,'company']"
   ]
  },
  {
   "cell_type": "markdown",
   "metadata": {
    "tags": []
   },
   "source": [
    "## Ordenació\n",
    "------------\n",
    "\n",
    "Podem ordenar un DataFrame per una o diferent columnes mitjanánt el mètode `sort_values`"
   ]
  },
  {
   "cell_type": "code",
   "execution_count": null,
   "metadata": {},
   "outputs": [],
   "source": [
    "# Ordenem els cotxes per pereu de forma ascendent\n",
    "cotxes.sort_values('price',ascending=True)"
   ]
  },
  {
   "cell_type": "code",
   "execution_count": null,
   "metadata": {},
   "outputs": [],
   "source": [
    "# Ordenem els cotxes per pereu de forma ascendent i any de forma descendent\n",
    "cotxes.sort_values(['price','year'],ascending=[True,False])"
   ]
  },
  {
   "cell_type": "markdown",
   "metadata": {},
   "source": [
    "## Transformació\n",
    "----------------\n",
    "\n",
    "Molt sovint hem de realitzar canvis en el nostra DataFrame. Afegir, eliminar i renombrar columnes a més de canviar algun tipus de dades.\n",
    "\n",
    "#### Afegir columna\n",
    "\n",
    "Podem afegir columnes noves mitjançant columnes existens aplicant-li expressions."
   ]
  },
  {
   "cell_type": "code",
   "execution_count": null,
   "metadata": {},
   "outputs": [],
   "source": [
    "# AFegim una nova columna al final del DataFrame\n",
    "cotxes['price_dte'] = cotxes.price * 0.20\n",
    "\n",
    "#Afegim una nova columna en una ubicació espcífica.\n",
    "cotxes.insert(3,'price_50', cotxes.price * 0.50)\n"
   ]
  },
  {
   "cell_type": "markdown",
   "metadata": {},
   "source": [
    "Possiblament la forma més eficient de reorganitzar les columnes és mitjançant `reindex`"
   ]
  },
  {
   "cell_type": "code",
   "execution_count": null,
   "metadata": {},
   "outputs": [],
   "source": [
    "# En l'exemple reindexem les columnes, però si no afegim totes les columnes del DataFrame aquestes s'esborren.\n",
    "cotxes = cotxes.reindex(columns=['version','model','company','price','price_financed','price_dte'])"
   ]
  },
  {
   "cell_type": "markdown",
   "metadata": {},
   "source": [
    "Si volem aplicar una funció a cada elment per cada fila o columna podem utilitzar `apply`\n",
    "`Compte:` Per defecte aquest mètode retorna un DataFrame i no modifica l'actual."
   ]
  },
  {
   "cell_type": "code",
   "execution_count": null,
   "metadata": {},
   "outputs": [],
   "source": [
    "\n",
    "# Amb el paràmetre axis indiquem si volem files o columnes. axis=0 s'aplica per cada columna, axis=1 s'aplica a cada fila\n",
    "df = cotxes.apply(lambda fila: str(fila.model)+'-'+str(fila.version), axis=1)\n",
    "\n",
    "# Podem utilitzar insert per afegir aquesta nova columna \n",
    "cotxes.insert(3,'descripcio',cotxes.apply(lambda fila: str(fila.model)+' - '+str(fila.version), axis=1))"
   ]
  },
  {
   "cell_type": "markdown",
   "metadata": {},
   "source": [
    "#### Renombrar una columna\n",
    "\n",
    "cotxes = cotxes.rename(columns={'price_dte': 'precio_90_metros'})"
   ]
  },
  {
   "cell_type": "markdown",
   "metadata": {},
   "source": [
    " En general, les funcions de pandas retornen un nou objecte amb el resultat de l'operació, però no modifiquen l'actual DataFrame. Hi ha el paràmetre `inplace`amb valor per defecte a `False`. Si el posem a `True` l'operació es  realitzarà a l'objecte passat per paràmetre."
   ]
  },
  {
   "cell_type": "markdown",
   "metadata": {},
   "source": [
    "\n",
    "\n",
    "## Pandasql\n",
    "-----------\n",
    "\n",
    "Si estàs acostumat a treballar amb SQL mira't la llibreria Pandasql. Aquesta llibreria permet manipular Dataframes de Pandas utilitzant SQL.\n",
    "\n",
    "[https://towardsdatascience.com/query-pandas-dataframe-with-sql](https://towardsdatascience.com/query-pandas-dataframe-with-sql-2bb7a509793d)\n",
    "\n",
    "## Exportació\n",
    "-------------\n",
    "\n"
   ]
  },
  {
   "cell_type": "code",
   "execution_count": null,
   "metadata": {},
   "outputs": [],
   "source": []
  }
 ],
 "metadata": {
  "kernelspec": {
   "display_name": "Python 3 (ipykernel)",
   "language": "python",
   "name": "python3"
  },
  "language_info": {
   "codemirror_mode": {
    "name": "ipython",
    "version": 3
   },
   "file_extension": ".py",
   "mimetype": "text/x-python",
   "name": "python",
   "nbconvert_exporter": "python",
   "pygments_lexer": "ipython3",
   "version": "3.9.12"
  },
  "vscode": {
   "interpreter": {
    "hash": "cf02e6bf250f77d388a6bc5f87ea1eec704c2fee4b623a6d66585fe8e13b7d67"
   }
  }
 },
 "nbformat": 4,
 "nbformat_minor": 4
}
