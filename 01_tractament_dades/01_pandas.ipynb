{
 "cells": [
  {
   "cell_type": "markdown",
   "metadata": {},
   "source": [
    "Tractament de dades\n",
    "===================\n",
    "\n",
    "***\n",
    "\n",
    "En aquest apartat veurem quines són les llibreries més utilitzades alhora d'importar i exportar dades, realitzar operacions de tractament, visualització, etc..\n",
    "\n",
    "Llibreries\n",
    "----------\n",
    "Les llibreries que tractarem seran:\n",
    "\n",
    "* Pandas: Llibreria que ens permet la importació o càrrega, exportació i operaciones amb dades.\n",
    "* NumPy: **Num**erical **Py**ton  és un llibreria especialitzada en el càlcul numèric, l'anàlisi de dades, tractament de vectors i matrius per un gran volum de dades. https://numpy.org/ \n",
    "* MatplotLib: Llibreria per mostrar gràfiques\n",
    "* Seaborn : Llibreria per mostrar gràfiques i fer una primer exploració de dades\n",
    "\n",
    "\n",
    "Importació llibreries\n",
    "---------------------\n",
    "Per importar les llibreries amb python utilitzarem la paraula import\n",
    "```python\n",
    "import numpy as np\n",
    "```\n",
    "\n",
    "Per importar subllibreries.\n",
    "```python\n",
    "import matplotlib.pylot as plt\n",
    "```"
   ]
  },
  {
   "cell_type": "markdown",
   "metadata": {},
   "source": [
    "\n",
    "***\n",
    "\n",
    "Introducció a Pandas <img align=\"right\"  width=\"185\" height=\"75\"  src=\"img/pandas-logo.png\" alt=\"pandas_logo\"/>\n",
    "---------------------\n",
    "\n",
    "## DataFrame\n",
    "\n",
    "L'objecte DataFrame és un dels objectes més utlitzats ja que igual que R és aquell que utilitzarem per tractar les dades.\n",
    "Serà una taula de doble entrada (files i columnes).\n",
    "\n",
    "### Creació d'un DataFrame\n",
    "data = {'Name':['Tom', 'nick', 'krish', 'jack'],\n",
    "        'Age':[20, 21, 19, 18]}\n",
    "\n",
    "df = pd.DataFrame(data)\n",
    "\n",
    "df2 = pd.DataFrame({\n",
    "    'key':['A','B','C','A','B','C']\n",
    "    'values' : range(6)\n",
    "    },\n",
    "    columns = ['key','values']\n",
    ")\n",
    "\n",
    "\n",
    "### Importació\n",
    "\n",
    "\n",
    "Pandas carrega les dades amb el que ell anomena DataFrame i les tracta en format de taula.\n",
    "Podem importar dades a DataFrames de Pandas de diferents orígen i formats. Alguns dels més utilitzats són:\n",
    "\n",
    "* De CSV: con [`read_csv`](https://pandas.pydata.org/pandas-docs/stable/generated/pandas.read_csv.html)\n",
    "* De Excel: con [`read_excel`](https://pandas.pydata.org/pandas-docs/stable/generated/pandas.read_excel.html)\n",
    "* De base de datos: con [`read_sql`](https://pandas.pydata.org/pandas-docs/stable/generated/pandas.read_sql.html)\n",
    "* La més genèrica és [`read_table`](https://pandas.pydata.org/pandas-docs/stable/generated/pandas.read_table.html)\n",
    "\n",
    "\n",
    "En aquest exemple veiem la manera d'importar les dades a partir d'un fitxer CSV. Aquest fitxer conté dades d'anuncis de venda de cotxes de segona mà de diferents plataformes. Origen del [dataset](https://www.kaggle.com/datasets/datamarket/venta-de-coches)\n",
    "\n",
    "**Nota:** Per poder manipular base de dades SQLite podem utilitzar l'eina [DB Browser for SQLite ](https://sqlitebrowser.org/)"
   ]
  },
  {
   "cell_type": "code",
   "execution_count": 1,
   "metadata": {},
   "outputs": [
    {
     "data": {
      "text/html": [
       "<div>\n",
       "<style scoped>\n",
       "    .dataframe tbody tr th:only-of-type {\n",
       "        vertical-align: middle;\n",
       "    }\n",
       "\n",
       "    .dataframe tbody tr th {\n",
       "        vertical-align: top;\n",
       "    }\n",
       "\n",
       "    .dataframe thead th {\n",
       "        text-align: right;\n",
       "    }\n",
       "</style>\n",
       "<table border=\"1\" class=\"dataframe\">\n",
       "  <thead>\n",
       "    <tr style=\"text-align: right;\">\n",
       "      <th></th>\n",
       "      <th>company</th>\n",
       "      <th>make</th>\n",
       "      <th>model</th>\n",
       "      <th>version</th>\n",
       "      <th>price</th>\n",
       "      <th>price_financed</th>\n",
       "      <th>fuel</th>\n",
       "      <th>year</th>\n",
       "      <th>kms</th>\n",
       "      <th>power</th>\n",
       "      <th>doors</th>\n",
       "      <th>shift</th>\n",
       "      <th>color</th>\n",
       "      <th>photos</th>\n",
       "      <th>is_professional</th>\n",
       "      <th>dealer</th>\n",
       "      <th>phone</th>\n",
       "      <th>province</th>\n",
       "      <th>publish_date</th>\n",
       "      <th>insert_date</th>\n",
       "    </tr>\n",
       "  </thead>\n",
       "  <tbody>\n",
       "    <tr>\n",
       "      <th>0</th>\n",
       "      <td>9881BCDD5A0AD4733037B3FB25E69C3A</td>\n",
       "      <td>KIA</td>\n",
       "      <td>Carnival</td>\n",
       "      <td>KIA Carnival 2.9 CRDi VGT EX 5p.</td>\n",
       "      <td>4860</td>\n",
       "      <td>4860.0</td>\n",
       "      <td>Diésel</td>\n",
       "      <td>2007</td>\n",
       "      <td>221000</td>\n",
       "      <td>185.0</td>\n",
       "      <td>5.0</td>\n",
       "      <td>Manual</td>\n",
       "      <td>Beige (champagne)</td>\n",
       "      <td>8</td>\n",
       "      <td>True</td>\n",
       "      <td>VM Motor</td>\n",
       "      <td>928493782</td>\n",
       "      <td>Las Palmas</td>\n",
       "      <td>2020-12-22 13:28:36</td>\n",
       "      <td>2020-12-25 00:00:00</td>\n",
       "    </tr>\n",
       "    <tr>\n",
       "      <th>1</th>\n",
       "      <td>9881BCDD5A0AD4733037B3FB25E69C3A</td>\n",
       "      <td>BMW</td>\n",
       "      <td>Serie 5</td>\n",
       "      <td>BMW Serie 5  4p.</td>\n",
       "      <td>1800</td>\n",
       "      <td>NaN</td>\n",
       "      <td>Diésel</td>\n",
       "      <td>2001</td>\n",
       "      <td>205000</td>\n",
       "      <td>NaN</td>\n",
       "      <td>4.0</td>\n",
       "      <td>Manual</td>\n",
       "      <td>Verde</td>\n",
       "      <td>0</td>\n",
       "      <td>False</td>\n",
       "      <td>3F128E570B3A9009D7B52A0523AF43DD</td>\n",
       "      <td>DBB2949B54A306BA299A791B860EEBF6</td>\n",
       "      <td>Tarragona</td>\n",
       "      <td>2020-12-14 07:02:22</td>\n",
       "      <td>2020-12-26 00:00:00</td>\n",
       "    </tr>\n",
       "    <tr>\n",
       "      <th>2</th>\n",
       "      <td>9881BCDD5A0AD4733037B3FB25E69C3A</td>\n",
       "      <td>FIAT</td>\n",
       "      <td>500</td>\n",
       "      <td>FIAT 500 1.2 8v 51kW 69CV Lounge 3p.</td>\n",
       "      <td>6490</td>\n",
       "      <td>6490.0</td>\n",
       "      <td>Gasolina</td>\n",
       "      <td>2017</td>\n",
       "      <td>75000</td>\n",
       "      <td>69.0</td>\n",
       "      <td>3.0</td>\n",
       "      <td>Manual</td>\n",
       "      <td>Negro</td>\n",
       "      <td>7</td>\n",
       "      <td>True</td>\n",
       "      <td>LAS PALMAS MOTOR</td>\n",
       "      <td>653895468</td>\n",
       "      <td>Las Palmas</td>\n",
       "      <td>2020-11-20 18:30:00</td>\n",
       "      <td>2020-12-08 00:00:00</td>\n",
       "    </tr>\n",
       "    <tr>\n",
       "      <th>3</th>\n",
       "      <td>9881BCDD5A0AD4733037B3FB25E69C3A</td>\n",
       "      <td>OPEL</td>\n",
       "      <td>Astra</td>\n",
       "      <td>OPEL Astra  3p.</td>\n",
       "      <td>5550</td>\n",
       "      <td>NaN</td>\n",
       "      <td>Diésel</td>\n",
       "      <td>2009</td>\n",
       "      <td>137000</td>\n",
       "      <td>NaN</td>\n",
       "      <td>3.0</td>\n",
       "      <td>Manual</td>\n",
       "      <td>Rojo</td>\n",
       "      <td>0</td>\n",
       "      <td>False</td>\n",
       "      <td>22003DEA67E7C5BE6022A29E677668BC</td>\n",
       "      <td>67990DA67E557C1D0C1B6D1DB731938C</td>\n",
       "      <td>Barcelona</td>\n",
       "      <td>2020-11-21 16:37:13</td>\n",
       "      <td>2020-11-24 00:00:00</td>\n",
       "    </tr>\n",
       "    <tr>\n",
       "      <th>4</th>\n",
       "      <td>9881BCDD5A0AD4733037B3FB25E69C3A</td>\n",
       "      <td>MERCEDES-BENZ</td>\n",
       "      <td>Clase C</td>\n",
       "      <td>MERCEDES-BENZ Clase C C 220 CDI AVANTGARDE 4p.</td>\n",
       "      <td>11990</td>\n",
       "      <td>11490.0</td>\n",
       "      <td>Diésel</td>\n",
       "      <td>2008</td>\n",
       "      <td>95000</td>\n",
       "      <td>170.0</td>\n",
       "      <td>4.0</td>\n",
       "      <td>Automático</td>\n",
       "      <td>Gris / Plata</td>\n",
       "      <td>21</td>\n",
       "      <td>True</td>\n",
       "      <td>Autos Lipiz</td>\n",
       "      <td>646179040</td>\n",
       "      <td>Madrid</td>\n",
       "      <td>2020-11-05 19:09:27</td>\n",
       "      <td>2020-12-01 00:00:00</td>\n",
       "    </tr>\n",
       "  </tbody>\n",
       "</table>\n",
       "</div>"
      ],
      "text/plain": [
       "                            company           make     model  \\\n",
       "0  9881BCDD5A0AD4733037B3FB25E69C3A            KIA  Carnival   \n",
       "1  9881BCDD5A0AD4733037B3FB25E69C3A            BMW   Serie 5   \n",
       "2  9881BCDD5A0AD4733037B3FB25E69C3A           FIAT       500   \n",
       "3  9881BCDD5A0AD4733037B3FB25E69C3A           OPEL     Astra   \n",
       "4  9881BCDD5A0AD4733037B3FB25E69C3A  MERCEDES-BENZ   Clase C   \n",
       "\n",
       "                                          version  price  price_financed  \\\n",
       "0                KIA Carnival 2.9 CRDi VGT EX 5p.   4860          4860.0   \n",
       "1                                BMW Serie 5  4p.   1800             NaN   \n",
       "2            FIAT 500 1.2 8v 51kW 69CV Lounge 3p.   6490          6490.0   \n",
       "3                                 OPEL Astra  3p.   5550             NaN   \n",
       "4  MERCEDES-BENZ Clase C C 220 CDI AVANTGARDE 4p.  11990         11490.0   \n",
       "\n",
       "       fuel  year     kms  power  doors       shift              color  \\\n",
       "0    Diésel  2007  221000  185.0    5.0      Manual  Beige (champagne)   \n",
       "1    Diésel  2001  205000    NaN    4.0      Manual              Verde   \n",
       "2  Gasolina  2017   75000   69.0    3.0      Manual              Negro   \n",
       "3    Diésel  2009  137000    NaN    3.0      Manual               Rojo   \n",
       "4    Diésel  2008   95000  170.0    4.0  Automático       Gris / Plata   \n",
       "\n",
       "   photos  is_professional                            dealer  \\\n",
       "0       8             True                          VM Motor   \n",
       "1       0            False  3F128E570B3A9009D7B52A0523AF43DD   \n",
       "2       7             True                  LAS PALMAS MOTOR   \n",
       "3       0            False  22003DEA67E7C5BE6022A29E677668BC   \n",
       "4      21             True                       Autos Lipiz   \n",
       "\n",
       "                              phone    province         publish_date  \\\n",
       "0                         928493782  Las Palmas  2020-12-22 13:28:36   \n",
       "1  DBB2949B54A306BA299A791B860EEBF6   Tarragona  2020-12-14 07:02:22   \n",
       "2                         653895468  Las Palmas  2020-11-20 18:30:00   \n",
       "3  67990DA67E557C1D0C1B6D1DB731938C   Barcelona  2020-11-21 16:37:13   \n",
       "4                         646179040      Madrid  2020-11-05 19:09:27   \n",
       "\n",
       "           insert_date  \n",
       "0  2020-12-25 00:00:00  \n",
       "1  2020-12-26 00:00:00  \n",
       "2  2020-12-08 00:00:00  \n",
       "3  2020-11-24 00:00:00  \n",
       "4  2020-12-01 00:00:00  "
      ]
     },
     "execution_count": 1,
     "metadata": {},
     "output_type": "execute_result"
    }
   ],
   "source": [
    "\n",
    "#Importar dadades des d'un CSV\n",
    "import pandas as pd\n",
    "\n",
    "cotxes = pd.read_csv('dataset/venda-cotxes-segona-ma.csv', index_col=False)\n",
    "cotxes.head()\n"
   ]
  },
  {
   "cell_type": "code",
   "execution_count": null,
   "metadata": {},
   "outputs": [],
   "source": [
    "\n",
    "#Importar dadades des d'un Excel\n",
    "import pandas as pd\n",
    "\n",
    "cotxes = pd.read_excel('dataset/venda-cotxes-segona-ma.xlsx', index_col=0)\n",
    "cotxes.head()\n"
   ]
  },
  {
   "cell_type": "code",
   "execution_count": null,
   "metadata": {},
   "outputs": [],
   "source": [
    "\n",
    "#Importar dadades des d'una BD SQL (SQLite)\n",
    "import pandas as pd\n",
    "import sqlite3\n",
    "\n",
    "# Creem una conexió a la base de dades SQLite\n",
    "con = sqlite3.connect(\"dataset/venda-cotxes-segona-ma.db\")\n",
    "\n",
    "#\n",
    "cotxes = pd.read_sql(\"SELECT * FROM cotxes\", con)\n",
    "cotxes.head()\n",
    "\n",
    "#Tanquem la connexió\n",
    "con.close()\n"
   ]
  },
  {
   "cell_type": "code",
   "execution_count": null,
   "metadata": {},
   "outputs": [],
   "source": [
    "#Podem importar dades directament d'una URL\n",
    "import pandas as pd\n",
    "\n",
    "df = pd.read_csv(\"http://winterolympicsmedals.com/medals.csv\")\n",
    "df.head()"
   ]
  },
  {
   "cell_type": "markdown",
   "metadata": {},
   "source": [
    "Alguns dels paràmetres més importants de read_csv són:\n",
    "* delimiter: Indica quin caràcter és el delimitador de valors en el cas d'un CSV seràn les comes\n",
    "* decimal: Indica quin caràcter s'utilitza com a separador de milers\n",
    "* encoding: Indica la codificació de caràcters amb la qual ha de llegir el fitxer. El més usual és \"utf-8\"\n",
    "\n",
    "### Accés a les dades\n",
    "Podem accedir a les columnes del DataFrme mitjançant el nom de la columna.\n",
    "Per exemple: cotxes.price obtindria un vector amb la columna de preu de tots els cotxes.\n",
    "L'objecte DataFrame ofereix certes propietats/mètodes per cada columna. Per exemple si posem un punt '.' després del nom de la columne ens apareixeran tots els mètodes disponibles."
   ]
  },
  {
   "cell_type": "code",
   "execution_count": 2,
   "metadata": {},
   "outputs": [
    {
     "data": {
      "text/plain": [
       "0        4860\n",
       "1        1800\n",
       "2        6490\n",
       "3        5550\n",
       "4       11990\n",
       "        ...  \n",
       "4995    10200\n",
       "4996     7650\n",
       "4997     6200\n",
       "4998    49900\n",
       "4999    12950\n",
       "Name: price, Length: 5000, dtype: int64"
      ]
     },
     "execution_count": 2,
     "metadata": {},
     "output_type": "execute_result"
    }
   ],
   "source": [
    "#Retorna tot els valors de la columna price\n",
    "cotxes.price"
   ]
  },
  {
   "cell_type": "code",
   "execution_count": 14,
   "metadata": {},
   "outputs": [
    {
     "data": {
      "text/plain": [
       "319900"
      ]
     },
     "execution_count": 14,
     "metadata": {},
     "output_type": "execute_result"
    }
   ],
   "source": [
    "#Retorna quin és el valor màxim de la columna preu\n",
    "cotxes.price.max()"
   ]
  },
  {
   "cell_type": "code",
   "execution_count": 15,
   "metadata": {},
   "outputs": [
    {
     "data": {
      "text/plain": [
       "666"
      ]
     },
     "execution_count": 15,
     "metadata": {},
     "output_type": "execute_result"
    }
   ],
   "source": [
    "#Retorna quina és la posició del valor màxim de la columna preu\n",
    "cotxes.price.argmax()"
   ]
  },
  {
   "cell_type": "code",
   "execution_count": 16,
   "metadata": {},
   "outputs": [
    {
     "data": {
      "text/plain": [
       "15051.3718"
      ]
     },
     "execution_count": 16,
     "metadata": {},
     "output_type": "execute_result"
    }
   ],
   "source": [
    "#Retorna la mitjana de la columna preu\n",
    "cotxes.price.mean()"
   ]
  },
  {
   "cell_type": "code",
   "execution_count": 17,
   "metadata": {},
   "outputs": [
    {
     "data": {
      "text/plain": [
       "11500.0"
      ]
     },
     "execution_count": 17,
     "metadata": {},
     "output_type": "execute_result"
    }
   ],
   "source": [
    "#Retorna la mediana de la columna preu\n",
    "cotxes.price.median()"
   ]
  },
  {
   "cell_type": "code",
   "execution_count": 10,
   "metadata": {},
   "outputs": [
    {
     "data": {
      "text/plain": [
       "count      5000.000000\n",
       "mean      15051.371800\n",
       "std       15398.498471\n",
       "min         300.000000\n",
       "25%        5000.000000\n",
       "50%       11500.000000\n",
       "75%       19990.000000\n",
       "max      319900.000000\n",
       "Name: price, dtype: float64"
      ]
     },
     "execution_count": 10,
     "metadata": {},
     "output_type": "execute_result"
    }
   ],
   "source": [
    "# Retorna un resum de la columna\n",
    "cotxes.price.describe()"
   ]
  },
  {
   "cell_type": "markdown",
   "metadata": {},
   "source": [
    "Podem també fer el describe de tot el DataFrame o Transposar files per columnes mitjançant el transpose.\n",
    "Molt sovint també ens interessa saber el tamany del DataFrame. Això ho fem la propietat shape que ens retornarà un vector amb dos valors (qt files, qt columnes)."
   ]
  },
  {
   "cell_type": "code",
   "execution_count": 6,
   "metadata": {},
   "outputs": [
    {
     "data": {
      "text/plain": [
       "(5000, 20)"
      ]
     },
     "execution_count": 6,
     "metadata": {},
     "output_type": "execute_result"
    }
   ],
   "source": [
    "# retorna una matriu amb el resum de cada columna\n",
    "cotxes.describe()"
   ]
  },
  {
   "cell_type": "code",
   "execution_count": null,
   "metadata": {},
   "outputs": [],
   "source": [
    "#Si volem transposar (canviar files/columnes) la matriu hi ha el mètode transpose\n",
    "cotxes.describe().transpose()"
   ]
  },
  {
   "cell_type": "code",
   "execution_count": null,
   "metadata": {},
   "outputs": [],
   "source": [
    "#Podem fer la mitjana per cada columna que sigui numèrica\n",
    "cotxes.mean()"
   ]
  },
  {
   "cell_type": "code",
   "execution_count": null,
   "metadata": {},
   "outputs": [],
   "source": [
    "#Si volem saber el tamany del DataFrame utilitzarem la propietat shape (quantitat de files i columnes)\n",
    "cotxes.shape"
   ]
  },
  {
   "cell_type": "code",
   "execution_count": 22,
   "metadata": {},
   "outputs": [
    {
     "data": {
      "text/plain": [
       "company             object\n",
       "make                object\n",
       "model               object\n",
       "descripcio          object\n",
       "version             object\n",
       "price                int64\n",
       "price_financed     float64\n",
       "fuel                object\n",
       "year                 int64\n",
       "kms                  int64\n",
       "power              float64\n",
       "doors              float64\n",
       "shift               object\n",
       "color               object\n",
       "photos               int64\n",
       "is_professional       bool\n",
       "dealer              object\n",
       "phone               object\n",
       "province            object\n",
       "publish_date        object\n",
       "insert_date         object\n",
       "dtype: object"
      ]
     },
     "execution_count": 22,
     "metadata": {},
     "output_type": "execute_result"
    }
   ],
   "source": [
    "#També podem fer la mitjana per columnes (les columnes només han de ser númeriques)\n",
    "cotxes.mean(axis='columns')"
   ]
  },
  {
   "cell_type": "markdown",
   "metadata": {},
   "source": [
    "### Filtre i/o selecció\n",
    "\n",
    "Per poder seleccionar un subconjunt de les dades que tenim en un Dataframe podem utilitzar les porpietats `loc`, `iloc` i `[]`. El primer `loc` accedirem al grup de files i columnes mitjançant etiquetes o bé amb un array de vooleans. Amb el segon `iloc` accedim al grup de files i columnes mitjançant posicions. Per últim `[]` l'utilitzarem per filtrar per condicions.\n",
    "\n",
    "[https://pandas.pydata.org/docs/user_guide/indexing.html](https://pandas.pydata.org/docs/user_guide/indexing.html#)\n",
    "\n",
    "Aquests mètodes retornen un altre DataFrame. \n",
    "Si volem transformar-lo amb un array d'objectes (Array of object)\n",
    "\n",
    "#### Selecció per índexs (`iloc`)\n",
    "\n",
    "Per accedir per posició utilitzant indexos numèrics , utilitzarem iloc[] i dins dels claudators indicarem els índexs de les les files i les columnes que volem seleccionar\n",
    "\n",
    "[https://pandas.pydata.org/docs/reference/api/pandas.DataFrame.iloc.html](https://pandas.pydata.org/docs/reference/api/pandas.DataFrame.iloc.html)\n",
    "\n",
    "Cal tenir en compte que Python utilitza el 0 com a primer valor d'un índex.\n",
    "\n",
    "\n",
    "```\n",
    "# Sintaxi\n",
    "iloc[<número de files>]\n",
    "iloc[<índex primera fila>:<índex última fila>,<índex primera col>:<índex última col>]\n",
    "iloc[<índex fila a seleccionar>,<índex columna a seleccionar>]\n",
    "iloc[[<índexs de les files no consecutives a seleccionar>],[<índexs de les columnes no consecutives a seleccionar>]]\n",
    "```"
   ]
  },
  {
   "cell_type": "code",
   "execution_count": null,
   "metadata": {},
   "outputs": [],
   "source": [
    "# Seleccionem les 100 primeres observacions\n",
    "cotxes.iloc[100]"
   ]
  },
  {
   "cell_type": "code",
   "execution_count": null,
   "metadata": {},
   "outputs": [],
   "source": [
    "# Seleccionem totes les files i totes les columnes (no filtrem res)\n",
    "cotxes.iloc[:,:]"
   ]
  },
  {
   "cell_type": "code",
   "execution_count": null,
   "metadata": {},
   "outputs": [],
   "source": [
    "# Seleccionem totes les files i la primera columna (company)\n",
    "cotxes.iloc[:,0:1]"
   ]
  },
  {
   "cell_type": "code",
   "execution_count": null,
   "metadata": {},
   "outputs": [],
   "source": [
    "# Seleccionem totes les files i la primera columna (company)\n",
    "cotxes.iloc[:,0]"
   ]
  },
  {
   "cell_type": "code",
   "execution_count": null,
   "metadata": {},
   "outputs": [],
   "source": [
    "# Seleccionem la última columna (insert_date)\n",
    "cotxes.iloc[:,-1]"
   ]
  },
  {
   "cell_type": "code",
   "execution_count": null,
   "metadata": {},
   "outputs": [],
   "source": [
    "# Seleccionem totes les columnes excepte la última\n",
    "cotxes.iloc[:,:-1]"
   ]
  },
  {
   "cell_type": "code",
   "execution_count": null,
   "metadata": {},
   "outputs": [],
   "source": [
    "# Seleccionem les columnes 1, 2, 4 (columnes no consecutives) (make,model,price)\n",
    "cotxes.iloc[:,[1,2,4]] "
   ]
  },
  {
   "cell_type": "markdown",
   "metadata": {},
   "source": [
    "##### Exercicis `iloc`\n",
    "\n",
    "Del dataset venda-cotxes-segona-ma.csv \n",
    "\n",
    "* Mostra les 5 primeres files\n",
    "* Mostra les 5 últimes files\n",
    "* Mostra la fila 10,15,20\n",
    "* Mostra la fila 10, però només volem la marca i el model del cotxe\n",
    "\n",
    "#### Selecció per etiquetes (`loc`)\n",
    "\n",
    "Amb loc podem seleccionar un grup de files i/o columnes a través d'etiquetes o un array de booleans.\n",
    "\n",
    "[https://pandas.pydata.org/docs/reference/api/pandas.DataFrame.loc.html](https://pandas.pydata.org/docs/reference/api/pandas.DataFrame.loc.html)\n",
    "\n",
    "\n",
    "* Una sola etiqueta, per exemple. `5` or `'a'`, (el 5 és interpretat com una etiqueta i no com un índex).\n",
    "* Un array d'etiquetes, per exemple. `['a', 'b', 'c']`.\n",
    "* Un rang/tall d'objectes amb etiques, per exemple. 'a':'f'.\n",
    "* Un array de booleans amb la mateixa longitud que el número de columnes. True significarà que volem la columna i False no."
   ]
  },
  {
   "cell_type": "code",
   "execution_count": null,
   "metadata": {},
   "outputs": [],
   "source": [
    "# Seleccionem totes les files i només mostrarem les columnes `make` i `price`\n",
    "cotxes.loc[:,['make','price']]"
   ]
  },
  {
   "cell_type": "code",
   "execution_count": null,
   "metadata": {},
   "outputs": [],
   "source": [
    "# Seleccionem totes les files i les columnes compreses entre `make` i `fuel`\n",
    "cotxes.loc[:,'make':'fuel']"
   ]
  },
  {
   "cell_type": "code",
   "execution_count": null,
   "metadata": {},
   "outputs": [],
   "source": [
    "# Selecciona el valor de la cel·la de la fila 0 i la columna `make`. Per tant només retorna una valor\n",
    "cotxes.loc[1,'make']"
   ]
  },
  {
   "cell_type": "code",
   "execution_count": null,
   "metadata": {},
   "outputs": [],
   "source": [
    "# Seleccionem només la primera columna (company)\n",
    "cotxes.loc[:,[True,False,False,False,False,False,False,False,False,False,False,False,False,False,False,False,False,False,False,False]]"
   ]
  },
  {
   "cell_type": "markdown",
   "metadata": {},
   "source": [
    "#### Selecció per condicions (`[]`)\n",
    "\n",
    "Amb el seleccionador també podem obtenir files i columnes. Fins i tot podem demanar que ens retorni les files de 5 en 5."
   ]
  },
  {
   "cell_type": "code",
   "execution_count": null,
   "metadata": {},
   "outputs": [],
   "source": [
    "# Seleccionar els cotxes de la fila 10 a la 50 de 5 en 5\n",
    "cotxes[10:50:5]"
   ]
  },
  {
   "cell_type": "markdown",
   "metadata": {},
   "source": [
    "Podem seleccionar files que compleixin una certa condició. Li passem al DataFrame una sère de booleans o una condició lògica que retorni un booleà.\n",
    "\n",
    "Podem combinar diferents condicions amb & (operador i lògic) i | (operador o lògic)"
   ]
  },
  {
   "cell_type": "code",
   "execution_count": null,
   "metadata": {},
   "outputs": [],
   "source": [
    "# seleccionem els cotxes que només siguin de la marca BMW\n",
    "cotxes[cotxes.make==\"BMW\"]"
   ]
  },
  {
   "cell_type": "code",
   "execution_count": null,
   "metadata": {},
   "outputs": [],
   "source": [
    "#seleccionem els cotex que siguin de la marca BMW i que el seu preu sigui inferior a 20.000\n",
    "cotxes[(cotxes.make==\"BMW\") & (cotxes.price<20000)]"
   ]
  },
  {
   "cell_type": "markdown",
   "metadata": {},
   "source": [
    "**Important**: Podem combinar les propietats anteriors per fer seleccions més complexes"
   ]
  },
  {
   "cell_type": "code",
   "execution_count": null,
   "metadata": {},
   "outputs": [],
   "source": [
    "# De tots els cotxes BMW i que el seu preu sigui inferior a 20.000 retornem només la columna `company` (companyia)\n",
    "cotxes[(cotxes.make==\"BMW\") & (cotxes.price<20000)].loc[:,'company']"
   ]
  },
  {
   "cell_type": "markdown",
   "metadata": {},
   "source": [
    "### Ordenació\n",
    "\n",
    "Podem ordenar un DataFrame per una o diferent columnes mitjanánt el mètode `sort_values`"
   ]
  },
  {
   "cell_type": "code",
   "execution_count": null,
   "metadata": {},
   "outputs": [],
   "source": [
    "# Ordenem els cotxes per pereu de forma ascendent\n",
    "cotxes.sort_values('price',ascending=True)"
   ]
  },
  {
   "cell_type": "code",
   "execution_count": null,
   "metadata": {},
   "outputs": [],
   "source": [
    "# Ordenem els cotxes per pereu de forma ascendent i any de forma descendent\n",
    "cotxes.sort_values(['price','year'],ascending=[True,False])"
   ]
  },
  {
   "cell_type": "markdown",
   "metadata": {},
   "source": [
    "### Transformació\n",
    "\n",
    "Molt sovint hem de realitzar canvis en el nostra DataFrame. Afegir, eliminar i renombrar columnes a més de canviar algun tipus de dades.\n",
    "\n",
    "#### Afegir columna\n",
    "\n",
    "Podem afegir columnes noves mitjançant columnes existens aplicant-li expressions."
   ]
  },
  {
   "cell_type": "code",
   "execution_count": null,
   "metadata": {},
   "outputs": [],
   "source": [
    "# AFegim una nova columna al final del DataFrame\n",
    "cotxes['price_dte'] = cotxes.price * 0.20\n",
    "\n",
    "#Afegim una nova columna en una ubicació espcífica.\n",
    "cotxes.insert(3,'price_50', cotxes.price * 0.50)\n"
   ]
  },
  {
   "cell_type": "markdown",
   "metadata": {},
   "source": [
    "Possiblament la forma més eficient de reorganitzar les columnes és mitjançant `reindex`"
   ]
  },
  {
   "cell_type": "code",
   "execution_count": null,
   "metadata": {},
   "outputs": [],
   "source": [
    "# En l'exemple reindexem les columnes, però si no afegim totes les columnes del DataFrame aquestes s'esborren.\n",
    "cotxes = cotxes.reindex(columns=['version','model','company','price','price_financed','price_dte'])"
   ]
  },
  {
   "cell_type": "markdown",
   "metadata": {},
   "source": [
    "Si volem aplicar una funció a cada elment per cada fila o columna podem utilitzar `apply`\n",
    "`Compte:` Per defecte aquest mètode retorna un DataFrame i no modifica l'actual."
   ]
  },
  {
   "cell_type": "code",
   "execution_count": 20,
   "metadata": {},
   "outputs": [
    {
     "ename": "ValueError",
     "evalue": "cannot insert descripcio, already exists",
     "output_type": "error",
     "traceback": [
      "\u001b[1;31m---------------------------------------------------------------------------\u001b[0m",
      "\u001b[1;31mValueError\u001b[0m                                Traceback (most recent call last)",
      "Input \u001b[1;32mIn [20]\u001b[0m, in \u001b[0;36m<cell line: 5>\u001b[1;34m()\u001b[0m\n\u001b[0;32m      2\u001b[0m df \u001b[38;5;241m=\u001b[39m cotxes\u001b[38;5;241m.\u001b[39mapply(\u001b[38;5;28;01mlambda\u001b[39;00m fila: \u001b[38;5;28mstr\u001b[39m(fila\u001b[38;5;241m.\u001b[39mmodel)\u001b[38;5;241m+\u001b[39m\u001b[38;5;124m'\u001b[39m\u001b[38;5;124m-\u001b[39m\u001b[38;5;124m'\u001b[39m\u001b[38;5;241m+\u001b[39m\u001b[38;5;28mstr\u001b[39m(fila\u001b[38;5;241m.\u001b[39mversion), axis\u001b[38;5;241m=\u001b[39m\u001b[38;5;241m1\u001b[39m)\n\u001b[0;32m      4\u001b[0m \u001b[38;5;66;03m# Podem utilitzar insert per afegir aquesta nova columna \u001b[39;00m\n\u001b[1;32m----> 5\u001b[0m \u001b[43mcotxes\u001b[49m\u001b[38;5;241;43m.\u001b[39;49m\u001b[43minsert\u001b[49m\u001b[43m(\u001b[49m\u001b[38;5;241;43m3\u001b[39;49m\u001b[43m,\u001b[49m\u001b[38;5;124;43m'\u001b[39;49m\u001b[38;5;124;43mdescripcio\u001b[39;49m\u001b[38;5;124;43m'\u001b[39;49m\u001b[43m,\u001b[49m\u001b[43mcotxes\u001b[49m\u001b[38;5;241;43m.\u001b[39;49m\u001b[43mapply\u001b[49m\u001b[43m(\u001b[49m\u001b[38;5;28;43;01mlambda\u001b[39;49;00m\u001b[43m \u001b[49m\u001b[43mfila\u001b[49m\u001b[43m:\u001b[49m\u001b[43m \u001b[49m\u001b[38;5;28;43mstr\u001b[39;49m\u001b[43m(\u001b[49m\u001b[43mfila\u001b[49m\u001b[38;5;241;43m.\u001b[39;49m\u001b[43mmodel\u001b[49m\u001b[43m)\u001b[49m\u001b[38;5;241;43m+\u001b[39;49m\u001b[38;5;124;43m'\u001b[39;49m\u001b[38;5;124;43m - \u001b[39;49m\u001b[38;5;124;43m'\u001b[39;49m\u001b[38;5;241;43m+\u001b[39;49m\u001b[38;5;28;43mstr\u001b[39;49m\u001b[43m(\u001b[49m\u001b[43mfila\u001b[49m\u001b[38;5;241;43m.\u001b[39;49m\u001b[43mversion\u001b[49m\u001b[43m)\u001b[49m\u001b[43m,\u001b[49m\u001b[43m \u001b[49m\u001b[43maxis\u001b[49m\u001b[38;5;241;43m=\u001b[39;49m\u001b[38;5;241;43m1\u001b[39;49m\u001b[43m)\u001b[49m\u001b[43m)\u001b[49m\n",
      "File \u001b[1;32mD:\\Apps\\Anaconda3\\lib\\site-packages\\pandas\\core\\frame.py:4440\u001b[0m, in \u001b[0;36mDataFrame.insert\u001b[1;34m(self, loc, column, value, allow_duplicates)\u001b[0m\n\u001b[0;32m   4434\u001b[0m     \u001b[38;5;28;01mraise\u001b[39;00m \u001b[38;5;167;01mValueError\u001b[39;00m(\n\u001b[0;32m   4435\u001b[0m         \u001b[38;5;124m\"\u001b[39m\u001b[38;5;124mCannot specify \u001b[39m\u001b[38;5;124m'\u001b[39m\u001b[38;5;124mallow_duplicates=True\u001b[39m\u001b[38;5;124m'\u001b[39m\u001b[38;5;124m when \u001b[39m\u001b[38;5;124m\"\u001b[39m\n\u001b[0;32m   4436\u001b[0m         \u001b[38;5;124m\"\u001b[39m\u001b[38;5;124m'\u001b[39m\u001b[38;5;124mself.flags.allows_duplicate_labels\u001b[39m\u001b[38;5;124m'\u001b[39m\u001b[38;5;124m is False.\u001b[39m\u001b[38;5;124m\"\u001b[39m\n\u001b[0;32m   4437\u001b[0m     )\n\u001b[0;32m   4438\u001b[0m \u001b[38;5;28;01mif\u001b[39;00m \u001b[38;5;129;01mnot\u001b[39;00m allow_duplicates \u001b[38;5;129;01mand\u001b[39;00m column \u001b[38;5;129;01min\u001b[39;00m \u001b[38;5;28mself\u001b[39m\u001b[38;5;241m.\u001b[39mcolumns:\n\u001b[0;32m   4439\u001b[0m     \u001b[38;5;66;03m# Should this be a different kind of error??\u001b[39;00m\n\u001b[1;32m-> 4440\u001b[0m     \u001b[38;5;28;01mraise\u001b[39;00m \u001b[38;5;167;01mValueError\u001b[39;00m(\u001b[38;5;124mf\u001b[39m\u001b[38;5;124m\"\u001b[39m\u001b[38;5;124mcannot insert \u001b[39m\u001b[38;5;132;01m{\u001b[39;00mcolumn\u001b[38;5;132;01m}\u001b[39;00m\u001b[38;5;124m, already exists\u001b[39m\u001b[38;5;124m\"\u001b[39m)\n\u001b[0;32m   4441\u001b[0m \u001b[38;5;28;01mif\u001b[39;00m \u001b[38;5;129;01mnot\u001b[39;00m \u001b[38;5;28misinstance\u001b[39m(loc, \u001b[38;5;28mint\u001b[39m):\n\u001b[0;32m   4442\u001b[0m     \u001b[38;5;28;01mraise\u001b[39;00m \u001b[38;5;167;01mTypeError\u001b[39;00m(\u001b[38;5;124m\"\u001b[39m\u001b[38;5;124mloc must be int\u001b[39m\u001b[38;5;124m\"\u001b[39m)\n",
      "\u001b[1;31mValueError\u001b[0m: cannot insert descripcio, already exists"
     ]
    }
   ],
   "source": [
    "\n",
    "# Amb el paràmetre axis indiquem si volem files o columnes. axis=0 s'aplica per cada columna, axis=1 s'aplica a cada fila\n",
    "df = cotxes.apply(lambda fila: str(fila.model)+'-'+str(fila.version), axis=1)\n",
    "\n",
    "# Podem utilitzar insert per afegir aquesta nova columna \n",
    "cotxes.insert(3,'descripcio',cotxes.apply(lambda fila: str(fila.model)+' - '+str(fila.version), axis=1))"
   ]
  },
  {
   "cell_type": "markdown",
   "metadata": {},
   "source": [
    "#### Renombrar una columna\n",
    "\n",
    "cotxes = cotxes.rename(columns={'price_dte': 'precio_90_metros'})"
   ]
  },
  {
   "cell_type": "markdown",
   "metadata": {},
   "source": [
    " En general, les funcions de pandas retornen un nou objecte amb el resultat de l'operació, però no modifiquen l'actual DataFrame. Hi ha el paràmetre `inplace`amb valor per defecte a `False`. Si el posem a `True` l'operació es  realitzarà a l'objecte passat per paràmetre."
   ]
  },
  {
   "cell_type": "markdown",
   "metadata": {},
   "source": [
    "\n",
    "\n",
    "### Pandasql\n",
    "Si estàs acostumat a treballar amb SQL mira't la llibreria Pandasql. Aquesta llibreria permet manipular Dataframes de Pandas utilitzant SQL.\n",
    "\n",
    "[https://towardsdatascience.com/query-pandas-dataframe-with-sql](https://towardsdatascience.com/query-pandas-dataframe-with-sql-2bb7a509793d)\n",
    "\n",
    "### Exportació\n",
    "\n"
   ]
  }
 ],
 "metadata": {
  "kernelspec": {
   "display_name": "Python 3 (ipykernel)",
   "language": "python",
   "name": "python3"
  },
  "language_info": {
   "codemirror_mode": {
    "name": "ipython",
    "version": 3
   },
   "file_extension": ".py",
   "mimetype": "text/x-python",
   "name": "python",
   "nbconvert_exporter": "python",
   "pygments_lexer": "ipython3",
   "version": "3.9.12"
  },
  "vscode": {
   "interpreter": {
    "hash": "cf02e6bf250f77d388a6bc5f87ea1eec704c2fee4b623a6d66585fe8e13b7d67"
   }
  }
 },
 "nbformat": 4,
 "nbformat_minor": 4
}
