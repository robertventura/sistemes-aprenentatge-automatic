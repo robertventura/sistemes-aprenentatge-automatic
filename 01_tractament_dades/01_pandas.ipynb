{
 "cells": [
  {
   "cell_type": "markdown",
   "metadata": {},
   "source": [
    "# Tractament de dades - Pandas  <img align=\"right\"  width=\"185\" height=\"75\"  src=\"img/pandas-logo.png\" alt=\"pandas_logo\"/>\n",
    "\n",
    "En aquest apartat veurem una de les llibreries més utilitzades alhora de realitzar anàlisis de dades: importar i exportar dades, realitzar operacions de tractament, etc..\n",
    "\n",
    "## Introducció a Pandas\n",
    "---------------------\n",
    "Com qualsevol atre llibreria de python utilitzarem la paraula import per utilitzar-la\n",
    "\n",
    "```python\n",
    "import pandas as pd\n",
    "```"
   ]
  },
  {
   "cell_type": "markdown",
   "metadata": {},
   "source": [
    "\n",
    "A Pandas hi ha dos objectes principals: el **DataFrame** i les **Series**\n",
    "\n",
    "## DataFrame\n",
    "---------------------\n",
    "La classe [*DataFrame*](https://pandas.pydata.org/docs/reference/api/pandas.DataFrame.html) és una de les més utilitzades ja que igual que R és aquells que utilitzarem per tractar les dades.\n",
    "Serà una taula de doble entrada (files i columnes).\n",
    "\n",
    "Una DataFrame és una taula que conté una sèrie d'entrades individuals, cadascuna de les quals té un valor determinat. Cada entrada correspon a una fila/registre i a una columna.\n",
    "\n",
    "Per exemple:"
   ]
  },
  {
   "cell_type": "code",
   "execution_count": null,
   "metadata": {},
   "outputs": [],
   "source": [
    "import pandas as pd\n",
    "\n",
    "data = {'Nom':['Pere', 'Alice', 'Marta', 'Tom'],\n",
    "        'Edat':[20, 21, 19, 18]}\n",
    "\n",
    "pd.DataFrame(data)"
   ]
  },
  {
   "cell_type": "code",
   "execution_count": null,
   "metadata": {},
   "outputs": [],
   "source": [
    "pd.DataFrame({ \n",
    "    'clau':['A','B','C','A','B','C'] ,\n",
    "    'valors' : range(6) \n",
    "    }, \n",
    "    columns = ['valors','clau'] \n",
    ")"
   ]
  },
  {
   "cell_type": "markdown",
   "metadata": {},
   "source": [
    "Els valors de les columnes no han de ser número poden ser cadenes de text. A més, també podem assignar etiquetes a les files de la taula mitjançant el paràmetre index."
   ]
  },
  {
   "cell_type": "code",
   "execution_count": null,
   "metadata": {},
   "outputs": [],
   "source": [
    "pd.DataFrame({'Pere': ['M\\'agrada', 'No m\\'agrada'], \n",
    "              'Marta': ['No està malament', 'M\\'agrada']},\n",
    "             index=['Producte A', 'Producte B'])"
   ]
  },
  {
   "cell_type": "markdown",
   "metadata": {},
   "source": [
    "## Series\n",
    "---------------------\n",
    "\n",
    "Una sèrie, és senzillament una seqüència de valors de dades. Si un DataFrame és una taula, una Sèrie és una llista. I, de fet, es poden crear mitjanpodeu crear-ne un amb res més que una llista:\n",
    "La classe [*Serie*](https://pandas.pydata.org/docs/reference/series.html) és una única columna d'un DataFrame i com a tal podem assignar-li etiquetes a la fila.\n",
    "\n",
    "Per exemple:"
   ]
  },
  {
   "cell_type": "code",
   "execution_count": null,
   "metadata": {},
   "outputs": [],
   "source": [
    "pd.Series([1, 2, 3, 4, 5])"
   ]
  },
  {
   "cell_type": "code",
   "execution_count": null,
   "metadata": {},
   "outputs": [],
   "source": [
    "pd.Series([30, 35, 40], index=['2015 Vendes', '2016 Vendes', '2017 Vendes'], name='Producte A')"
   ]
  },
  {
   "cell_type": "markdown",
   "metadata": {},
   "source": [
    "\n",
    "## Importació\n",
    "---------------------\n",
    "\n",
    "Podem importar dades a DataFrames de Pandas de diferents orígen i formats. Alguns dels més utilitzats són:\n",
    "\n",
    "* De CSV: con [`read_csv`](https://pandas.pydata.org/pandas-docs/stable/generated/pandas.read_csv.html)\n",
    "* De Excel: con [`read_excel`](https://pandas.pydata.org/pandas-docs/stable/generated/pandas.read_excel.html)\n",
    "* De base de datos: con [`read_sql`](https://pandas.pydata.org/pandas-docs/stable/generated/pandas.read_sql.html)\n",
    "* La més genèrica és [`read_table`](https://pandas.pydata.org/pandas-docs/stable/generated/pandas.read_table.html)\n",
    "\n",
    "\n",
    "En aquest exemple veiem la manera d'importar les dades a partir d'un fitxer CSV. Aquest fitxer conté dades d'anuncis de venda de cotxes de segona mà de diferents plataformes. Origen del [dataset](https://www.kaggle.com/datasets/datamarket/venta-de-coches)\n",
    "\n",
    "**Nota:** Per poder manipular base de dades SQLite podem utilitzar l'eina [DB Browser for SQLite ](https://sqlitebrowser.org/)"
   ]
  },
  {
   "cell_type": "code",
   "execution_count": 1,
   "metadata": {},
   "outputs": [
    {
     "data": {
      "text/html": [
       "<div>\n",
       "<style scoped>\n",
       "    .dataframe tbody tr th:only-of-type {\n",
       "        vertical-align: middle;\n",
       "    }\n",
       "\n",
       "    .dataframe tbody tr th {\n",
       "        vertical-align: top;\n",
       "    }\n",
       "\n",
       "    .dataframe thead th {\n",
       "        text-align: right;\n",
       "    }\n",
       "</style>\n",
       "<table border=\"1\" class=\"dataframe\">\n",
       "  <thead>\n",
       "    <tr style=\"text-align: right;\">\n",
       "      <th></th>\n",
       "      <th>company</th>\n",
       "      <th>make</th>\n",
       "      <th>model</th>\n",
       "      <th>version</th>\n",
       "      <th>price</th>\n",
       "      <th>price_financed</th>\n",
       "      <th>fuel</th>\n",
       "      <th>year</th>\n",
       "      <th>kms</th>\n",
       "      <th>power</th>\n",
       "      <th>doors</th>\n",
       "      <th>shift</th>\n",
       "      <th>color</th>\n",
       "      <th>photos</th>\n",
       "      <th>is_professional</th>\n",
       "      <th>dealer</th>\n",
       "      <th>phone</th>\n",
       "      <th>province</th>\n",
       "      <th>publish_date</th>\n",
       "      <th>insert_date</th>\n",
       "    </tr>\n",
       "  </thead>\n",
       "  <tbody>\n",
       "    <tr>\n",
       "      <th>0</th>\n",
       "      <td>9881BCDD5A0AD4733037B3FB25E69C3A</td>\n",
       "      <td>KIA</td>\n",
       "      <td>Carnival</td>\n",
       "      <td>KIA Carnival 2.9 CRDi VGT EX 5p.</td>\n",
       "      <td>4860</td>\n",
       "      <td>4860.0</td>\n",
       "      <td>Diésel</td>\n",
       "      <td>2007</td>\n",
       "      <td>221000</td>\n",
       "      <td>185.0</td>\n",
       "      <td>5.0</td>\n",
       "      <td>Manual</td>\n",
       "      <td>Beige (champagne)</td>\n",
       "      <td>8</td>\n",
       "      <td>True</td>\n",
       "      <td>VM Motor</td>\n",
       "      <td>928493782</td>\n",
       "      <td>Las Palmas</td>\n",
       "      <td>2020-12-22 13:28:36</td>\n",
       "      <td>2020-12-25 00:00:00</td>\n",
       "    </tr>\n",
       "    <tr>\n",
       "      <th>1</th>\n",
       "      <td>9881BCDD5A0AD4733037B3FB25E69C3A</td>\n",
       "      <td>BMW</td>\n",
       "      <td>Serie 5</td>\n",
       "      <td>BMW Serie 5  4p.</td>\n",
       "      <td>1800</td>\n",
       "      <td>NaN</td>\n",
       "      <td>Diésel</td>\n",
       "      <td>2001</td>\n",
       "      <td>205000</td>\n",
       "      <td>NaN</td>\n",
       "      <td>4.0</td>\n",
       "      <td>Manual</td>\n",
       "      <td>Verde</td>\n",
       "      <td>0</td>\n",
       "      <td>False</td>\n",
       "      <td>3F128E570B3A9009D7B52A0523AF43DD</td>\n",
       "      <td>DBB2949B54A306BA299A791B860EEBF6</td>\n",
       "      <td>Tarragona</td>\n",
       "      <td>2020-12-14 07:02:22</td>\n",
       "      <td>2020-12-26 00:00:00</td>\n",
       "    </tr>\n",
       "    <tr>\n",
       "      <th>2</th>\n",
       "      <td>9881BCDD5A0AD4733037B3FB25E69C3A</td>\n",
       "      <td>FIAT</td>\n",
       "      <td>500</td>\n",
       "      <td>FIAT 500 1.2 8v 51kW 69CV Lounge 3p.</td>\n",
       "      <td>6490</td>\n",
       "      <td>6490.0</td>\n",
       "      <td>Gasolina</td>\n",
       "      <td>2017</td>\n",
       "      <td>75000</td>\n",
       "      <td>69.0</td>\n",
       "      <td>3.0</td>\n",
       "      <td>Manual</td>\n",
       "      <td>Negro</td>\n",
       "      <td>7</td>\n",
       "      <td>True</td>\n",
       "      <td>LAS PALMAS MOTOR</td>\n",
       "      <td>653895468</td>\n",
       "      <td>Las Palmas</td>\n",
       "      <td>2020-11-20 18:30:00</td>\n",
       "      <td>2020-12-08 00:00:00</td>\n",
       "    </tr>\n",
       "    <tr>\n",
       "      <th>3</th>\n",
       "      <td>9881BCDD5A0AD4733037B3FB25E69C3A</td>\n",
       "      <td>OPEL</td>\n",
       "      <td>Astra</td>\n",
       "      <td>OPEL Astra  3p.</td>\n",
       "      <td>5550</td>\n",
       "      <td>NaN</td>\n",
       "      <td>Diésel</td>\n",
       "      <td>2009</td>\n",
       "      <td>137000</td>\n",
       "      <td>NaN</td>\n",
       "      <td>3.0</td>\n",
       "      <td>Manual</td>\n",
       "      <td>Rojo</td>\n",
       "      <td>0</td>\n",
       "      <td>False</td>\n",
       "      <td>22003DEA67E7C5BE6022A29E677668BC</td>\n",
       "      <td>67990DA67E557C1D0C1B6D1DB731938C</td>\n",
       "      <td>Barcelona</td>\n",
       "      <td>2020-11-21 16:37:13</td>\n",
       "      <td>2020-11-24 00:00:00</td>\n",
       "    </tr>\n",
       "    <tr>\n",
       "      <th>4</th>\n",
       "      <td>9881BCDD5A0AD4733037B3FB25E69C3A</td>\n",
       "      <td>MERCEDES-BENZ</td>\n",
       "      <td>Clase C</td>\n",
       "      <td>MERCEDES-BENZ Clase C C 220 CDI AVANTGARDE 4p.</td>\n",
       "      <td>11990</td>\n",
       "      <td>11490.0</td>\n",
       "      <td>Diésel</td>\n",
       "      <td>2008</td>\n",
       "      <td>95000</td>\n",
       "      <td>170.0</td>\n",
       "      <td>4.0</td>\n",
       "      <td>Automático</td>\n",
       "      <td>Gris / Plata</td>\n",
       "      <td>21</td>\n",
       "      <td>True</td>\n",
       "      <td>Autos Lipiz</td>\n",
       "      <td>646179040</td>\n",
       "      <td>Madrid</td>\n",
       "      <td>2020-11-05 19:09:27</td>\n",
       "      <td>2020-12-01 00:00:00</td>\n",
       "    </tr>\n",
       "  </tbody>\n",
       "</table>\n",
       "</div>"
      ],
      "text/plain": [
       "                            company           make     model  \\\n",
       "0  9881BCDD5A0AD4733037B3FB25E69C3A            KIA  Carnival   \n",
       "1  9881BCDD5A0AD4733037B3FB25E69C3A            BMW   Serie 5   \n",
       "2  9881BCDD5A0AD4733037B3FB25E69C3A           FIAT       500   \n",
       "3  9881BCDD5A0AD4733037B3FB25E69C3A           OPEL     Astra   \n",
       "4  9881BCDD5A0AD4733037B3FB25E69C3A  MERCEDES-BENZ   Clase C   \n",
       "\n",
       "                                          version  price  price_financed  \\\n",
       "0                KIA Carnival 2.9 CRDi VGT EX 5p.   4860          4860.0   \n",
       "1                                BMW Serie 5  4p.   1800             NaN   \n",
       "2            FIAT 500 1.2 8v 51kW 69CV Lounge 3p.   6490          6490.0   \n",
       "3                                 OPEL Astra  3p.   5550             NaN   \n",
       "4  MERCEDES-BENZ Clase C C 220 CDI AVANTGARDE 4p.  11990         11490.0   \n",
       "\n",
       "       fuel  year     kms  power  doors       shift              color  \\\n",
       "0    Diésel  2007  221000  185.0    5.0      Manual  Beige (champagne)   \n",
       "1    Diésel  2001  205000    NaN    4.0      Manual              Verde   \n",
       "2  Gasolina  2017   75000   69.0    3.0      Manual              Negro   \n",
       "3    Diésel  2009  137000    NaN    3.0      Manual               Rojo   \n",
       "4    Diésel  2008   95000  170.0    4.0  Automático       Gris / Plata   \n",
       "\n",
       "   photos  is_professional                            dealer  \\\n",
       "0       8             True                          VM Motor   \n",
       "1       0            False  3F128E570B3A9009D7B52A0523AF43DD   \n",
       "2       7             True                  LAS PALMAS MOTOR   \n",
       "3       0            False  22003DEA67E7C5BE6022A29E677668BC   \n",
       "4      21             True                       Autos Lipiz   \n",
       "\n",
       "                              phone    province         publish_date  \\\n",
       "0                         928493782  Las Palmas  2020-12-22 13:28:36   \n",
       "1  DBB2949B54A306BA299A791B860EEBF6   Tarragona  2020-12-14 07:02:22   \n",
       "2                         653895468  Las Palmas  2020-11-20 18:30:00   \n",
       "3  67990DA67E557C1D0C1B6D1DB731938C   Barcelona  2020-11-21 16:37:13   \n",
       "4                         646179040      Madrid  2020-11-05 19:09:27   \n",
       "\n",
       "           insert_date  \n",
       "0  2020-12-25 00:00:00  \n",
       "1  2020-12-26 00:00:00  \n",
       "2  2020-12-08 00:00:00  \n",
       "3  2020-11-24 00:00:00  \n",
       "4  2020-12-01 00:00:00  "
      ]
     },
     "execution_count": 1,
     "metadata": {},
     "output_type": "execute_result"
    }
   ],
   "source": [
    "\n",
    "#Importar dadades des d'un CSV\n",
    "import pandas as pd\n",
    "\n",
    "cotxes = pd.read_csv('dataset/venda-cotxes-segona-ma.csv', index_col=False)\n",
    "cotxes.head()\n"
   ]
  },
  {
   "cell_type": "code",
   "execution_count": null,
   "metadata": {},
   "outputs": [],
   "source": [
    "\n",
    "#Importar dadades des d'un Excel\n",
    "import pandas as pd\n",
    "\n",
    "cotxes = pd.read_excel('dataset/venda-cotxes-segona-ma.xlsx', index_col=0)\n",
    "cotxes.head()\n"
   ]
  },
  {
   "cell_type": "code",
   "execution_count": null,
   "metadata": {},
   "outputs": [],
   "source": [
    "\n",
    "#Importar dadades des d'una BD SQL (SQLite)\n",
    "import pandas as pd\n",
    "import sqlite3\n",
    "\n",
    "# Creem una conexió a la base de dades SQLite\n",
    "con = sqlite3.connect(\"dataset/venda-cotxes-segona-ma.db\")\n",
    "\n",
    "#\n",
    "cotxes = pd.read_sql(\"SELECT * FROM cotxes\", con)\n",
    "cotxes.head()\n",
    "\n",
    "#Tanquem la connexió\n",
    "con.close()\n"
   ]
  },
  {
   "cell_type": "code",
   "execution_count": null,
   "metadata": {},
   "outputs": [],
   "source": [
    "#Podem importar dades directament d'una URL\n",
    "import pandas as pd\n",
    "\n",
    "df = pd.read_csv(\"http://winterolympicsmedals.com/medals.csv\")\n",
    "df.head()"
   ]
  },
  {
   "cell_type": "markdown",
   "metadata": {},
   "source": [
    "Alguns dels paràmetres més importants de read_csv són:\n",
    "* delimiter: Indica quin caràcter és el delimitador de valors en el cas d'un CSV seràn les comes\n",
    "* decimal: Indica quin caràcter s'utilitza com a separador de milers\n",
    "* encoding: Indica la codificació de caràcters amb la qual ha de llegir el fitxer. El més usual és \"utf-8\"\n",
    "\n",
    "## Accés a les dades\n",
    "--------------------\n",
    "\n",
    "Podem accedir a les columnes del DataFrme mitjançant el nom de la columna.\n",
    "\n",
    "Per exemple: ```cotxes.price``` obtindria un vector amb la columna de preu de tots els cotxes.\n",
    "\n",
    "L'objecte DataFrame ofereix certes propietats/mètodes per cada columna. Per exemple si posem un punt '.' després del nom de la columna ens apareixeran tots els mètodes disponibles."
   ]
  },
  {
   "cell_type": "code",
   "execution_count": null,
   "metadata": {},
   "outputs": [],
   "source": [
    "# Retorna tot els valors de la columna price\n",
    "cotxes.price"
   ]
  },
  {
   "cell_type": "code",
   "execution_count": null,
   "metadata": {},
   "outputs": [],
   "source": [
    "# Retorna quin és el valor màxim de la columna preu\n",
    "cotxes.price.max()"
   ]
  },
  {
   "cell_type": "code",
   "execution_count": null,
   "metadata": {},
   "outputs": [],
   "source": [
    "# Retorna quina és la posició del valor màxim de la columna preu\n",
    "cotxes.price.argmax()"
   ]
  },
  {
   "cell_type": "code",
   "execution_count": null,
   "metadata": {},
   "outputs": [],
   "source": [
    "# Retorna la mitjana de la columna preu\n",
    "cotxes.price.mean()"
   ]
  },
  {
   "cell_type": "code",
   "execution_count": null,
   "metadata": {},
   "outputs": [],
   "source": [
    "# Retorna la mediana de la columna preu\n",
    "cotxes.price.median()"
   ]
  },
  {
   "cell_type": "code",
   "execution_count": null,
   "metadata": {},
   "outputs": [],
   "source": [
    "# Retorna un resum de la columna\n",
    "cotxes.price.describe()"
   ]
  },
  {
   "cell_type": "markdown",
   "metadata": {},
   "source": [
    "Podem també fer el describe de tot el DataFrame o Transposar files per columnes mitjançant el transpose.\n",
    "Molt sovint també ens interessa saber el tamany del DataFrame. Això ho fem la propietat shape que ens retornarà un vector amb dos valors (qt files, qt columnes)."
   ]
  },
  {
   "cell_type": "code",
   "execution_count": null,
   "metadata": {},
   "outputs": [],
   "source": [
    "# retorna una matriu amb el resum de cada columna\n",
    "cotxes.describe()"
   ]
  },
  {
   "cell_type": "code",
   "execution_count": null,
   "metadata": {},
   "outputs": [],
   "source": [
    "# Si volem transposar (canviar files/columnes) la matriu hi ha el mètode transpose\n",
    "cotxes.describe().transpose()"
   ]
  },
  {
   "cell_type": "code",
   "execution_count": null,
   "metadata": {},
   "outputs": [],
   "source": [
    "# Podem fer la mitjana per cada columna que sigui numèrica\n",
    "cotxes.mean()"
   ]
  },
  {
   "cell_type": "code",
   "execution_count": null,
   "metadata": {},
   "outputs": [],
   "source": [
    "# Si volem saber el tamany del DataFrame utilitzarem la propietat shape (quantitat de files i columnes)\n",
    "cotxes.shape"
   ]
  },
  {
   "cell_type": "code",
   "execution_count": null,
   "metadata": {},
   "outputs": [],
   "source": [
    "# Si volem veure els valors únics d'un camp (quines marques tenim)\n",
    "# retorna un array.\n",
    "cotxes.make.unique()"
   ]
  },
  {
   "cell_type": "code",
   "execution_count": null,
   "metadata": {},
   "outputs": [],
   "source": [
    "# Volem contar quantes files hi ha de cada marca\n",
    "cotxes.make.value_counts()"
   ]
  },
  {
   "cell_type": "code",
   "execution_count": null,
   "metadata": {},
   "outputs": [],
   "source": [
    "#Volem contar quantes valors NaN hi ha.\n",
    "cotext.make.count()"
   ]
  },
  {
   "cell_type": "code",
   "execution_count": null,
   "metadata": {},
   "outputs": [],
   "source": [
    "#Compte que value_counts() i counts() funcionen un pèl diferent. La primer compta files i l'altre compte valors NaN\n",
    "df = pd.DataFrame({\"Person\":\n",
    "                   [\"John\", \"Myla\", \"Lewis\", \"John\", \"Myla\", \"Alice\"],\n",
    "                   \"Age\": [24, pd.NA, 21, 33, 26, 24],\n",
    "                   \"Single\": [False, True, True, True, False, True]})\n",
    "\n",
    "# Veurem que no conta valors nulls\n",
    "df.Age.value_counts()"
   ]
  },
  {
   "cell_type": "code",
   "execution_count": null,
   "metadata": {},
   "outputs": [],
   "source": [
    "# Veurem que conta valors nulls  (NaN). Age tindrà 5 valors diferents. Incloent NaN.\n",
    "df.count()"
   ]
  },
  {
   "cell_type": "code",
   "execution_count": null,
   "metadata": {},
   "outputs": [],
   "source": [
    "#També podem fer la mitjana per columnes (les columnes només han de ser númeriques)\n",
    "cotxes.mean(axis='columns')"
   ]
  },
  {
   "cell_type": "markdown",
   "metadata": {},
   "source": [
    "## Filtre i/o selecció\n",
    "----------------------\n",
    "\n",
    "Per poder seleccionar un subconjunt de les dades que tenim en un Dataframe podem utilitzar les porpietats `loc`, `iloc` i `[]`. El primer `loc` accedirem al grup de files i columnes mitjançant etiquetes o bé amb un array de vooleans. Amb el segon `iloc` accedim al grup de files i columnes mitjançant posicions. Per últim `[]` l'utilitzarem per filtrar per condicions.\n",
    "\n",
    "[https://pandas.pydata.org/docs/user_guide/indexing.html](https://pandas.pydata.org/docs/user_guide/indexing.html#)\n",
    "\n",
    "Aquests mètodes retornen un altre DataFrame. \n",
    "Si volem transformar-lo amb un array d'objectes (Array of object)\n",
    "\n",
    "### Selecció per índexs (`iloc`)\n",
    "\n",
    "Per accedir per posició utilitzant indexos numèrics , utilitzarem iloc[] i dins dels claudators indicarem els índexs de les les files i les columnes que volem seleccionar\n",
    "\n",
    "[https://pandas.pydata.org/docs/reference/api/pandas.DataFrame.iloc.html](https://pandas.pydata.org/docs/reference/api/pandas.DataFrame.iloc.html)\n",
    "\n",
    "Cal tenir en compte que Python utilitza el 0 com a primer valor d'un índex.\n",
    "\n",
    "\n",
    "```python\n",
    "# Sintaxi\n",
    "iloc[<número de files>]\n",
    "iloc[<índex primera fila>:<índex última fila>,<índex primera col>:<índex última col>]\n",
    "iloc[<índex fila a seleccionar>,<índex columna a seleccionar>]\n",
    "iloc[[<índexs de les files no consecutives a seleccionar>],[<índexs de les columnes no consecutives a seleccionar>]]\n",
    "```"
   ]
  },
  {
   "cell_type": "code",
   "execution_count": null,
   "metadata": {},
   "outputs": [],
   "source": [
    "# Seleccionem les 100 primeres observacions\n",
    "cotxes.iloc[100]"
   ]
  },
  {
   "cell_type": "code",
   "execution_count": null,
   "metadata": {},
   "outputs": [],
   "source": [
    "# Seleccionem totes les files i totes les columnes (no filtrem res)\n",
    "cotxes.iloc[:,:]"
   ]
  },
  {
   "cell_type": "code",
   "execution_count": null,
   "metadata": {},
   "outputs": [],
   "source": [
    "# Seleccionem totes les files i la primera columna (company)\n",
    "cotxes.iloc[:,0:1]"
   ]
  },
  {
   "cell_type": "code",
   "execution_count": null,
   "metadata": {},
   "outputs": [],
   "source": [
    "# Seleccionem totes les files i la primera columna (company)\n",
    "cotxes.iloc[:,0]"
   ]
  },
  {
   "cell_type": "code",
   "execution_count": null,
   "metadata": {},
   "outputs": [],
   "source": [
    "# Seleccionem la última columna (insert_date)\n",
    "cotxes.iloc[:,-1]"
   ]
  },
  {
   "cell_type": "code",
   "execution_count": null,
   "metadata": {},
   "outputs": [],
   "source": [
    "# Seleccionem totes les columnes excepte la última\n",
    "cotxes.iloc[:,:-1]"
   ]
  },
  {
   "cell_type": "code",
   "execution_count": null,
   "metadata": {},
   "outputs": [],
   "source": [
    "# Seleccionem les columnes 1, 2, 4 (columnes no consecutives) (make,model,price)\n",
    "cotxes.iloc[:,[1,2,4]] "
   ]
  },
  {
   "cell_type": "markdown",
   "metadata": {},
   "source": [
    "##### Exercicis `iloc`\n",
    "\n",
    "Del dataset venda-cotxes-segona-ma.csv \n",
    "\n",
    "* Mostra les 5 primeres files\n",
    "* Mostra les 5 últimes files\n",
    "* Mostra la fila 10,15,20\n",
    "* Mostra la fila 10, però només volem la marca i el model del cotxe"
   ]
  },
  {
   "cell_type": "code",
   "execution_count": null,
   "metadata": {},
   "outputs": [],
   "source": []
  },
  {
   "cell_type": "markdown",
   "metadata": {},
   "source": [
    "### Selecció per etiquetes (`loc`)\n",
    "\n",
    "Amb `loc` podem seleccionar un grup de files i/o columnes a través d'etiquetes o un array de booleans.\n",
    "\n",
    "[https://pandas.pydata.org/docs/reference/api/pandas.DataFrame.loc.html](https://pandas.pydata.org/docs/reference/api/pandas.DataFrame.loc.html)\n",
    "\n",
    "\n",
    "* Una sola etiqueta, per exemple. `5` or `'a'`, (el 5 és interpretat com una etiqueta i no com un índex).\n",
    "* Un array d'etiquetes, per exemple. `['a', 'b', 'c']`.\n",
    "* Un rang/tall d'objectes amb etiques, per exemple. 'a':'f'.\n",
    "* Un array de booleans amb la mateixa longitud que el número de columnes. True significarà que volem la columna i False no."
   ]
  },
  {
   "cell_type": "code",
   "execution_count": null,
   "metadata": {},
   "outputs": [],
   "source": [
    "# Seleccionem totes les files i només mostrarem les columnes `make` i `price`\n",
    "cotxes.loc[:,['make','price']]"
   ]
  },
  {
   "cell_type": "code",
   "execution_count": null,
   "metadata": {},
   "outputs": [],
   "source": [
    "# Seleccionem totes les files i les columnes compreses entre `make` i `fuel`\n",
    "cotxes.loc[:,'make':'fuel']"
   ]
  },
  {
   "cell_type": "code",
   "execution_count": null,
   "metadata": {},
   "outputs": [],
   "source": [
    "# Selecciona el valor de la cel·la de la fila 0 i la columna `make`. Per tant només retorna una valor\n",
    "cotxes.loc[1,'make']"
   ]
  },
  {
   "cell_type": "code",
   "execution_count": null,
   "metadata": {},
   "outputs": [],
   "source": [
    "# Seleccionem només la primera columna (company)\n",
    "cotxes.loc[:,[True,False,False,False,False,False,False,False,False,False,False,False,False,False,False,False,False,False,False,False]]"
   ]
  },
  {
   "cell_type": "code",
   "execution_count": null,
   "metadata": {},
   "outputs": [],
   "source": [
    "# Seleccionem només les files que `cotxes.make==\"BMW\"` retornin True.\n",
    "cotxes.loc[cotxes.make==\"BMW\"]"
   ]
  },
  {
   "cell_type": "markdown",
   "metadata": {},
   "source": [
    "### Selecció per condicions (`[]`)\n",
    "\n",
    "Amb el seleccionador també podem obtenir files i columnes. Fins i tot podem demanar que ens retorni les files de 5 en 5."
   ]
  },
  {
   "cell_type": "code",
   "execution_count": null,
   "metadata": {},
   "outputs": [],
   "source": [
    "# Seleccionar els cotxes de la fila 10 a la 50 de 5 en 5\n",
    "cotxes[10:50:5]"
   ]
  },
  {
   "cell_type": "markdown",
   "metadata": {},
   "source": [
    "Podem seleccionar files que compleixin una certa condició. Li passem al DataFrame una sère de booleans o una condició lògica que retorni un booleà.\n",
    "\n",
    "Podem combinar diferents condicions amb & (operador i lògic) i | (operador o lògic)"
   ]
  },
  {
   "cell_type": "code",
   "execution_count": null,
   "metadata": {},
   "outputs": [],
   "source": [
    "# Seleccionem els cotxes que només siguin de la marca BMW\n",
    "cotxes[cotxes.make==\"BMW\"]"
   ]
  },
  {
   "cell_type": "code",
   "execution_count": null,
   "metadata": {},
   "outputs": [],
   "source": [
    "# Seleccionem els cotxes que siguin de la marca BMW i que el seu preu sigui inferior a 20.000\n",
    "cotxes[(cotxes.make==\"BMW\") & (cotxes.price<20000)]"
   ]
  },
  {
   "cell_type": "code",
   "execution_count": null,
   "metadata": {},
   "outputs": [],
   "source": [
    "# Seleccionem els cotxes que siguin de la marca BMW i SEAT\n",
    "cotxes[(cotxes.make==\"BMW\") | (cotxes.make==\"SEAT\")]"
   ]
  },
  {
   "cell_type": "markdown",
   "metadata": {},
   "source": [
    "### selector IS IN\n",
    "\n",
    "A través del selector IS IN podem seleccionar dades els valor del qual es troba dins d'una llista. Vindria a ser l'operador `IN` d'SQL\n"
   ]
  },
  {
   "cell_type": "code",
   "execution_count": null,
   "metadata": {},
   "outputs": [],
   "source": [
    "# Seleccionem els cotex que siguin de la marca BMW i SEAT\n",
    "cotxes[cotxes.make.isin([\"BMW\",\"SEAT\"])]"
   ]
  },
  {
   "cell_type": "markdown",
   "metadata": {},
   "source": [
    "### selectors ISNULL/NOTNULL\n",
    "\n",
    "Amb aquest selectors podem obtenir aquelles dades que són o no buides (NaN)."
   ]
  },
  {
   "cell_type": "code",
   "execution_count": null,
   "metadata": {},
   "outputs": [],
   "source": [
    "# Seleccionem els cotxes que no tinguin valor en el camp power\n",
    "cotxes[cotxes.power.isnull()]"
   ]
  },
  {
   "cell_type": "code",
   "execution_count": null,
   "metadata": {},
   "outputs": [],
   "source": [
    "# Seleccionem els cotxes que tinguin valor en el camp power\n",
    "cotxes[cotxes.power.notnull()]"
   ]
  },
  {
   "cell_type": "markdown",
   "metadata": {},
   "source": [
    "**Important**: Podem combinar les propietats anteriors per fer seleccions més complexes"
   ]
  },
  {
   "cell_type": "code",
   "execution_count": null,
   "metadata": {},
   "outputs": [],
   "source": [
    "# De tots els cotxes BMW i que el seu preu sigui inferior a 20.000 retornem només la columna `company` (companyia)\n",
    "cotxes[(cotxes.make==\"BMW\") & (cotxes.price<20000)].loc[:,'company']"
   ]
  },
  {
   "cell_type": "markdown",
   "metadata": {
    "tags": []
   },
   "source": [
    "## Ordenació\n",
    "------------\n",
    "\n",
    "Podem ordenar un DataFrame per una o diferent columnes mitjanánt el mètode `sort_values`"
   ]
  },
  {
   "cell_type": "code",
   "execution_count": null,
   "metadata": {},
   "outputs": [],
   "source": [
    "# Ordenem els cotxes per pereu de forma ascendent\n",
    "cotxes.sort_values('price',ascending=True)"
   ]
  },
  {
   "cell_type": "code",
   "execution_count": null,
   "metadata": {},
   "outputs": [],
   "source": [
    "# Ordenem els cotxes per pereu de forma ascendent i any de forma descendent\n",
    "cotxes.sort_values(['price','year'],ascending=[True,False])"
   ]
  },
  {
   "cell_type": "markdown",
   "metadata": {},
   "source": [
    "## Canvis de dades\n",
    "----------------\n",
    "\n",
    "### Map\n",
    "La funció map ens serveix per aplicar una funció a una sèrie de dades (Serie) o una columna d'un DataFrame. Aquesta funció retorna una nova Serie\n"
   ]
  },
  {
   "cell_type": "code",
   "execution_count": null,
   "metadata": {
    "scrolled": true
   },
   "outputs": [],
   "source": [
    "# Apliquem una funció lambda als preus dels cotxes restant-li la mitjana\n",
    "mitjana_preu = cotxes.price.mean()\n",
    "cotxes.price.map(lambda p: p - mitjana_preu)"
   ]
  },
  {
   "cell_type": "markdown",
   "metadata": {},
   "source": [
    "### Apply"
   ]
  },
  {
   "cell_type": "markdown",
   "metadata": {},
   "source": [
    "La funció `apply`és equivalent a map, però si volem aplicar una funció a cada elment per cada fila o columna podem utilitzar `apply`\n",
    "\n",
    "**Compte**: Per defecte aquest mètode retorna un DataFrame i no modifica l'actual."
   ]
  },
  {
   "cell_type": "code",
   "execution_count": null,
   "metadata": {},
   "outputs": [],
   "source": [
    "# Amb el paràmetre axis indiquem si volem files o columnes. axis=0/'index' s'aplica per cada columna, axis=1/'columns' s'aplica a cada fila\n",
    "# df = cotxes.apply(lambda fila: str(fila.model)+'-'+str(fila.version), axis=1)\n",
    "cotxes.apply(lambda fila: str(fila.model)+' - '+str(fila.version), axis=1)\n",
    "cotxes"
   ]
  },
  {
   "cell_type": "code",
   "execution_count": 3,
   "metadata": {},
   "outputs": [
    {
     "data": {
      "text/html": [
       "<div>\n",
       "<style scoped>\n",
       "    .dataframe tbody tr th:only-of-type {\n",
       "        vertical-align: middle;\n",
       "    }\n",
       "\n",
       "    .dataframe tbody tr th {\n",
       "        vertical-align: top;\n",
       "    }\n",
       "\n",
       "    .dataframe thead th {\n",
       "        text-align: right;\n",
       "    }\n",
       "</style>\n",
       "<table border=\"1\" class=\"dataframe\">\n",
       "  <thead>\n",
       "    <tr style=\"text-align: right;\">\n",
       "      <th></th>\n",
       "      <th>company</th>\n",
       "      <th>make</th>\n",
       "      <th>model</th>\n",
       "      <th>version</th>\n",
       "      <th>price</th>\n",
       "      <th>price_financed</th>\n",
       "      <th>fuel</th>\n",
       "      <th>year</th>\n",
       "      <th>kms</th>\n",
       "      <th>power</th>\n",
       "      <th>doors</th>\n",
       "      <th>shift</th>\n",
       "      <th>color</th>\n",
       "      <th>photos</th>\n",
       "      <th>is_professional</th>\n",
       "      <th>dealer</th>\n",
       "      <th>phone</th>\n",
       "      <th>province</th>\n",
       "      <th>publish_date</th>\n",
       "      <th>insert_date</th>\n",
       "    </tr>\n",
       "  </thead>\n",
       "  <tbody>\n",
       "    <tr>\n",
       "      <th>0</th>\n",
       "      <td>9881BCDD5A0AD4733037B3FB25E69C3A</td>\n",
       "      <td>KIA</td>\n",
       "      <td>Carnival</td>\n",
       "      <td>KIA Carnival 2.9 CRDi VGT EX 5p.</td>\n",
       "      <td>3860</td>\n",
       "      <td>4860.0</td>\n",
       "      <td>Diésel</td>\n",
       "      <td>2007</td>\n",
       "      <td>221000</td>\n",
       "      <td>185.0</td>\n",
       "      <td>5.0</td>\n",
       "      <td>Manual</td>\n",
       "      <td>Beige (champagne)</td>\n",
       "      <td>8</td>\n",
       "      <td>True</td>\n",
       "      <td>VM Motor</td>\n",
       "      <td>928493782</td>\n",
       "      <td>Las Palmas</td>\n",
       "      <td>2020-12-22 13:28:36</td>\n",
       "      <td>2020-12-25 00:00:00</td>\n",
       "    </tr>\n",
       "    <tr>\n",
       "      <th>1</th>\n",
       "      <td>9881BCDD5A0AD4733037B3FB25E69C3A</td>\n",
       "      <td>BMW</td>\n",
       "      <td>Serie 5</td>\n",
       "      <td>BMW Serie 5  4p.</td>\n",
       "      <td>800</td>\n",
       "      <td>NaN</td>\n",
       "      <td>Diésel</td>\n",
       "      <td>2001</td>\n",
       "      <td>205000</td>\n",
       "      <td>NaN</td>\n",
       "      <td>4.0</td>\n",
       "      <td>Manual</td>\n",
       "      <td>Verde</td>\n",
       "      <td>0</td>\n",
       "      <td>False</td>\n",
       "      <td>3F128E570B3A9009D7B52A0523AF43DD</td>\n",
       "      <td>DBB2949B54A306BA299A791B860EEBF6</td>\n",
       "      <td>Tarragona</td>\n",
       "      <td>2020-12-14 07:02:22</td>\n",
       "      <td>2020-12-26 00:00:00</td>\n",
       "    </tr>\n",
       "    <tr>\n",
       "      <th>2</th>\n",
       "      <td>9881BCDD5A0AD4733037B3FB25E69C3A</td>\n",
       "      <td>FIAT</td>\n",
       "      <td>500</td>\n",
       "      <td>FIAT 500 1.2 8v 51kW 69CV Lounge 3p.</td>\n",
       "      <td>5490</td>\n",
       "      <td>6490.0</td>\n",
       "      <td>Gasolina</td>\n",
       "      <td>2017</td>\n",
       "      <td>75000</td>\n",
       "      <td>69.0</td>\n",
       "      <td>3.0</td>\n",
       "      <td>Manual</td>\n",
       "      <td>Negro</td>\n",
       "      <td>7</td>\n",
       "      <td>True</td>\n",
       "      <td>LAS PALMAS MOTOR</td>\n",
       "      <td>653895468</td>\n",
       "      <td>Las Palmas</td>\n",
       "      <td>2020-11-20 18:30:00</td>\n",
       "      <td>2020-12-08 00:00:00</td>\n",
       "    </tr>\n",
       "    <tr>\n",
       "      <th>3</th>\n",
       "      <td>9881BCDD5A0AD4733037B3FB25E69C3A</td>\n",
       "      <td>OPEL</td>\n",
       "      <td>Astra</td>\n",
       "      <td>OPEL Astra  3p.</td>\n",
       "      <td>4550</td>\n",
       "      <td>NaN</td>\n",
       "      <td>Diésel</td>\n",
       "      <td>2009</td>\n",
       "      <td>137000</td>\n",
       "      <td>NaN</td>\n",
       "      <td>3.0</td>\n",
       "      <td>Manual</td>\n",
       "      <td>Rojo</td>\n",
       "      <td>0</td>\n",
       "      <td>False</td>\n",
       "      <td>22003DEA67E7C5BE6022A29E677668BC</td>\n",
       "      <td>67990DA67E557C1D0C1B6D1DB731938C</td>\n",
       "      <td>Barcelona</td>\n",
       "      <td>2020-11-21 16:37:13</td>\n",
       "      <td>2020-11-24 00:00:00</td>\n",
       "    </tr>\n",
       "    <tr>\n",
       "      <th>4</th>\n",
       "      <td>9881BCDD5A0AD4733037B3FB25E69C3A</td>\n",
       "      <td>MERCEDES-BENZ</td>\n",
       "      <td>Clase C</td>\n",
       "      <td>MERCEDES-BENZ Clase C C 220 CDI AVANTGARDE 4p.</td>\n",
       "      <td>10990</td>\n",
       "      <td>11490.0</td>\n",
       "      <td>Diésel</td>\n",
       "      <td>2008</td>\n",
       "      <td>95000</td>\n",
       "      <td>170.0</td>\n",
       "      <td>4.0</td>\n",
       "      <td>Automático</td>\n",
       "      <td>Gris / Plata</td>\n",
       "      <td>21</td>\n",
       "      <td>True</td>\n",
       "      <td>Autos Lipiz</td>\n",
       "      <td>646179040</td>\n",
       "      <td>Madrid</td>\n",
       "      <td>2020-11-05 19:09:27</td>\n",
       "      <td>2020-12-01 00:00:00</td>\n",
       "    </tr>\n",
       "    <tr>\n",
       "      <th>...</th>\n",
       "      <td>...</td>\n",
       "      <td>...</td>\n",
       "      <td>...</td>\n",
       "      <td>...</td>\n",
       "      <td>...</td>\n",
       "      <td>...</td>\n",
       "      <td>...</td>\n",
       "      <td>...</td>\n",
       "      <td>...</td>\n",
       "      <td>...</td>\n",
       "      <td>...</td>\n",
       "      <td>...</td>\n",
       "      <td>...</td>\n",
       "      <td>...</td>\n",
       "      <td>...</td>\n",
       "      <td>...</td>\n",
       "      <td>...</td>\n",
       "      <td>...</td>\n",
       "      <td>...</td>\n",
       "      <td>...</td>\n",
       "    </tr>\n",
       "    <tr>\n",
       "      <th>4995</th>\n",
       "      <td>9881BCDD5A0AD4733037B3FB25E69C3A</td>\n",
       "      <td>OPEL</td>\n",
       "      <td>Corsa</td>\n",
       "      <td>OPEL Corsa 1.4 66kW 90CV Selective 5p.</td>\n",
       "      <td>9200</td>\n",
       "      <td>9400.0</td>\n",
       "      <td>Gasolina</td>\n",
       "      <td>2018</td>\n",
       "      <td>18318</td>\n",
       "      <td>90.0</td>\n",
       "      <td>5.0</td>\n",
       "      <td>Manual</td>\n",
       "      <td>Blanco (Alpino)</td>\n",
       "      <td>32</td>\n",
       "      <td>True</td>\n",
       "      <td>Vara de Quart</td>\n",
       "      <td>689851902</td>\n",
       "      <td>Valencia</td>\n",
       "      <td>2020-11-23 16:24:28</td>\n",
       "      <td>2020-11-26 00:00:00</td>\n",
       "    </tr>\n",
       "    <tr>\n",
       "      <th>4996</th>\n",
       "      <td>9881BCDD5A0AD4733037B3FB25E69C3A</td>\n",
       "      <td>TOYOTA</td>\n",
       "      <td>Auris</td>\n",
       "      <td>TOYOTA Auris 1.2 120T Active Touring Sports 5p.</td>\n",
       "      <td>6650</td>\n",
       "      <td>NaN</td>\n",
       "      <td>Gasolina</td>\n",
       "      <td>2016</td>\n",
       "      <td>157000</td>\n",
       "      <td>116.0</td>\n",
       "      <td>5.0</td>\n",
       "      <td>Manual</td>\n",
       "      <td>Azul</td>\n",
       "      <td>5</td>\n",
       "      <td>False</td>\n",
       "      <td>9448B9C35DDD44F451DC88E988CC3A03</td>\n",
       "      <td>67ABDCB290BF2A7CA8D3E84C9007BF9A</td>\n",
       "      <td>Tarragona</td>\n",
       "      <td>2020-11-10 15:27:32</td>\n",
       "      <td>2021-01-10 00:00:00</td>\n",
       "    </tr>\n",
       "    <tr>\n",
       "      <th>4997</th>\n",
       "      <td>9881BCDD5A0AD4733037B3FB25E69C3A</td>\n",
       "      <td>PEUGEOT</td>\n",
       "      <td>Partner</td>\n",
       "      <td>PEUGEOT Partner  5p.</td>\n",
       "      <td>5200</td>\n",
       "      <td>NaN</td>\n",
       "      <td>Diésel</td>\n",
       "      <td>2012</td>\n",
       "      <td>125000</td>\n",
       "      <td>NaN</td>\n",
       "      <td>5.0</td>\n",
       "      <td>Manual</td>\n",
       "      <td>Blanco</td>\n",
       "      <td>0</td>\n",
       "      <td>False</td>\n",
       "      <td>92EAF3719159C372F3D50337E0A14F57</td>\n",
       "      <td>A31DAA15140D41FD522BC3DF2341D5A1</td>\n",
       "      <td>Sevilla</td>\n",
       "      <td>2020-10-10 05:51:41</td>\n",
       "      <td>2020-12-16 00:00:00</td>\n",
       "    </tr>\n",
       "    <tr>\n",
       "      <th>4998</th>\n",
       "      <td>9881BCDD5A0AD4733037B3FB25E69C3A</td>\n",
       "      <td>MERCEDES-BENZ</td>\n",
       "      <td>GLC Coupé</td>\n",
       "      <td>MERCEDES-BENZ GLC Coupe GLC 220 d 4MATIC 5p.</td>\n",
       "      <td>48900</td>\n",
       "      <td>48000.0</td>\n",
       "      <td>Diésel</td>\n",
       "      <td>2019</td>\n",
       "      <td>15</td>\n",
       "      <td>170.0</td>\n",
       "      <td>5.0</td>\n",
       "      <td>Automático</td>\n",
       "      <td>Gris / Plata</td>\n",
       "      <td>11</td>\n",
       "      <td>True</td>\n",
       "      <td>Autocas Mercedes Benz</td>\n",
       "      <td>964222200</td>\n",
       "      <td>Castellón</td>\n",
       "      <td>2020-11-20 09:43:44</td>\n",
       "      <td>2020-11-28 00:00:00</td>\n",
       "    </tr>\n",
       "    <tr>\n",
       "      <th>4999</th>\n",
       "      <td>9881BCDD5A0AD4733037B3FB25E69C3A</td>\n",
       "      <td>MERCEDES-BENZ</td>\n",
       "      <td>Clase SL</td>\n",
       "      <td>MERCEDES-BENZ Clase SL SL 500 2p.</td>\n",
       "      <td>11950</td>\n",
       "      <td>NaN</td>\n",
       "      <td>Gasolina</td>\n",
       "      <td>2003</td>\n",
       "      <td>129000</td>\n",
       "      <td>306.0</td>\n",
       "      <td>2.0</td>\n",
       "      <td>Automático</td>\n",
       "      <td>Negro</td>\n",
       "      <td>30</td>\n",
       "      <td>True</td>\n",
       "      <td>Autofesa</td>\n",
       "      <td>910380569</td>\n",
       "      <td>Madrid</td>\n",
       "      <td>2021-01-19 09:40:55</td>\n",
       "      <td>2021-01-20 00:00:00</td>\n",
       "    </tr>\n",
       "  </tbody>\n",
       "</table>\n",
       "<p>5000 rows × 20 columns</p>\n",
       "</div>"
      ],
      "text/plain": [
       "                               company           make      model  \\\n",
       "0     9881BCDD5A0AD4733037B3FB25E69C3A            KIA   Carnival   \n",
       "1     9881BCDD5A0AD4733037B3FB25E69C3A            BMW    Serie 5   \n",
       "2     9881BCDD5A0AD4733037B3FB25E69C3A           FIAT        500   \n",
       "3     9881BCDD5A0AD4733037B3FB25E69C3A           OPEL      Astra   \n",
       "4     9881BCDD5A0AD4733037B3FB25E69C3A  MERCEDES-BENZ    Clase C   \n",
       "...                                ...            ...        ...   \n",
       "4995  9881BCDD5A0AD4733037B3FB25E69C3A           OPEL      Corsa   \n",
       "4996  9881BCDD5A0AD4733037B3FB25E69C3A         TOYOTA      Auris   \n",
       "4997  9881BCDD5A0AD4733037B3FB25E69C3A        PEUGEOT    Partner   \n",
       "4998  9881BCDD5A0AD4733037B3FB25E69C3A  MERCEDES-BENZ  GLC Coupé   \n",
       "4999  9881BCDD5A0AD4733037B3FB25E69C3A  MERCEDES-BENZ   Clase SL   \n",
       "\n",
       "                                              version  price  price_financed  \\\n",
       "0                    KIA Carnival 2.9 CRDi VGT EX 5p.   3860          4860.0   \n",
       "1                                    BMW Serie 5  4p.    800             NaN   \n",
       "2                FIAT 500 1.2 8v 51kW 69CV Lounge 3p.   5490          6490.0   \n",
       "3                                     OPEL Astra  3p.   4550             NaN   \n",
       "4      MERCEDES-BENZ Clase C C 220 CDI AVANTGARDE 4p.  10990         11490.0   \n",
       "...                                               ...    ...             ...   \n",
       "4995           OPEL Corsa 1.4 66kW 90CV Selective 5p.   9200          9400.0   \n",
       "4996  TOYOTA Auris 1.2 120T Active Touring Sports 5p.   6650             NaN   \n",
       "4997                             PEUGEOT Partner  5p.   5200             NaN   \n",
       "4998     MERCEDES-BENZ GLC Coupe GLC 220 d 4MATIC 5p.  48900         48000.0   \n",
       "4999                MERCEDES-BENZ Clase SL SL 500 2p.  11950             NaN   \n",
       "\n",
       "          fuel  year     kms  power  doors       shift              color  \\\n",
       "0       Diésel  2007  221000  185.0    5.0      Manual  Beige (champagne)   \n",
       "1       Diésel  2001  205000    NaN    4.0      Manual              Verde   \n",
       "2     Gasolina  2017   75000   69.0    3.0      Manual              Negro   \n",
       "3       Diésel  2009  137000    NaN    3.0      Manual               Rojo   \n",
       "4       Diésel  2008   95000  170.0    4.0  Automático       Gris / Plata   \n",
       "...        ...   ...     ...    ...    ...         ...                ...   \n",
       "4995  Gasolina  2018   18318   90.0    5.0      Manual    Blanco (Alpino)   \n",
       "4996  Gasolina  2016  157000  116.0    5.0      Manual               Azul   \n",
       "4997    Diésel  2012  125000    NaN    5.0      Manual             Blanco   \n",
       "4998    Diésel  2019      15  170.0    5.0  Automático       Gris / Plata   \n",
       "4999  Gasolina  2003  129000  306.0    2.0  Automático              Negro   \n",
       "\n",
       "      photos  is_professional                            dealer  \\\n",
       "0          8             True                          VM Motor   \n",
       "1          0            False  3F128E570B3A9009D7B52A0523AF43DD   \n",
       "2          7             True                  LAS PALMAS MOTOR   \n",
       "3          0            False  22003DEA67E7C5BE6022A29E677668BC   \n",
       "4         21             True                       Autos Lipiz   \n",
       "...      ...              ...                               ...   \n",
       "4995      32             True                     Vara de Quart   \n",
       "4996       5            False  9448B9C35DDD44F451DC88E988CC3A03   \n",
       "4997       0            False  92EAF3719159C372F3D50337E0A14F57   \n",
       "4998      11             True             Autocas Mercedes Benz   \n",
       "4999      30             True                          Autofesa   \n",
       "\n",
       "                                 phone    province         publish_date  \\\n",
       "0                            928493782  Las Palmas  2020-12-22 13:28:36   \n",
       "1     DBB2949B54A306BA299A791B860EEBF6   Tarragona  2020-12-14 07:02:22   \n",
       "2                            653895468  Las Palmas  2020-11-20 18:30:00   \n",
       "3     67990DA67E557C1D0C1B6D1DB731938C   Barcelona  2020-11-21 16:37:13   \n",
       "4                            646179040      Madrid  2020-11-05 19:09:27   \n",
       "...                                ...         ...                  ...   \n",
       "4995                         689851902    Valencia  2020-11-23 16:24:28   \n",
       "4996  67ABDCB290BF2A7CA8D3E84C9007BF9A   Tarragona  2020-11-10 15:27:32   \n",
       "4997  A31DAA15140D41FD522BC3DF2341D5A1     Sevilla  2020-10-10 05:51:41   \n",
       "4998                         964222200   Castellón  2020-11-20 09:43:44   \n",
       "4999                         910380569      Madrid  2021-01-19 09:40:55   \n",
       "\n",
       "              insert_date  \n",
       "0     2020-12-25 00:00:00  \n",
       "1     2020-12-26 00:00:00  \n",
       "2     2020-12-08 00:00:00  \n",
       "3     2020-11-24 00:00:00  \n",
       "4     2020-12-01 00:00:00  \n",
       "...                   ...  \n",
       "4995  2020-11-26 00:00:00  \n",
       "4996  2021-01-10 00:00:00  \n",
       "4997  2020-12-16 00:00:00  \n",
       "4998  2020-11-28 00:00:00  \n",
       "4999  2021-01-20 00:00:00  \n",
       "\n",
       "[5000 rows x 20 columns]"
      ]
     },
     "execution_count": 3,
     "metadata": {},
     "output_type": "execute_result"
    }
   ],
   "source": [
    "## Apliquem la funcio remitjana a nivell de columna\n",
    "cotxes = cotxes.rename(columns={'preu': 'price'})\n",
    "mitjana_preu = cotxes.price.mean()\n",
    "\n",
    "def remitjana_preu(row):\n",
    "    row.price = row.price - mitjana_preu\n",
    "    return row\n",
    "\n",
    "cotxes.apply(remitjana_preu, axis='columns')"
   ]
  },
  {
   "cell_type": "markdown",
   "metadata": {},
   "source": [
    "## Agrupació (Group by)\n",
    "---------------------\n",
    "Moltes vegades ens interessa realtizar una sèrie de funcions d'agregat realtizant una agrupació per un camp concret. Similar al que faríem a SQL.\n",
    "Això ho aconseguirem mitjançant la funció `groupby` antre altres\n"
   ]
  },
  {
   "cell_type": "code",
   "execution_count": null,
   "metadata": {},
   "outputs": [],
   "source": [
    "# Volem saber quina és la quantitat de vehicles per cada marca\n",
    "cotxes.groupby('make').make.count()"
   ]
  },
  {
   "cell_type": "markdown",
   "metadata": {},
   "source": [
    "Fixa't que hem d'indicar el camp pel qual volem contar. Per tant si el que fem és executar \n",
    "```python\n",
    "cotxes.groupby('make').count()\n",
    "```\n",
    "\n",
    "Retornarà el DataFrame agrupat per marca i contarà de cada columna quantes files hi ha. Si hi ha alguna fila NaN no la contarà.\n",
    "Fixa't amb la marca ASTON MARTIN hi ha 3 cotxes, però 2 no tenen preu finançat"
   ]
  },
  {
   "cell_type": "code",
   "execution_count": null,
   "metadata": {},
   "outputs": [],
   "source": [
    "cotxes.groupby('make').count()"
   ]
  },
  {
   "cell_type": "code",
   "execution_count": null,
   "metadata": {},
   "outputs": [],
   "source": [
    "cotxes[cotxes.make==\"ASTON MARTIN\"]"
   ]
  },
  {
   "cell_type": "code",
   "execution_count": null,
   "metadata": {},
   "outputs": [],
   "source": [
    "# Recordeu que això també ho podeu fer mitjançant el value_counts (aquesta funció seria una drecer de groupby + count)\n",
    "cotxes.make.value_counts()"
   ]
  },
  {
   "cell_type": "code",
   "execution_count": null,
   "metadata": {},
   "outputs": [],
   "source": [
    "# Si volem buscar el preu mínim de cada marca\n",
    "cotxes.groupby('make').price.min()\n",
    "\n",
    "# La sentència SQL equivalent seria\n",
    "SELECT make,MIN(price)\n",
    "    FROM cotxes\n",
    "GROUP BY make"
   ]
  },
  {
   "cell_type": "markdown",
   "metadata": {},
   "source": [
    "Hem de pensar que cada grup que generem és una part del nostre DataFrame que només conté dades amb valors que coincideixen. \n",
    "Com a tal podem aplicar totes les funcions que hem anat veient en un DataFrame. Inclús `apply()`"
   ]
  },
  {
   "cell_type": "code",
   "execution_count": null,
   "metadata": {},
   "outputs": [],
   "source": [
    "# Volem obtenir de cada marca per primer cotxe, mostrant el model i la versió.\n",
    "cotxes.groupby('make').apply(lambda p: p.model.iloc[0]+' '+p.version.iloc[0])"
   ]
  },
  {
   "cell_type": "markdown",
   "metadata": {},
   "source": [
    "De la mateixa manera que amb SQL podem agrupar per més d'un camp aquí també ho podem fer. passant una llista de camps a agrupar.\n"
   ]
  },
  {
   "cell_type": "code",
   "execution_count": null,
   "metadata": {},
   "outputs": [],
   "source": [
    "# Volem obtenir el preu mínim de cada marca i model.\n",
    "cotxes.groupby(['make','model']).price.min()"
   ]
  },
  {
   "cell_type": "code",
   "execution_count": null,
   "metadata": {},
   "outputs": [],
   "source": [
    "# Volem obtenir la quanitat de cotxes per cada marca i model\n",
    "cotxes.groupby(['make','model']).make.count()"
   ]
  },
  {
   "cell_type": "code",
   "execution_count": null,
   "metadata": {},
   "outputs": [],
   "source": [
    "# Volem obtenir per cada marca i model un dels cotxes més nous\n",
    "\n",
    "cotxes.groupby(['make','model']).apply(lambda p: p.loc[p.year.idxmax()])\n"
   ]
  },
  {
   "cell_type": "markdown",
   "metadata": {},
   "source": [
    "Amb la funció `aggregate()` o `agg()` podem aplicar certes funcions d'agregat (len, min, max, sum, np.mean, np.std, np.median, np.var) i si tenim carregada la llibreria de NumPy millor alhora per treure alguna estadística"
   ]
  },
  {
   "cell_type": "code",
   "execution_count": null,
   "metadata": {},
   "outputs": [],
   "source": [
    "# Podem obtenir estadístics per cada marca\n",
    "cotxes.groupby('make').price.agg([len,min,max,sum, np.mean, np.std, np.median, np.average, np.var])"
   ]
  },
  {
   "cell_type": "code",
   "execution_count": null,
   "metadata": {},
   "outputs": [],
   "source": [
    "# Podem ordenar el resultat anterior per quantitat de vehicles\n",
    "cotxes.groupby(['make','model']).price.agg([len,min,max,sum, np.mean, np.std, np.median, np.average, np.var]).sort_values(by=\"len\")\n"
   ]
  },
  {
   "cell_type": "markdown",
   "metadata": {},
   "source": [
    "En els exemples que hem vist anteriorment el resultat s'ha tranformat amb un **multiindex**.\n",
    "\n",
    "Per tornar a convertir el resultat amb un índex normal cal utilitzar el mètode `reset_index()`"
   ]
  },
  {
   "cell_type": "code",
   "execution_count": null,
   "metadata": {},
   "outputs": [],
   "source": [
    "cotxes.groupby(['make','model']).price.agg([len,min,max,sum, np.mean, np.std, np.median, np.average, np.var]).reset_index()"
   ]
  },
  {
   "cell_type": "markdown",
   "metadata": {},
   "source": [
    "## Tipus de dades i falta de dades/valors\n",
    "----------------\n",
    "\n",
    "### Dtypes\n",
    "\n",
    "Mitjançant la propietat `dtype` i `dtypes` podem veure el tipus de dades d'una columna o de totes les columnes del DataFrame.\n",
    "[Documentació oficial](https://pandas.pydata.org/pandas-docs/stable/reference/api/pandas.DataFrame.dtypes.html)\n"
   ]
  },
  {
   "cell_type": "code",
   "execution_count": null,
   "metadata": {},
   "outputs": [],
   "source": [
    "cotxes.make.dtype"
   ]
  },
  {
   "cell_type": "code",
   "execution_count": null,
   "metadata": {},
   "outputs": [],
   "source": [
    "cotxes.dtypes"
   ]
  },
  {
   "cell_type": "markdown",
   "metadata": {},
   "source": [
    "Podem canviar els tius de dades mitjançant `astype`. [Documetnació oficial](https://pandas.pydata.org/pandas-docs/stable/reference/api/pandas.DataFrame.astype.html)"
   ]
  },
  {
   "cell_type": "markdown",
   "metadata": {},
   "source": [
    "### Falta de dades\n",
    "\n",
    "Les entrades que falten valors reben el valor NaN, abreviatura de \"Not a Number\". Per motius tècnics, aquests valors de NaN són sempre del tipus float64.\n",
    "\n",
    "Pandas ofereix alguns mètodes específics per la falta de dades. Per exemple per seleccionar entrades `NaN`es pot utilitzar el mètode `isnull()` o el seu equivalent `notnull()`.\n",
    "\n",
    "Aquests mètodes ja n'hem posat algun exemple a l'apartat de selectors."
   ]
  },
  {
   "cell_type": "code",
   "execution_count": null,
   "metadata": {},
   "outputs": [],
   "source": [
    "cotxes[pd.isnull(cotxes.model)]"
   ]
  },
  {
   "cell_type": "markdown",
   "metadata": {},
   "source": [
    "### `fillna()`\n",
    "\n",
    "Substituir els valors NaN és una operació que utilitzem sovint. Pandas ofereix el mètode `fillna()` per solucionar aquest problema."
   ]
  },
  {
   "cell_type": "code",
   "execution_count": null,
   "metadata": {},
   "outputs": [],
   "source": [
    "cotxes_fill = cotxes.model.fillna(\"Model desconegut\")"
   ]
  },
  {
   "cell_type": "markdown",
   "metadata": {},
   "source": [
    "### `replace()`\n",
    "\n",
    "Pandas ofereix el mètode `replace()` per substituir un valor per un altre.\n",
    "\n"
   ]
  },
  {
   "cell_type": "code",
   "execution_count": null,
   "metadata": {},
   "outputs": [],
   "source": [
    "cotxes.fuel.replace(\"Gasolina\", \"Benzina\")"
   ]
  },
  {
   "cell_type": "markdown",
   "metadata": {},
   "source": [
    "El mètode `replace()` el podem utilitzar per substituir les dades que falten mitjançant algun sentinella \"Desconegut\", \"No divulgat\", \"No vàlid\", etc."
   ]
  },
  {
   "cell_type": "markdown",
   "metadata": {},
   "source": [
    "## Transformació\n",
    "----------------\n",
    " \n",
    "Molt sovint hem de realitzar canvis en el nostra DataFrame. Afegir, eliminar i renombrar columnes a més de canviar algun tipus de dades.\n",
    "\n",
    "### Afegir columna\n",
    "\n",
    "Podem afegir columnes noves mitjançant columnes existens aplicant-li expressions."
   ]
  },
  {
   "cell_type": "code",
   "execution_count": null,
   "metadata": {},
   "outputs": [],
   "source": [
    "# Afegim una nova columna al final del DataFrame\n",
    "cotxes['price_dte'] = cotxes.price * 0.20\n",
    "\n",
    "#Afegim una nova columna en una ubicació espcífica.\n",
    "cotxes.insert(3,'price_50', cotxes.price * 0.50)"
   ]
  },
  {
   "cell_type": "markdown",
   "metadata": {},
   "source": [
    "Possiblament la forma més eficient de reorganitzar les columnes és mitjançant `reindex`"
   ]
  },
  {
   "cell_type": "code",
   "execution_count": null,
   "metadata": {},
   "outputs": [],
   "source": [
    "# En l'exemple reindexem les columnes, però si no afegim totes les columnes del DataFrame aquestes s'esborren.\n",
    "cotxes = cotxes.reindex(columns=['version','model','company','price','price_financed','price_dte'])"
   ]
  },
  {
   "cell_type": "code",
   "execution_count": null,
   "metadata": {},
   "outputs": [],
   "source": [
    "# Podem utilitzar insert per afegir una nova columna.\n",
    "cotxes.insert(3,'descripcio',cotxes.apply(lambda fila: str(fila.model)+' - '+str(fila.version), axis=1))"
   ]
  },
  {
   "cell_type": "markdown",
   "metadata": {},
   "source": [
    "### Renombrar una columna\n",
    "\n"
   ]
  },
  {
   "cell_type": "code",
   "execution_count": null,
   "metadata": {},
   "outputs": [],
   "source": [
    "# Renombrem la columna\n",
    "cotxes2 = cotxes.rename(columns={'price': 'preu'})"
   ]
  },
  {
   "cell_type": "markdown",
   "metadata": {},
   "source": [
    " En general, les funcions de pandas retornen un nou objecte amb el resultat de l'operació, però no modifiquen l'actual DataFrame. Hi ha el paràmetre `inplace`amb valor per defecte a `False`. Si el posem a `True` l'operació es  realitzarà a l'objecte passat per paràmetre."
   ]
  },
  {
   "cell_type": "markdown",
   "metadata": {},
   "source": [
    "### Canviar indexos\n",
    "\n",
    "Mitjançant el mètode `set_index` podem canviar l'índex d'un DataFrame per una columna.\n"
   ]
  },
  {
   "cell_type": "code",
   "execution_count": null,
   "metadata": {},
   "outputs": [],
   "source": [
    "cotxes.set_index(['make','model','version'])"
   ]
  },
  {
   "cell_type": "markdown",
   "metadata": {},
   "source": [
    "## Combinacions\n",
    "----------------\n",
    " \n",
    "Quan realitzem operacions en conjunts de dades, de vegades haurem de combinar diferents DataFrames i/o Sèries. \n",
    "Per fer això Pandas ofereix tres mètodes bàsics per fer-ho: `concat()`, `join()`, `merge()`. Aquesta última no s'utilitza massa perquè amb les dues anteriors podem fer la majoria de combinacions.\n",
    "\n",
    "### `concat()`\n",
    "\n",
    "El mètode de combinació més senzill és concat(). Donada una llista d'elements, aquest mètode agruparà aquests elements al llarg d'un eix.\n",
    "\n",
    "Això és útil quan tenim dades en diferents objectes DataFrame o Series però amb els mateixos camps (columnes). \n",
    "\n",
    "A nivel SQL seria comparable amb l'operació **UNION**\n",
    "\n",
    "Un exemple: el conjunt de dades de vídeos de YouTube, que divideix les dades segons el país d'origen (per exemple, el Canadà i el Regne Unit, en aquest exemple). \n",
    "\n",
    "Si volem estudiar diversos països simultàniament, podem utilitzar concat() per combinar-los:\n"
   ]
  },
  {
   "cell_type": "code",
   "execution_count": null,
   "metadata": {},
   "outputs": [],
   "source": [
    "canadian_youtube = pd.read_csv(\"dataset/youtube-new/CAvideos.csv\")\n",
    "british_youtube = pd.read_csv(\"dataset/youtube-new/GBvideos.csv\")\n",
    "\n",
    "pd.concat([canadian_youtube, british_youtube])"
   ]
  },
  {
   "cell_type": "markdown",
   "metadata": {},
   "source": [
    "### `join()`\n",
    "\n",
    "El mètode `join()` permet combinar diferents objectes DataFrame que tenen un **índex** en comú. És molt semblant a l'operador JOIN d'SQL.\n",
    "\n",
    "Però com s'ha dit utilitza els índex per fer la JOIN.\n",
    "\n",
    "Per exemple, per treure vídeos que van ser tendència el mateix dia tant al Canadà com al Regne Unit, podríem fer el següent:\n"
   ]
  },
  {
   "cell_type": "code",
   "execution_count": null,
   "metadata": {},
   "outputs": [],
   "source": [
    "canadian_youtube = pd.read_csv(\"dataset/youtube-new/CAvideos.csv\")\n",
    "british_youtube = pd.read_csv(\"dataset/youtube-new/GBvideos.csv\")\n",
    "\n",
    "## Posem els camps title i trending_date com a índexos\n",
    "left = canadian_youtube.set_index(['title', 'trending_date'])\n",
    "right = british_youtube.set_index(['title', 'trending_date'])\n",
    "\n",
    "#Fem la join dels dos DataFrames. Afegim un sufix a les columnes que es diguin igual.\n",
    "left.join(right, lsuffix='_CAN', rsuffix='_UK')\n"
   ]
  },
  {
   "cell_type": "code",
   "execution_count": null,
   "metadata": {},
   "outputs": [],
   "source": [
    "# Un altre exemple seria les dues típiques taula de treballadors i departametns.\n",
    "treballadors = pd.DataFrame({'treballador_id':[111,222,333],\n",
    "                    'nom':['Pere','Marta','Joan'],\n",
    "                    'departament_id':[10,20,10]\n",
    "                    });\n",
    "\n",
    "departaments = pd.DataFrame({'departament_id':[10,20,30],\n",
    "                    'nom':['IT','Administració','Logística','Direcció']\n",
    "                    })\n",
    "\n",
    "left = treballadors.set_index(\"departament_id\")\n",
    "right = departaments.set_index(\"departament_id\")\n",
    "\n",
    "left.join(right, lsuffix='_TREB', rsuffix='_DEP')\n"
   ]
  },
  {
   "cell_type": "markdown",
   "metadata": {},
   "source": [
    "### `merge()`\n",
    "\n",
    "El mètode `merge` de pandas és molt més potent que el join ja que podem especificar:\n",
    "* Paràmetre `how`especifiquem el tipus de JOIN  a fer({‘left’, ‘right’, ‘outer’, ‘inner’, ‘cross’}, default ‘inner’)\n",
    "* Paràmetre `on`especifiquem la columna o una llista de columnes per fer el join.\n"
   ]
  },
  {
   "cell_type": "code",
   "execution_count": null,
   "metadata": {},
   "outputs": [],
   "source": [
    "# Exemple típic de treballadors i departaments.\n",
    "\n",
    "## INNER JOIN\n",
    "treballadors = pd.DataFrame({'treballador_id':[111,222,333],\n",
    "                    'nom':['Pere','Marta','Joan'],\n",
    "                    'departament_id':[10,20,10]\n",
    "                    });\n",
    "\n",
    "departaments = pd.DataFrame({'departament_id':[10,20,30],\n",
    "                    'nom':['IT','Administració','Logística','Direcció']\n",
    "                    })\n",
    "\n",
    "pd.merge(treballadors,departaments,on='departament_id')"
   ]
  },
  {
   "cell_type": "code",
   "execution_count": null,
   "metadata": {},
   "outputs": [],
   "source": [
    "## LEFT JOIN\n",
    "treballadors = pd.DataFrame({'treballador_id':[111,222,333,444],\n",
    "                    'nom':['Pere','Marta','Joan','Alice'],\n",
    "                    'departament_id':[10,20,10,None]\n",
    "                    });\n",
    "\n",
    "departaments = pd.DataFrame({'departament_id':[10,20,30,40],\n",
    "                    'nom':['IT','Administració','Logística','Direcció']\n",
    "                    })\n",
    "\n",
    "pd.merge(treballadors,departaments,how='left', on='departament_id')"
   ]
  },
  {
   "cell_type": "code",
   "execution_count": null,
   "metadata": {},
   "outputs": [],
   "source": [
    "# El mateix que l'anterior però mitjançant el mètode `merge`del DataFrame\n",
    "treballadors.merge(departaments,how='left', on='departament_id', suffixes = (\"_T\",\"_D\"))"
   ]
  },
  {
   "cell_type": "code",
   "execution_count": null,
   "metadata": {},
   "outputs": [],
   "source": [
    "# RIGHT JOIN \n",
    "treballadors.merge(departaments,how='right', on='departament_id')"
   ]
  },
  {
   "cell_type": "code",
   "execution_count": null,
   "metadata": {},
   "outputs": [],
   "source": [
    "# FULL OUTER JOIN\n",
    "pd.merge(treballadors,departaments,how='outer', on='departament_id')"
   ]
  },
  {
   "cell_type": "code",
   "execution_count": null,
   "metadata": {},
   "outputs": [],
   "source": [
    "# CROSS JOIN\n",
    "pd.merge(treballadors,departaments,how='cross')\n"
   ]
  },
  {
   "cell_type": "markdown",
   "metadata": {},
   "source": [
    "\n",
    "\n",
    "## Pandasql\n",
    "-----------\n",
    "\n",
    "Si estàs acostumat a treballar amb SQL mira't la llibreria Pandasql. Aquesta llibreria permet manipular Dataframes de Pandas utilitzant SQL.\n",
    "\n",
    "[https://towardsdatascience.com/query-pandas-dataframe-with-sql](https://towardsdatascience.com/query-pandas-dataframe-with-sql-2bb7a509793d)\n",
    "\n",
    "## Exportació\n",
    "-------------\n",
    "\n",
    "(https://pandas.pydata.org/docs/reference/io.html)[https://pandas.pydata.org/docs/reference/io.html]\n",
    "\n",
    "Per la exportació de DataFrames tenim diferents mètodes, però potser els més utilitzats són:\n",
    "* `to_csv()`\n",
    "* `to_excel()`\n",
    "* `to_json()`\n",
    "* `to_html()`\n",
    "\n",
    "\n"
   ]
  },
  {
   "cell_type": "code",
   "execution_count": null,
   "metadata": {},
   "outputs": [],
   "source": []
  }
 ],
 "metadata": {
  "kernelspec": {
   "display_name": "Python 3 (ipykernel)",
   "language": "python",
   "name": "python3"
  },
  "language_info": {
   "codemirror_mode": {
    "name": "ipython",
    "version": 3
   },
   "file_extension": ".py",
   "mimetype": "text/x-python",
   "name": "python",
   "nbconvert_exporter": "python",
   "pygments_lexer": "ipython3",
   "version": "3.9.12"
  },
  "vscode": {
   "interpreter": {
    "hash": "cf02e6bf250f77d388a6bc5f87ea1eec704c2fee4b623a6d66585fe8e13b7d67"
   }
  }
 },
 "nbformat": 4,
 "nbformat_minor": 4
}
