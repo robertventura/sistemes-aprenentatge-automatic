{
 "cells": [
  {
   "cell_type": "markdown",
   "metadata": {},
   "source": [
    "Tractament de dades\n",
    "===================\n",
    "\n",
    "***\n",
    "\n",
    "En aquest apartat veurem quines són les llibreries més utilitzades alhora d'importar i exportar dades, realitzar operacions de tractament, visualització, etc..\n",
    "\n",
    "Llibreries\n",
    "----------\n",
    "Les llibreries que tractarem seran:\n",
    "\n",
    "* NumPy: **Num**erical **Py**ton  és un llibreria especialitzada en el càlcul numèric, l'anàlisi de dades, tractament de vectors i matrius per un gran volum de dades. https://numpy.org/ \n",
    "* MatplotLib: \n",
    "* Pandas: Llibreria que ens permet la importació o càrrega, exportació i operaciones amb dades.\n",
    "\n",
    "\n",
    "Importació llibreries\n",
    "---------------------\n",
    "Per importar les llibreries amb python utilitzarem la paraula import\n",
    "```python\n",
    "import numpy as np\n",
    "```\n",
    "\n",
    "Per importar subllibreries.\n",
    "```python\n",
    "import matplotlib.pylot as plt\n",
    "```"
   ]
  },
  {
   "cell_type": "markdown",
   "metadata": {},
   "source": [
    "\n",
    "***\n",
    "\n",
    "Introducció a Pandas <img align=\"right\"  width=\"185\" height=\"75\"  src=\"img/pandas-logo.png\" alt=\"pandas_logo\"/>\n",
    "---------------------\n",
    "\n",
    "### Importació i exportació\n",
    "\n",
    "\n",
    "Pandas carrega les dades amb el que ell anomena DataFrame i les tracta en format de taula.\n",
    "Podem importar dades a DataFrames de Pandas de diferents orígen i formats:\n",
    "\n",
    "* De CSV: con [`read_csv`](https://pandas.pydata.org/pandas-docs/stable/generated/pandas.read_csv.html)\n",
    "* De Excel: con [`read_excel`](https://pandas.pydata.org/pandas-docs/stable/generated/pandas.read_excel.html)\n",
    "* De base de datos: con [`read_sql`](https://pandas.pydata.org/pandas-docs/stable/generated/pandas.read_sql.html)\n",
    "\n",
    "\n",
    "En aquest exemple veiem la manera d'importar les dades a partir d'un fitxer CSV. Aquest fitxer conté dades d'anuncis de venda de cotxes de segona mà de diferents plataformes. Origen del [dataset](https://www.kaggle.com/datasets/datamarket/venta-de-coches)\n",
    "\n",
    "**Nota:** Per poder manipular base de dades SQLite podem utilitzar l'eina [DB Browser for SQLite ](https://sqlitebrowser.org/)"
   ]
  },
  {
   "cell_type": "code",
   "execution_count": null,
   "metadata": {},
   "outputs": [],
   "source": [
    "\n",
    "#Importar dadades des d'un CSV\n",
    "import pandas as pd\n",
    "\n",
    "cotxes = pd.read_csv('dataset/venda-cotxes-segona-ma.csv', index_col=False)\n",
    "cotxes.head()\n"
   ]
  },
  {
   "cell_type": "code",
   "execution_count": null,
   "metadata": {},
   "outputs": [],
   "source": [
    "\n",
    "#Importar dadades des d'un Excel\n",
    "import pandas as pd\n",
    "\n",
    "cotxes = pd.read_excel('dataset/venda-cotxes-segona-ma.xlsx', index_col=0)\n",
    "cotxes.head()\n"
   ]
  },
  {
   "cell_type": "code",
   "execution_count": null,
   "metadata": {},
   "outputs": [],
   "source": [
    "\n",
    "#Importar dadades des d'una BD SQL (SQLite)\n",
    "import pandas as pd\n",
    "import sqlite3\n",
    "\n",
    "# Creem una conexió a la base de dades SQLite\n",
    "con = sqlite3.connect(\"dataset/venda-cotxes-segona-ma.db\")\n",
    "\n",
    "#\n",
    "cotxes = pd.read_sql(\"SELECT * FROM cotxes\", con)\n",
    "cotxes.head()\n",
    "\n",
    "#Tanquem la connexió\n",
    "con.close()\n"
   ]
  },
  {
   "cell_type": "markdown",
   "metadata": {},
   "source": [
    "### Filtre i/o selecció\n",
    "\n",
    "Per poder seleccionar un subconjunt de les dades que tenim en un Dataframe podem utilitzar les porpietats `loc`, `iloc` i `[]`. El primer `loc` accedirem al grup de files i columnes mitjançant etiquetes o bé amb un array de vooleans. Amb el segon `iloc` accedim al grup de files i columnes mitjançant posicions. Per últim `[]` l'utilitzarem per filtrar per condicions.\n",
    "\n",
    "[https://pandas.pydata.org/docs/user_guide/indexing.html](https://pandas.pydata.org/docs/user_guide/indexing.html#)\n",
    "\n",
    "Aquests mètodes retornen un altre DataFrame. \n",
    "Si volem transformar-lo amb un array d'objectes (Array of object)\n",
    "\n",
    "#### Selecció per índexs (`iloc`)\n",
    "\n",
    "Per accedir per posició utilitzant indexos numèrics , utilitzarem iloc[] i dins dels claudators indicarem els índexs de les les files i les columnes que volem seleccionar\n",
    "\n",
    "[https://pandas.pydata.org/docs/reference/api/pandas.DataFrame.iloc.html](https://pandas.pydata.org/docs/reference/api/pandas.DataFrame.iloc.html)\n",
    "\n",
    "Cal tenir en compte que Python utilitza el 0 com a primer valor d'un índex.\n",
    "\n",
    "\n",
    "```\n",
    "# Sintaxi\n",
    "iloc[<número de files>]\n",
    "iloc[<índex primera fila>:<índex última fila>,<índex primera col>:<índex última col>]\n",
    "iloc[<índex fila a seleccionar>,<índex columna a seleccionar>]\n",
    "iloc[[<índexs de les files no consecutives a seleccionar>],[<índexs de les columnes no consecutives a seleccionar>]]\n",
    "```"
   ]
  },
  {
   "cell_type": "code",
   "execution_count": null,
   "metadata": {},
   "outputs": [],
   "source": [
    "# Seleccionem les 100 primeres observacions\n",
    "cotxes.iloc[100]"
   ]
  },
  {
   "cell_type": "code",
   "execution_count": null,
   "metadata": {},
   "outputs": [],
   "source": [
    "# Seleccionem totes les files i totes les columnes (no filtrem res)\n",
    "cotxes.iloc[:,:]"
   ]
  },
  {
   "cell_type": "code",
   "execution_count": null,
   "metadata": {},
   "outputs": [],
   "source": [
    "# Seleccionem totes les files i la primera columna (company)\n",
    "cotxes.iloc[:,0:1]"
   ]
  },
  {
   "cell_type": "code",
   "execution_count": null,
   "metadata": {},
   "outputs": [],
   "source": [
    "# Seleccionem totes les files i la primera columna (company)\n",
    "cotxes.iloc[:,0]"
   ]
  },
  {
   "cell_type": "code",
   "execution_count": null,
   "metadata": {},
   "outputs": [],
   "source": [
    "# Seleccionem la última columna (insert_date)\n",
    "cotxes.iloc[:,-1]"
   ]
  },
  {
   "cell_type": "code",
   "execution_count": null,
   "metadata": {},
   "outputs": [],
   "source": [
    "# Seleccionem totes les columnes excepte la última\n",
    "cotxes.iloc[:,:-1]"
   ]
  },
  {
   "cell_type": "code",
   "execution_count": null,
   "metadata": {},
   "outputs": [],
   "source": [
    "# Seleccionem les columnes 1, 2, 4 (columnes no consecutives) (make,model,price)\n",
    "cotxes.iloc[:,[1,2,4]] "
   ]
  },
  {
   "cell_type": "markdown",
   "metadata": {},
   "source": [
    "##### Exercicis `iloc`\n",
    "\n",
    "Del dataset venda-cotxes-segona-ma.csv \n",
    "\n",
    "* Mostra les 5 primeres files\n",
    "* Mostra les 5 últimes files\n",
    "* Mostra la fila 10,15,20\n",
    "* Mostra la fila 10, però només volem la marca i el model del cotxe\n",
    "\n",
    "#### Selecció per etiquetes (`loc`)\n",
    "\n",
    "Amb loc podem seleccionar un grup de files i/o columnes a través d'etiquetes o un array de booleans.\n",
    "\n",
    "[https://pandas.pydata.org/docs/reference/api/pandas.DataFrame.loc.html](https://pandas.pydata.org/docs/reference/api/pandas.DataFrame.loc.html)\n",
    "\n",
    "\n",
    "* Una sola etiqueta, per exemple. `5` or `'a'`, (el 5 és interpretat com una etiqueta i no com un índex).\n",
    "* Un array d'etiquetes, per exemple. `['a', 'b', 'c']`.\n",
    "* Un rang/tall d'objectes amb etiques, per exemple. 'a':'f'.\n",
    "* Un array de booleans amb la mateixa longitud que el número de columnes. True significarà que volem la columna i False no."
   ]
  },
  {
   "cell_type": "code",
   "execution_count": null,
   "metadata": {},
   "outputs": [],
   "source": [
    "# Seleccionem totes les files i només mostrarem les columnes `make` i `price`\n",
    "cotxes.loc[:,['make','price']]"
   ]
  },
  {
   "cell_type": "code",
   "execution_count": null,
   "metadata": {},
   "outputs": [],
   "source": [
    "# Seleccionem totes les files i les columnes compreses entre `make` i `fuel`\n",
    "cotxes.loc[:,'make':'fuel']"
   ]
  },
  {
   "cell_type": "code",
   "execution_count": null,
   "metadata": {},
   "outputs": [],
   "source": [
    "# Selecciona el valor de la cel·la de la fila 0 i la columna `make`. Per tant només retorna una valor\n",
    "cotxes.loc[1,'make']"
   ]
  },
  {
   "cell_type": "code",
   "execution_count": null,
   "metadata": {},
   "outputs": [],
   "source": [
    "# Seleccionem només la primera columna (company)\n",
    "cotxes.loc[:,[True,False,False,False,False,False,False,False,False,False,False,False,False,False,False,False,False,False,False,False]]"
   ]
  },
  {
   "cell_type": "markdown",
   "metadata": {},
   "source": [
    "#### Selecció per condicions (`[]`)\n",
    "\n",
    "Podem seleccionar files que compleixin una certa condició. Li passem al DataFrame una sère de booleanss o una condició lògica que retorni booleà.\n",
    "\n",
    "Podem combinar diferents condicions amb & (operador i lògic) i | (operador o lògic)"
   ]
  },
  {
   "cell_type": "code",
   "execution_count": null,
   "metadata": {},
   "outputs": [],
   "source": [
    "# seleccionem els cotxes que només siguin de la marca BMW\n",
    "cotxes[cotxes.make==\"BMW\"]"
   ]
  },
  {
   "cell_type": "code",
   "execution_count": null,
   "metadata": {},
   "outputs": [],
   "source": [
    "#seleccionem els cotex que siguin de la marca BMW i que el seu preu sigui inferior a 20.000\n",
    "cotxes[(cotxes.make==\"BMW\") & (cotxes.price<20000)]"
   ]
  },
  {
   "cell_type": "markdown",
   "metadata": {},
   "source": [
    "**Important**: Podem combinar les propietats anteriors per fer seleccions més complexes"
   ]
  },
  {
   "cell_type": "code",
   "execution_count": null,
   "metadata": {},
   "outputs": [],
   "source": [
    "# De tots els cotxes BMW i que el seu preu sigui inferior a 20.000 retornem només la columna `company` (companyia)\n",
    "cotxes[(cotxes.make==\"BMW\") & (cotxes.price<20000)].loc[:,'company']"
   ]
  },
  {
   "cell_type": "markdown",
   "metadata": {},
   "source": [
    "### Ordenació\n",
    "\n",
    "Podem ordenar un DataFrame per una o diferent columnes mitjanánt el mètode `sort_values`"
   ]
  },
  {
   "cell_type": "code",
   "execution_count": null,
   "metadata": {},
   "outputs": [],
   "source": [
    "# Ordenem els cotxes per pereu de forma ascendent\n",
    "cotxes.sort_values('price',ascending=True)"
   ]
  },
  {
   "cell_type": "code",
   "execution_count": null,
   "metadata": {},
   "outputs": [],
   "source": [
    "# Ordenem els cotxes per pereu de forma ascendent i any de forma descendent\n",
    "cotxes.sort_values(['price','year'],ascending=[True,False])"
   ]
  },
  {
   "cell_type": "markdown",
   "metadata": {},
   "source": [
    "### Ordenació\n",
    "\n",
    "Podem ordenar un DataFrame per una o diferent columnes mitjanánt el mètode `sort_values`"
   ]
  },
  {
   "cell_type": "markdown",
   "metadata": {},
   "source": [
    "##### Exercicis `loc`\n",
    "\n",
    "https://www.w3resource.com/python-exercises/pandas/filter/index.php"
   ]
  },
  {
   "cell_type": "markdown",
   "metadata": {},
   "source": [
    "\n",
    "\n",
    "### Pandasql\n",
    "Si estàs acostumat a treballar amb SQL mira't la llibreria Pandasql. Aquesta llibreria permet manipular Dataframes de Pandas utilitzant SQL.\n",
    "\n",
    "[https://towardsdatascience.com/query-pandas-dataframe-with-sql](https://towardsdatascience.com/query-pandas-dataframe-with-sql-2bb7a509793d)\n",
    "\n",
    "### Exportació\n",
    "\n"
   ]
  }
 ],
 "metadata": {
  "kernelspec": {
   "display_name": "Python 3.10.2 64-bit",
   "language": "python",
   "name": "python3"
  },
  "language_info": {
   "codemirror_mode": {
    "name": "ipython",
    "version": 3
   },
   "file_extension": ".py",
   "mimetype": "text/x-python",
   "name": "python",
   "nbconvert_exporter": "python",
   "pygments_lexer": "ipython3",
   "version": "3.10.2"
  },
  "orig_nbformat": 4,
  "vscode": {
   "interpreter": {
    "hash": "cf02e6bf250f77d388a6bc5f87ea1eec704c2fee4b623a6d66585fe8e13b7d67"
   }
  }
 },
 "nbformat": 4,
 "nbformat_minor": 2
}
