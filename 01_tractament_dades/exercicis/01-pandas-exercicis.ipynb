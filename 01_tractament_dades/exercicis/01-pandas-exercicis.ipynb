{
 "cells": [
  {
   "cell_type": "markdown",
   "metadata": {},
   "source": [
    "# Exercicis - Pandas  <img align=\"right\"  width=\"185\" height=\"75\"  src=\"../img/pandas-logo.png\" alt=\"pandas_logo\"/>\n",
    "\n",
    "Exercicis relacionats en lla llibreria [Pandas](https://pandas.pydata.org/) per el tractament de dades\n",
    "\n",
    "\n",
    "\n"
   ]
  },
  {
   "cell_type": "markdown",
   "metadata": {},
   "source": [
    "## Exercici 1\n",
    "Crea un DataFrame anomenat `fruites` seguint la següent estructura\n",
    "\n",
    "|   | Pomes | Peres |\n",
    "|---|-------|-------|\n",
    "| 0 | 21    | 22    |"
   ]
  },
  {
   "cell_type": "code",
   "execution_count": null,
   "metadata": {},
   "outputs": [],
   "source": []
  },
  {
   "cell_type": "markdown",
   "metadata": {},
   "source": [
    "## Exercici 2\n",
    "Crea un DataFrame anomenat `vendes_fruites` seguin la següent estructura\n",
    "\n",
    "|      | Pomes | Peres |\n",
    "|------|-------|-------|\n",
    "| 2017 | 21    | 22    |\n",
    "| 2018 | 42    | 15    |"
   ]
  },
  {
   "cell_type": "code",
   "execution_count": null,
   "metadata": {},
   "outputs": [],
   "source": []
  },
  {
   "cell_type": "markdown",
   "metadata": {},
   "source": [
    "## Exercici 3\n",
    "\n",
    "Crea una variable `ingredients` mitjançant Series seguin la següent estructura\n",
    "\n",
    "```\n",
    "Flour     4 cups\n",
    "Milk       1 cup\n",
    "Eggs     2 large\n",
    "Spam       1 can\n",
    "Name: Dinner, dtype: object\n",
    "```"
   ]
  },
  {
   "cell_type": "code",
   "execution_count": null,
   "metadata": {},
   "outputs": [],
   "source": []
  },
  {
   "cell_type": "markdown",
   "metadata": {},
   "source": [
    "# Exercici 4\n",
    "Llegeix el següent conjunt de dades CSV de valoracions de vins dins d'un DataFrame anomenat `reviews`\n",
    "Origen de dades: dataset/wine-reviews/winemag-data_first150k.csv"
   ]
  },
  {
   "cell_type": "code",
   "execution_count": null,
   "metadata": {},
   "outputs": [],
   "source": []
  },
  {
   "cell_type": "markdown",
   "metadata": {},
   "source": [
    "# Exercici 5\n",
    "Carrega la variable animals executant el següent tall de codi i guarda el DataFrame a disk en un fitxer CSV"
   ]
  },
  {
   "cell_type": "code",
   "execution_count": null,
   "metadata": {},
   "outputs": [],
   "source": [
    "import pandas as pd\n",
    "\n",
    "animals = pd.DataFrame({'Vaques': [12, 20], 'Cabres': [22, 19]}, index=['Any 1', 'Any 2'])"
   ]
  },
  {
   "cell_type": "markdown",
   "metadata": {},
   "source": [
    "# Exercici 6\n",
    "Del dataset `dataset/wine-reviews/winemag-data_first150k.csv`\n",
    "\n",
    "Selecciona la columna `description` de les valoracions i guard-ho a la variable `desc`"
   ]
  },
  {
   "cell_type": "code",
   "execution_count": null,
   "metadata": {},
   "outputs": [],
   "source": []
  },
  {
   "cell_type": "markdown",
   "metadata": {},
   "source": [
    "# Exercici 7\n",
    "Seleciona el primer valor de la columna `description` de les valoracions. Assigna el resultat a la variable `primera_descripcio`"
   ]
  },
  {
   "cell_type": "code",
   "execution_count": null,
   "metadata": {},
   "outputs": [],
   "source": []
  },
  {
   "cell_type": "markdown",
   "metadata": {},
   "source": [
    "# Exercici 8\n",
    "Selecciona la primera fila / primer registre de les valoracions, assigna-ho a la variable `primera_fila`"
   ]
  },
  {
   "cell_type": "code",
   "execution_count": null,
   "metadata": {},
   "outputs": [],
   "source": []
  },
  {
   "cell_type": "markdown",
   "metadata": {},
   "source": [
    "# Exercici 9\n",
    "Selecciona els 10 primers valors de la columna `description` de les valoracions, assigna el resultat a la variable `primeres_descripcions`."
   ]
  },
  {
   "cell_type": "code",
   "execution_count": null,
   "metadata": {},
   "outputs": [],
   "source": []
  },
  {
   "cell_type": "markdown",
   "metadata": {},
   "source": [
    "# Exercici 10\n",
    "Selecciona els registres dels següents índexs: 1, 2, 3, 5, and 8, assigna el resultats a la variable sample_reviews.\n",
    "\n",
    "![](https://i.imgur.com/sHZvI1O.png)"
   ]
  },
  {
   "cell_type": "code",
   "execution_count": null,
   "metadata": {},
   "outputs": [],
   "source": []
  },
  {
   "cell_type": "markdown",
   "metadata": {},
   "source": [
    "# Exercici 11\n",
    "Crea una variable `df` que contingui les columnes `country, province, region_1, and region_2` dels registres amb índexs 0, 1, 10, and 100. Hauria de ser un resultat com aquest:\n",
    "\n",
    "![](https://i.imgur.com/FUCGiKP.png)"
   ]
  },
  {
   "cell_type": "code",
   "execution_count": null,
   "metadata": {},
   "outputs": [],
   "source": []
  },
  {
   "cell_type": "markdown",
   "metadata": {},
   "source": [
    "# Exercici 12\n",
    "Crea una variable `df` que contingui les columnes `country` i `variety` dels primers 100 registres. \n",
    "\n",
    "Utilitza `loc` o `iloc`. Quan treballeu en la resposta a aquesta pregunta i a les diverses que segueixen, manteniu el següent \"gotcha\" descrit al tutorial:\n",
    "\n",
    "> Compte amb l'ús de `iloc`. En aquest cas, `df.iloc[0:1000]` retornarà 1000 entrades, mentre que `df.loc[0:1000]` en retornarà 1001! Per obtenir 1000 elements amb `loc`, haureu d'anar un més avall i demanar `df.loc[0:999]`."
   ]
  },
  {
   "cell_type": "code",
   "execution_count": null,
   "metadata": {},
   "outputs": [],
   "source": []
  },
  {
   "cell_type": "markdown",
   "metadata": {},
   "source": [
    "# Exercici 13\n",
    "Crea un DataFrame anomenat vins_italians que contingui les valoracions dels vins d'Itàlia\n"
   ]
  },
  {
   "cell_type": "code",
   "execution_count": null,
   "metadata": {},
   "outputs": [],
   "source": []
  },
  {
   "cell_type": "markdown",
   "metadata": {},
   "source": [
    "# Exercici 14\n",
    "Crea un DataFrame `top_oceania_wines` que contingui totes les valoracions de com a mínim amb un 95 de puntuació dels vins d'Australia (Australia) i Nova Zelanda (New Zeeland)."
   ]
  },
  {
   "cell_type": "code",
   "execution_count": null,
   "metadata": {},
   "outputs": [],
   "source": []
  },
  {
   "cell_type": "markdown",
   "metadata": {},
   "source": [
    "---------------------\n",
    "\n",
    "A partir d'aquest exercici utilitza el dataset `dataset/wine-reviews/winemag-data-130k-v2.csv`\n",
    "\n",
    "---------------------"
   ]
  },
  {
   "cell_type": "markdown",
   "metadata": {},
   "source": [
    "# Exercici 15\n",
    "\n",
    "Crea una \"Sèrie\" a on líndex sigui el compte de twitter i els valors quantes ressenyes ha escrit."
   ]
  },
  {
   "cell_type": "code",
   "execution_count": null,
   "metadata": {},
   "outputs": [],
   "source": []
  },
  {
   "cell_type": "markdown",
   "metadata": {},
   "source": [
    "# Exercici 16\n",
    "\n",
    "Quin és el millor vi que puc comprar per una quantitat determinada de diners? \n",
    "\n",
    "Crea una sèrie a on l'índex sigui els preus del vi i els valors siguin el nombre màxim de punts que es va donar en un vi per aquest preu.\n",
    "\n",
    "Ordena els valors per preu, de manera ascendent (de manera que 4,0 dòlars estiguin a la part superior i 3300,0 dòlars a la part inferior)."
   ]
  },
  {
   "cell_type": "code",
   "execution_count": null,
   "metadata": {},
   "outputs": [],
   "source": []
  },
  {
   "cell_type": "markdown",
   "metadata": {},
   "source": [
    "# Exercici 17\n",
    "\n",
    "Quins són els preus mínims i màxims per a cada varietat de vi?\n",
    "\n",
    "De cada varietat de vi volem saber el preu mínim i màxim ."
   ]
  },
  {
   "cell_type": "code",
   "execution_count": null,
   "metadata": {},
   "outputs": [],
   "source": []
  },
  {
   "cell_type": "markdown",
   "metadata": {},
   "source": [
    "# Exercici 18\n",
    "\n",
    "Quines són les varietats de vi més cares? \n",
    "\n",
    "Guarda en una variable `ordre_varietats` que contingui una còpia de les dades de la pregunta anterior on les varietats s'ordenen en ordre descendent en funció del preu mínim i després del preu màxim.\n"
   ]
  },
  {
   "cell_type": "code",
   "execution_count": null,
   "metadata": {},
   "outputs": [],
   "source": []
  },
  {
   "cell_type": "markdown",
   "metadata": {},
   "source": [
    "# Exercici 19\n",
    "\n",
    "Mostra de cada `reviewer` utilitzant el camp `taster_name` la mitjana de puntuació que fa."
   ]
  },
  {
   "cell_type": "code",
   "execution_count": null,
   "metadata": {},
   "outputs": [],
   "source": []
  },
  {
   "cell_type": "markdown",
   "metadata": {},
   "source": [
    "\n",
    "Hi ha diferències significatives entre puntuacions dels diferents `reviewers`. Utilitza el mètode `describe()` del conjunt resultat de l'exercici."
   ]
  },
  {
   "cell_type": "markdown",
   "metadata": {},
   "source": [
    "# Exercici 20\n",
    "\n",
    "Quina combinació de països i varietats és més habitual? \n",
    "Crea una sèrie amb MultiIndex de parells {país, varietat} juntament amb la quantitat de reviews. \n",
    "Per exemple, un *pinot noir* produït als EUA hauria de correspondre a {\"US\", \"Pinot Noir\"}. \n",
    "Ordena el resultat en ordre descendent en funció del recompte de vins."
   ]
  },
  {
   "cell_type": "code",
   "execution_count": null,
   "metadata": {},
   "outputs": [],
   "source": []
  },
  {
   "cell_type": "markdown",
   "metadata": {},
   "source": [
    "# Exercici 21\n",
    "\n",
    "Quin és el tipus de dades del camp `points` del dataset? guarda el resultat a una variable anomenada dtype"
   ]
  },
  {
   "cell_type": "code",
   "execution_count": null,
   "metadata": {},
   "outputs": [],
   "source": []
  },
  {
   "cell_type": "markdown",
   "metadata": {},
   "source": [
    "# Exercici 22\n",
    "\n",
    "Converteix la columna `points` a strings. El tipus de dades string en Python és `str`."
   ]
  },
  {
   "cell_type": "code",
   "execution_count": null,
   "metadata": {},
   "outputs": [],
   "source": []
  },
  {
   "cell_type": "markdown",
   "metadata": {},
   "source": [
    "# Exercici 23\n",
    "\n",
    "Alguns valors de la columna `price`són nul·les. Quantes reviews dins del dataset no en sabem el preu?"
   ]
  },
  {
   "cell_type": "code",
   "execution_count": null,
   "metadata": {},
   "outputs": [],
   "source": []
  },
  {
   "cell_type": "markdown",
   "metadata": {},
   "source": [
    "# Exercici 24\n",
    "\n",
    "Quines són les regions productores de vi més habituals? \n",
    "Crea una Sèrie que contabilitzi el nombre de vegades que apareix cada valor del camp `region_1`. En aquest camp hi falten dades. Substitueix els valors que falten per \"Desconegut\" i ordena de forma descendent.\n"
   ]
  },
  {
   "cell_type": "code",
   "execution_count": null,
   "metadata": {},
   "outputs": [],
   "source": []
  }
 ],
 "metadata": {
  "interpreter": {
   "hash": "1baa965d5efe3ac65b79dfc60c0d706280b1da80fedb7760faf2759126c4f253"
  },
  "kernelspec": {
   "display_name": "Python 3 (ipykernel)",
   "language": "python",
   "name": "python3"
  },
  "language_info": {
   "codemirror_mode": {
    "name": "ipython",
    "version": 3
   },
   "file_extension": ".py",
   "mimetype": "text/x-python",
   "name": "python",
   "nbconvert_exporter": "python",
   "pygments_lexer": "ipython3",
   "version": "3.9.12"
  }
 },
 "nbformat": 4,
 "nbformat_minor": 2
}
