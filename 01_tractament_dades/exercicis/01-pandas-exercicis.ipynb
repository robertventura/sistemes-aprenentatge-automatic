{
 "cells": [
  {
   "cell_type": "markdown",
   "metadata": {},
   "source": [
    "# Exercicis - Pandas  <img align=\"right\"  width=\"185\" height=\"75\"  src=\"img/pandas-logo.png\" alt=\"pandas_logo\"/>\n",
    "\n",
    "Exercicis relacionats en lla llibreria [Pandas](https://pandas.pydata.org/) per el tractament de dades\n",
    "\n",
    "\n",
    "\n"
   ]
  },
  {
   "cell_type": "markdown",
   "metadata": {},
   "source": [
    "## Exercici 1\n",
    "Crea un DataFrame anomenat `fruites` seguint la següent estructura\n",
    "\n",
    "|   | Pomes | Peres |\n",
    "|---|-------|-------|\n",
    "| 0 | 21    | 22    |"
   ]
  },
  {
   "cell_type": "code",
   "execution_count": null,
   "metadata": {},
   "outputs": [],
   "source": []
  },
  {
   "cell_type": "markdown",
   "metadata": {},
   "source": [
    "## Exercici 2\n",
    "Crea un DataFrame anomenat `vendes_fruites` seguin la següent estructura\n",
    "\n",
    "|      | Pomes | Peres |\n",
    "|------|-------|-------|\n",
    "| 2017 | 21    | 22    |\n",
    "| 2018 | 42    | 15    |"
   ]
  },
  {
   "cell_type": "code",
   "execution_count": null,
   "metadata": {},
   "outputs": [],
   "source": []
  },
  {
   "cell_type": "markdown",
   "metadata": {},
   "source": [
    "## Exercici 3\n",
    "\n",
    "Crea una variable `ingredients` mitjançant Series seguin la següent estructura\n",
    "\n",
    "```\n",
    "Flour     4 cups\n",
    "Milk       1 cup\n",
    "Eggs     2 large\n",
    "Spam       1 can\n",
    "Name: Dinner, dtype: object\n",
    "```"
   ]
  },
  {
   "cell_type": "code",
   "execution_count": null,
   "metadata": {},
   "outputs": [],
   "source": []
  },
  {
   "cell_type": "markdown",
   "metadata": {},
   "source": [
    "# Exercici 4\n",
    "Llegeix el següent conjunt de dades CSV de valoracions de vins dins d'un DataFrame anomenat `reviews`\n",
    "Origen de dades: dataset/wine-reviews/winemag-data_first150k.csv"
   ]
  },
  {
   "cell_type": "code",
   "execution_count": null,
   "metadata": {},
   "outputs": [],
   "source": []
  },
  {
   "cell_type": "markdown",
   "metadata": {},
   "source": [
    "# Exercici 5\n",
    "Carrega la variable animals executant el següent tall de codi i guarda el DataFrame a disk en un fitxer CSV"
   ]
  },
  {
   "cell_type": "code",
   "execution_count": 3,
   "metadata": {},
   "outputs": [
    {
     "ename": "ModuleNotFoundError",
     "evalue": "No module named 'pandas'",
     "output_type": "error",
     "traceback": [
      "\u001b[1;31m---------------------------------------------------------------------------\u001b[0m",
      "\u001b[1;31mModuleNotFoundError\u001b[0m                       Traceback (most recent call last)",
      "Cell \u001b[1;32mIn [3], line 1\u001b[0m\n\u001b[1;32m----> 1\u001b[0m \u001b[38;5;28;01mimport\u001b[39;00m \u001b[38;5;21;01mpandas\u001b[39;00m \u001b[38;5;28;01mas\u001b[39;00m \u001b[38;5;21;01mpd\u001b[39;00m\n\u001b[0;32m      3\u001b[0m animals \u001b[38;5;241m=\u001b[39m pd\u001b[38;5;241m.\u001b[39mDataFrame({\u001b[38;5;124m'\u001b[39m\u001b[38;5;124mVaques\u001b[39m\u001b[38;5;124m'\u001b[39m: [\u001b[38;5;241m12\u001b[39m, \u001b[38;5;241m20\u001b[39m], \u001b[38;5;124m'\u001b[39m\u001b[38;5;124mCabres\u001b[39m\u001b[38;5;124m'\u001b[39m: [\u001b[38;5;241m22\u001b[39m, \u001b[38;5;241m19\u001b[39m]}, index\u001b[38;5;241m=\u001b[39m[\u001b[38;5;124m'\u001b[39m\u001b[38;5;124mAny 1\u001b[39m\u001b[38;5;124m'\u001b[39m, \u001b[38;5;124m'\u001b[39m\u001b[38;5;124mAny 2\u001b[39m\u001b[38;5;124m'\u001b[39m])\n",
      "\u001b[1;31mModuleNotFoundError\u001b[0m: No module named 'pandas'"
     ]
    }
   ],
   "source": [
    "import pandas as pd\n",
    "\n",
    "animals = pd.DataFrame({'Vaques': [12, 20], 'Cabres': [22, 19]}, index=['Any 1', 'Any 2'])"
   ]
  },
  {
   "cell_type": "markdown",
   "metadata": {},
   "source": [
    "# Exercici 6\n",
    "Del dataset `dataset/wine-reviews/winemag-data_first150k.csv`\n",
    "\n",
    "Selecciona la columna `description` de les valoracions i guard-ho a la variable `desc`"
   ]
  },
  {
   "cell_type": "code",
   "execution_count": null,
   "metadata": {},
   "outputs": [],
   "source": []
  },
  {
   "cell_type": "markdown",
   "metadata": {},
   "source": [
    "# Exercici 7\n",
    "Seleciona el primer valor de la columna `description` de les valoracions. Assigna el resultat a la variable `primera_descripcio`"
   ]
  },
  {
   "cell_type": "code",
   "execution_count": null,
   "metadata": {},
   "outputs": [],
   "source": []
  },
  {
   "cell_type": "markdown",
   "metadata": {},
   "source": [
    "# Exercici 8\n",
    "Selecciona la primera fila / primer registre de les valoracions, assigna-ho a la variable `primera_fila`"
   ]
  },
  {
   "cell_type": "code",
   "execution_count": null,
   "metadata": {},
   "outputs": [],
   "source": []
  },
  {
   "cell_type": "markdown",
   "metadata": {},
   "source": [
    "# Exercici 9\n",
    "Selecciona els 10 primers valors de la columna `description` de les valoracions, assigna el resultat a la variable `primeres_descripcions`."
   ]
  },
  {
   "cell_type": "code",
   "execution_count": null,
   "metadata": {},
   "outputs": [],
   "source": []
  },
  {
   "cell_type": "markdown",
   "metadata": {},
   "source": [
    "# Exercici 10\n",
    "Selecciona els registres dels següents índexs: 1, 2, 3, 5, and 8, assigna el resultats a la variable sample_reviews.\n",
    "\n",
    "![](https://i.imgur.com/sHZvI1O.png)"
   ]
  },
  {
   "cell_type": "code",
   "execution_count": null,
   "metadata": {},
   "outputs": [],
   "source": []
  },
  {
   "cell_type": "markdown",
   "metadata": {},
   "source": [
    "# Exercici 11\n",
    "Crea una variable `df` que contingui les columnes `country, province, region_1, and region_2` dels registres amb índexs 0, 1, 10, and 100. Hauria de ser un resultat com aquest:\n",
    "\n",
    "![](https://i.imgur.com/FUCGiKP.png)"
   ]
  },
  {
   "cell_type": "code",
   "execution_count": null,
   "metadata": {},
   "outputs": [],
   "source": []
  },
  {
   "cell_type": "markdown",
   "metadata": {},
   "source": [
    "# Exercici 12\n",
    "Crea una variable `df` que contingui les columnes `country` i `variety` dels primers 100 registres. \n",
    "\n",
    "Utilitza `loc` o `iloc`. Quan treballeu en la resposta a aquesta pregunta i a les diverses que segueixen, manteniu el següent \"gotcha\" descrit al tutorial:\n",
    "\n",
    "> Compte amb l'ús de `iloc`. En aquest cas, `df.iloc[0:1000]` retornarà 1000 entrades, mentre que `df.loc[0:1000]` en retornarà 1001! Per obtenir 1000 elements amb `loc`, haureu d'anar un més avall i demanar `df.loc[0:999]`."
   ]
  },
  {
   "cell_type": "code",
   "execution_count": null,
   "metadata": {},
   "outputs": [],
   "source": []
  },
  {
   "cell_type": "markdown",
   "metadata": {},
   "source": [
    "# Exercici 13\n",
    "Crea un DataFrame anomenat vins_italians que contingui les valoracions dels vins d'Itàlia\n"
   ]
  },
  {
   "cell_type": "code",
   "execution_count": null,
   "metadata": {},
   "outputs": [],
   "source": []
  },
  {
   "cell_type": "markdown",
   "metadata": {},
   "source": [
    "# Exercici 14\n",
    "Crea un DataFrame `top_oceania_wines` que contingi totes les valoracions de com a mínim amb un 95 de puntuació dels vins d'Australia (Australia) i Nova Zelanda (New Zeeland)."
   ]
  }
 ],
 "metadata": {
  "interpreter": {
   "hash": "1baa965d5efe3ac65b79dfc60c0d706280b1da80fedb7760faf2759126c4f253"
  },
  "kernelspec": {
   "display_name": "Python 3.8.8 64-bit",
   "language": "python",
   "name": "python3"
  },
  "language_info": {
   "codemirror_mode": {
    "name": "ipython",
    "version": 3
   },
   "file_extension": ".py",
   "mimetype": "text/x-python",
   "name": "python",
   "nbconvert_exporter": "python",
   "pygments_lexer": "ipython3",
   "version": "3.8.8"
  },
  "orig_nbformat": 4
 },
 "nbformat": 4,
 "nbformat_minor": 2
}
