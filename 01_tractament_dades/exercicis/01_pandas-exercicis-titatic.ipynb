{
 "cells": [
  {
   "cell_type": "markdown",
   "metadata": {},
   "source": [
    "# Exercicis de la llibreria Pandas - Titanic\n",
    "\n",
    "***\n",
    "\n",
    "Donat el dataset del desastre del **Titanic** has de realitzar els següents exercicis mitjançant la llibreria [Pandas](https://pandas.pydata.org/).\n",
    "\n",
    "Utilitza els datasets del Titatnic ubicat a dataset:\n",
    "* [titanic-passatgers.csv](dataset/titanic/titanic-passatgers.csv): *dataset dels passatgers del Titanic*\n",
    "* [passatgers_supervients.csv](dataset/titanic/passatgers_supervients.csv): *dataset dels passatgers si van sobreviure o no.*\n",
    "\n",
    "El dataset `titanic-passatgers` tenim els següents camps:\n",
    "\n",
    "|   **Camp**  | **Definició**                                                                 | **Extra**                                     |   |   |\n",
    "|:-----------:|-------------------------------------------------------------------------------|-----------------------------------------------|---|---|\n",
    "| PassengerId | Camp identificador del passatger                                              |                                               |   |   |\n",
    "| Pclass      | Indicador d'estatus socioeconòmic                                             | 1=classe alta, 1=classe mitja, 3=classe baixa |   |   |\n",
    "| Name        | Nom del passatger                                                             |                                               |   |   |\n",
    "| Sex         | Sexe (male/female)                                                            |                                               |   |   |\n",
    "| Age         | Edat expressada en anys                                                       |                                               |   |   |\n",
    "| SibSp       | (Sibling/Spouse) Nombre de germans i cònjugues a bord                         |                                               |   |   |\n",
    "| Parch       | (Parents/Child) Nombre de pares, mares o fills/es                             |                                               |   |   |\n",
    "| Ticket      | Número de bitllet                                                             |                                               |   |   |\n",
    "| Fare        | Tarifa de passatger                                                           |                                               |   |   |\n",
    "| Cabin       | Número de cabina                                                              |                                               |   |   |\n",
    "| Embarked    | Port d'embarcament                                                            | C=Cherbourg, Q=Queenstown, S=Southampton      |   |   |\n",
    "\n",
    "\n",
    "## Exercici 0\n",
    "Importa la llibreria pandas i llegeix el fitxer [titanic-passatgers.csv](dataset/titanic/titanic-passatgers.csv) de la carpeta datasets\n"
   ]
  },
  {
   "cell_type": "code",
   "execution_count": null,
   "metadata": {},
   "outputs": [],
   "source": []
  },
  {
   "cell_type": "markdown",
   "metadata": {},
   "source": [
    "## Exercici 1\n",
    "\n",
    "De cada columna indica si té valors NULLs o no mitjançant un Booleà"
   ]
  },
  {
   "cell_type": "code",
   "execution_count": null,
   "metadata": {},
   "outputs": [],
   "source": []
  },
  {
   "cell_type": "markdown",
   "metadata": {},
   "source": [
    "## Exercici 2\n",
    "\n",
    "Mostra de cada columna la quantiat de valors NULLs que té. Per exemple, hi ha un total de 177 observacions sense Edat\n"
   ]
  },
  {
   "cell_type": "code",
   "execution_count": null,
   "metadata": {},
   "outputs": [],
   "source": []
  },
  {
   "cell_type": "markdown",
   "metadata": {},
   "source": [
    "## Exercici 3\n",
    "\n",
    "Mostra de cada columna el percentatge de valors NULLs respecte el total d'observacions. Per exemple el camp Edat té un 19%\n",
    "\n",
    "**Mostra el resultat en tant per 1**"
   ]
  },
  {
   "cell_type": "code",
   "execution_count": null,
   "metadata": {},
   "outputs": [],
   "source": []
  },
  {
   "cell_type": "markdown",
   "metadata": {},
   "source": [
    "## Exercici 4\n",
    "\n",
    "Quina és la mitjana d'edat dels passatgers?"
   ]
  },
  {
   "cell_type": "code",
   "execution_count": null,
   "metadata": {},
   "outputs": [],
   "source": []
  },
  {
   "cell_type": "markdown",
   "metadata": {},
   "source": [
    "## Exercici 5\n",
    "\n",
    "Esborra les files del DataFrame d'alguna de les columnes que té alguna observació a NULL "
   ]
  },
  {
   "cell_type": "code",
   "execution_count": null,
   "metadata": {},
   "outputs": [],
   "source": []
  },
  {
   "cell_type": "markdown",
   "metadata": {},
   "source": [
    "## Exercici 6\n",
    "\n",
    "Esborra una de les columnes que té alguna observació a NULL\n"
   ]
  },
  {
   "cell_type": "code",
   "execution_count": null,
   "metadata": {},
   "outputs": [],
   "source": []
  },
  {
   "cell_type": "markdown",
   "metadata": {},
   "source": [
    "## Exercici 7\n",
    "\n",
    "Omple les observacions d'alguna de les columnes que tinguin NULLs amb la mitjana de les altres observcions.\n",
    "Per exemple en el cas del camp Edat cal calcular la mitjana i posar-la en aquelles observacions None/NaN que hi hagi.\n"
   ]
  },
  {
   "cell_type": "code",
   "execution_count": null,
   "metadata": {},
   "outputs": [],
   "source": []
  },
  {
   "cell_type": "markdown",
   "metadata": {},
   "source": [
    "## Exercici 8\n",
    "\n",
    "Redefineix el nom de les columnes i posa-hi els següents noms: \n",
    "* passatger_id\n",
    "* classe\n",
    "* nom\n",
    "* sexe\n",
    "* edat\n",
    "* num_germans\n",
    "* num_familiars\n",
    "* tiquet\n",
    "* tarifa\n",
    "* camerot\n",
    "* lloc_embarcament"
   ]
  },
  {
   "cell_type": "code",
   "execution_count": null,
   "metadata": {},
   "outputs": [],
   "source": []
  },
  {
   "cell_type": "markdown",
   "metadata": {},
   "source": [
    "## Exercici 9\n",
    " \n",
    " Indica quants passatgers hi ha de cada lloc d'embarcament (S, C, Q)"
   ]
  },
  {
   "cell_type": "code",
   "execution_count": null,
   "metadata": {},
   "outputs": [],
   "source": []
  },
  {
   "cell_type": "markdown",
   "metadata": {},
   "source": [
    "## Exercici 10\n",
    "\n",
    "De cada classe (Pclass) indica quin és la tarfia mínima i màxima."
   ]
  },
  {
   "cell_type": "code",
   "execution_count": null,
   "metadata": {},
   "outputs": [],
   "source": []
  },
  {
   "cell_type": "markdown",
   "metadata": {},
   "source": [
    "## Exercici 11\n",
    "\n",
    "Crea una nova columna anomenada Persona a on els valors siguin (male,female,child). El child haurien de ser aquells passatgers menors de 16 anys."
   ]
  },
  {
   "cell_type": "code",
   "execution_count": null,
   "metadata": {},
   "outputs": [],
   "source": []
  },
  {
   "cell_type": "markdown",
   "metadata": {},
   "source": [
    "## Exercici 12\n",
    "\n",
    "Afegeix una nova columna anomenada `Alone` indicant número per si aquell passatger viatjava sol o acompanyat d'algun familiar"
   ]
  },
  {
   "cell_type": "code",
   "execution_count": null,
   "metadata": {},
   "outputs": [],
   "source": []
  },
  {
   "cell_type": "markdown",
   "metadata": {},
   "source": [
    "## Exercici 13\n",
    "\n",
    "De cada passatger indica si ha sobreviscut o no"
   ]
  },
  {
   "cell_type": "code",
   "execution_count": null,
   "metadata": {},
   "outputs": [],
   "source": []
  },
  {
   "cell_type": "markdown",
   "metadata": {},
   "source": [
    "## Exercici 14\n",
    " \n",
    "Canvia el valor de la columna Embarked (S, C, Q) per (Cherbourg, Queenstown, Southampton)"
   ]
  },
  {
   "cell_type": "code",
   "execution_count": null,
   "metadata": {},
   "outputs": [],
   "source": []
  }
 ],
 "metadata": {
  "kernelspec": {
   "display_name": "Python 3 (ipykernel)",
   "language": "python",
   "name": "python3"
  },
  "language_info": {
   "codemirror_mode": {
    "name": "ipython",
    "version": 3
   },
   "file_extension": ".py",
   "mimetype": "text/x-python",
   "name": "python",
   "nbconvert_exporter": "python",
   "pygments_lexer": "ipython3",
   "version": "3.9.12"
  },
  "vscode": {
   "interpreter": {
    "hash": "cf02e6bf250f77d388a6bc5f87ea1eec704c2fee4b623a6d66585fe8e13b7d67"
   }
  }
 },
 "nbformat": 4,
 "nbformat_minor": 4
}
