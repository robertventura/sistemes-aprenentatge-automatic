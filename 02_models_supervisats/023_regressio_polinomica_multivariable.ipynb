{
 "cells": [
  {
   "cell_type": "markdown",
   "id": "399f64b0",
   "metadata": {},
   "source": [
    "# Regressió polinòmica multivariable\n",
    "--------------------"
   ]
  },
  {
   "cell_type": "markdown",
   "id": "ea13ef63",
   "metadata": {},
   "source": [
    "En aquest Notebook volem estudiar el preu de les vivendes de Brooklyn en funció de dues o tres variables i també en funció de regressions polinòmiques."
   ]
  },
  {
   "cell_type": "code",
   "execution_count": 31,
   "id": "f8c34881",
   "metadata": {},
   "outputs": [
    {
     "data": {
      "text/html": [
       "<div>\n",
       "<style scoped>\n",
       "    .dataframe tbody tr th:only-of-type {\n",
       "        vertical-align: middle;\n",
       "    }\n",
       "\n",
       "    .dataframe tbody tr th {\n",
       "        vertical-align: top;\n",
       "    }\n",
       "\n",
       "    .dataframe thead th {\n",
       "        text-align: right;\n",
       "    }\n",
       "</style>\n",
       "<table border=\"1\" class=\"dataframe\">\n",
       "  <thead>\n",
       "    <tr style=\"text-align: right;\">\n",
       "      <th></th>\n",
       "      <th>Unnamed: 0</th>\n",
       "      <th>price</th>\n",
       "      <th>bedrooms</th>\n",
       "      <th>bathrooms</th>\n",
       "      <th>sqft</th>\n",
       "      <th>neighborhood</th>\n",
       "      <th>status</th>\n",
       "      <th>address</th>\n",
       "    </tr>\n",
       "  </thead>\n",
       "  <tbody>\n",
       "    <tr>\n",
       "      <th>0</th>\n",
       "      <td>1</td>\n",
       "      <td>4100000.0</td>\n",
       "      <td>4</td>\n",
       "      <td>5</td>\n",
       "      <td>2940.0</td>\n",
       "      <td>Park Slope</td>\n",
       "      <td>sold</td>\n",
       "      <td>336A 4th St, Brooklyn, NY 11215</td>\n",
       "    </tr>\n",
       "    <tr>\n",
       "      <th>1</th>\n",
       "      <td>2</td>\n",
       "      <td>1020000.0</td>\n",
       "      <td>3</td>\n",
       "      <td>1</td>\n",
       "      <td>NaN</td>\n",
       "      <td>Park Slope</td>\n",
       "      <td>sold</td>\n",
       "      <td>411 15th St #K, Brooklyn, NY 11215</td>\n",
       "    </tr>\n",
       "    <tr>\n",
       "      <th>2</th>\n",
       "      <td>3</td>\n",
       "      <td>45000.0</td>\n",
       "      <td>0</td>\n",
       "      <td>1</td>\n",
       "      <td>NaN</td>\n",
       "      <td>Park Slope</td>\n",
       "      <td>sold</td>\n",
       "      <td>65 Saint Johns Pl #D, Brooklyn, NY 11217</td>\n",
       "    </tr>\n",
       "    <tr>\n",
       "      <th>3</th>\n",
       "      <td>4</td>\n",
       "      <td>45000.0</td>\n",
       "      <td>0</td>\n",
       "      <td>1</td>\n",
       "      <td>NaN</td>\n",
       "      <td>Park Slope</td>\n",
       "      <td>sold</td>\n",
       "      <td>65 Saint Johns Pl #E, Brooklyn, NY 11217</td>\n",
       "    </tr>\n",
       "    <tr>\n",
       "      <th>4</th>\n",
       "      <td>5</td>\n",
       "      <td>908000.0</td>\n",
       "      <td>0</td>\n",
       "      <td>1</td>\n",
       "      <td>1066.0</td>\n",
       "      <td>Park Slope</td>\n",
       "      <td>sold</td>\n",
       "      <td>397 1st St #4R, Brooklyn, NY 11215</td>\n",
       "    </tr>\n",
       "  </tbody>\n",
       "</table>\n",
       "</div>"
      ],
      "text/plain": [
       "   Unnamed: 0      price  bedrooms  bathrooms    sqft neighborhood status  \\\n",
       "0           1  4100000.0         4          5  2940.0   Park Slope   sold   \n",
       "1           2  1020000.0         3          1     NaN   Park Slope   sold   \n",
       "2           3    45000.0         0          1     NaN   Park Slope   sold   \n",
       "3           4    45000.0         0          1     NaN   Park Slope   sold   \n",
       "4           5   908000.0         0          1  1066.0   Park Slope   sold   \n",
       "\n",
       "                                    address  \n",
       "0           336A 4th St, Brooklyn, NY 11215  \n",
       "1        411 15th St #K, Brooklyn, NY 11215  \n",
       "2  65 Saint Johns Pl #D, Brooklyn, NY 11217  \n",
       "3  65 Saint Johns Pl #E, Brooklyn, NY 11217  \n",
       "4        397 1st St #4R, Brooklyn, NY 11215  "
      ]
     },
     "execution_count": 31,
     "metadata": {},
     "output_type": "execute_result"
    }
   ],
   "source": [
    "from sklearn.preprocessing import PolynomialFeatures\n",
    "from sklearn.linear_model import LinearRegression\n",
    "from sklearn.metrics import mean_squared_error\n",
    "\n",
    "\n",
    "import pandas as pd\n",
    "import numpy as np\n",
    "import matplotlib.pyplot as plt\n",
    "\n",
    "# dataset extret de\n",
    "# https://www.kaggle.com/datasets/ciphernine/brooklyn-real-estate-listings\n",
    "df = pd.read_csv('dataset/brooklyn_real_estate.csv')\n",
    "df.head()"
   ]
  },
  {
   "cell_type": "markdown",
   "id": "cef8e388",
   "metadata": {},
   "source": [
    "## Exemple amb 2 variables (els metres quadrats i el nº de banys)"
   ]
  },
  {
   "cell_type": "code",
   "execution_count": 32,
   "id": "8561a008",
   "metadata": {},
   "outputs": [
    {
     "data": {
      "text/html": [
       "<div>\n",
       "<style scoped>\n",
       "    .dataframe tbody tr th:only-of-type {\n",
       "        vertical-align: middle;\n",
       "    }\n",
       "\n",
       "    .dataframe tbody tr th {\n",
       "        vertical-align: top;\n",
       "    }\n",
       "\n",
       "    .dataframe thead th {\n",
       "        text-align: right;\n",
       "    }\n",
       "</style>\n",
       "<table border=\"1\" class=\"dataframe\">\n",
       "  <thead>\n",
       "    <tr style=\"text-align: right;\">\n",
       "      <th></th>\n",
       "      <th>price</th>\n",
       "      <th>bathrooms</th>\n",
       "      <th>sqft</th>\n",
       "    </tr>\n",
       "  </thead>\n",
       "  <tbody>\n",
       "    <tr>\n",
       "      <th>0</th>\n",
       "      <td>4100000.0</td>\n",
       "      <td>5</td>\n",
       "      <td>2940.0</td>\n",
       "    </tr>\n",
       "    <tr>\n",
       "      <th>4</th>\n",
       "      <td>908000.0</td>\n",
       "      <td>1</td>\n",
       "      <td>1066.0</td>\n",
       "    </tr>\n",
       "    <tr>\n",
       "      <th>6</th>\n",
       "      <td>2600000.0</td>\n",
       "      <td>4</td>\n",
       "      <td>3600.0</td>\n",
       "    </tr>\n",
       "    <tr>\n",
       "      <th>7</th>\n",
       "      <td>4050000.0</td>\n",
       "      <td>4</td>\n",
       "      <td>3600.0</td>\n",
       "    </tr>\n",
       "    <tr>\n",
       "      <th>8</th>\n",
       "      <td>2400000.0</td>\n",
       "      <td>3</td>\n",
       "      <td>1428.0</td>\n",
       "    </tr>\n",
       "  </tbody>\n",
       "</table>\n",
       "</div>"
      ],
      "text/plain": [
       "       price  bathrooms    sqft\n",
       "0  4100000.0          5  2940.0\n",
       "4   908000.0          1  1066.0\n",
       "6  2600000.0          4  3600.0\n",
       "7  4050000.0          4  3600.0\n",
       "8  2400000.0          3  1428.0"
      ]
     },
     "execution_count": 32,
     "metadata": {},
     "output_type": "execute_result"
    }
   ],
   "source": [
    "# En aqeust exemple intentarem estimar el preu dels habitatges en funció del número de banys, i metres quadrats (peus quadrats)\n",
    "data = df[['price','bathrooms','sqft']].dropna()\n",
    "\n",
    "# Mostrem una quantitat de dades\n",
    "data.head()\n",
    "#print(df.sample(n=15))"
   ]
  },
  {
   "cell_type": "code",
   "execution_count": 33,
   "id": "fd0cd1ce",
   "metadata": {},
   "outputs": [],
   "source": [
    "# Separem els valors de X i Y\n",
    "x_values = data[['bathrooms','sqft']].values\n",
    "y_values = data['price'].values\n"
   ]
  },
  {
   "cell_type": "code",
   "execution_count": 34,
   "id": "a853dde4",
   "metadata": {},
   "outputs": [
    {
     "name": "stdout",
     "output_type": "stream",
     "text": [
      "Valors inicials [2940.]\n",
      "Mapejats(Polinomi) [1.0000e+00 2.9400e+03 8.6436e+06]\n"
     ]
    }
   ],
   "source": [
    "#definim el grau del nostre polinomi, amb el grau que volem. En aquest cas 2\n",
    "degree=2\n",
    "\n",
    "# PolynomialFeatures crearà una nova matriu formada per totes les combinacions de polinomis\n",
    "# de les característiques amb un grau inferior o igual al grau que acabem de donar al model (2)\n",
    "poly_model = PolynomialFeatures(degree=degree)\n",
    "\n",
    "# Transformem les variables a(x1) i b(x2) amb les característiques del polinomi definit (grau=2)\n",
    "poly_x_values = poly_model.fit_transform(x_values)\n",
    "\n",
    "# La forma del polinomi hauria de ser [1, a, b, a^2, ab, b^2]\n",
    "print(f'Valors inicials {x_values[0]}\\nMapejats(Polinomi) {poly_x_values[0]}')\n",
    "\n",
    "# grau 2 [1, a=5, b=2940, a^2=25, a·b=5*2940=14700, b^2=8643600]\n",
    "# grau 3 [1, a=5, b=2940, a^2=25, a·b=5*2940=14700, b^2=8643600, b·a^2=73500, a·b^2=43218000, a^3=125, b^3=25412184000]"
   ]
  },
  {
   "cell_type": "code",
   "execution_count": 35,
   "id": "5fba087e",
   "metadata": {},
   "outputs": [
    {
     "name": "stdout",
     "output_type": "stream",
     "text": [
      "intercept: 995026.4544949769\n",
      "coefficients: [ 0.00000000e+00  1.52416417e+02 -3.66579631e-04]\n"
     ]
    }
   ],
   "source": [
    "# Entrenem el model\n",
    "poly_model.fit(poly_x_values, y_values)\n",
    "\n",
    "poly_reg = LinearRegression()\n",
    "\n",
    "poly_reg.fit(poly_x_values, y_values)\n",
    "\n",
    "y_pred = poly_reg.predict(poly_x_values)\n",
    "\n",
    "#[1, a, b, a^2, a·b, b^2]\n",
    "print(f\"intercept: {poly_reg.intercept_}\")\n",
    "\n",
    "print(f\"coefficients: {poly_reg.coef_}\")\n",
    "\n",
    "#mean_squared_error(y_values, y_pred, squared=False)"
   ]
  },
  {
   "cell_type": "code",
   "execution_count": 36,
   "id": "e1d2c5bd",
   "metadata": {},
   "outputs": [
    {
     "data": {
      "text/plain": [
       "[<matplotlib.lines.Line2D at 0x16d55ddd4c0>]"
      ]
     },
     "execution_count": 36,
     "metadata": {},
     "output_type": "execute_result"
    },
    {
     "data": {
      "image/png": "[encoded data removed]",
      "text/plain": [
       "<Figure size 640x480 with 1 Axes>"
      ]
     },
     "metadata": {},
     "output_type": "display_data"
    }
   ],
   "source": [
    "from sklearn.metrics import mean_squared_error, r2_score\n",
    "\n",
    "# Mirem per cada grau quin error tenim i r2\n",
    "number_degrees = [1,2,3,4,5,6,7]\n",
    "plt_mean_squared_error = []\n",
    "plt_r_squared = []\n",
    "\n",
    "for degree in number_degrees:\n",
    "\n",
    "    poly_model = PolynomialFeatures(degree=degree)\n",
    "  \n",
    "    poly_x_values = poly_model.fit_transform(x_values)\n",
    "    #poly_model.fit(poly_x_values, y_values)\n",
    "  \n",
    "    regression_model = LinearRegression()\n",
    "    regression_model.fit(poly_x_values, y_values)\n",
    "    y_pred = regression_model.predict(poly_x_values)\n",
    "  \n",
    "    plt_mean_squared_error.append(mean_squared_error(y_values, y_pred, squared=False))\n",
    "    plt_r_squared.append(r2_score(y_values, y_pred))\n",
    "\n",
    "plt.scatter(number_degrees,plt_mean_squared_error, color=\"green\")\n",
    "plt.plot(number_degrees,plt_mean_squared_error, color=\"red\") "
   ]
  },
  {
   "cell_type": "code",
   "execution_count": 37,
   "id": "115643c3",
   "metadata": {},
   "outputs": [
    {
     "data": {
      "text/plain": [
       "[0.014676824945194622,\n",
       " 0.10101922966191235,\n",
       " 0.22144854116040447,\n",
       " 0.01988180529490291,\n",
       " 0.000820151488681975,\n",
       " 0.0001452418447622783,\n",
       " 0.0001646798609893363]"
      ]
     },
     "execution_count": 37,
     "metadata": {},
     "output_type": "execute_result"
    },
    {
     "data": {
      "image/png": "[encoded data removed]",
      "text/plain": [
       "<Figure size 640x480 with 1 Axes>"
      ]
     },
     "metadata": {},
     "output_type": "display_data"
    }
   ],
   "source": [
    "plt.bar(number_degrees,plt_r_squared)\n",
    "plt_r_squared"
   ]
  }
 ],
 "metadata": {
  "kernelspec": {
   "display_name": "Python 3 (ipykernel)",
   "language": "python",
   "name": "python3"
  },
  "language_info": {
   "codemirror_mode": {
    "name": "ipython",
    "version": 3
   },
   "file_extension": ".py",
   "mimetype": "text/x-python",
   "name": "python",
   "nbconvert_exporter": "python",
   "pygments_lexer": "ipython3",
   "version": "3.9.12"
  }
 },
 "nbformat": 4,
 "nbformat_minor": 5
}
