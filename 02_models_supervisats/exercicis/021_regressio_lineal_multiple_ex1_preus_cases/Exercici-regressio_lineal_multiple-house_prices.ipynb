{
 "cells": [
  {
   "cell_type": "markdown",
   "id": "a5a09cc4",
   "metadata": {},
   "source": [
    "# Exercici - Regressió lineal múltiple - House Prices"
   ]
  },
  {
   "cell_type": "markdown",
   "id": "797478b7",
   "metadata": {},
   "source": [
    "Volem utilitzar la tècnica de Regressió lineal múltiple per predir el preu de les cases segons una sèrie d'atributs.\n",
    "\n",
    "Utilitza les tècniques:\n",
    "* Backward\n",
    "* Fordward\n",
    "* Bidireccional\n",
    "\n",
    "\n",
    "** Compara les diferents tècniques i justifica quina és la que ofereix millors resultats. **\n",
    "\n",
    "https://www.kaggle.com/competitions/house-prices-advanced-regression-techniques/data\n"
   ]
  }
 ],
 "metadata": {
  "kernelspec": {
   "display_name": "Python 3 (ipykernel)",
   "language": "python",
   "name": "python3"
  },
  "language_info": {
   "codemirror_mode": {
    "name": "ipython",
    "version": 3
   },
   "file_extension": ".py",
   "mimetype": "text/x-python",
   "name": "python",
   "nbconvert_exporter": "python",
   "pygments_lexer": "ipython3",
   "version": "3.9.12"
  }
 },
 "nbformat": 4,
 "nbformat_minor": 5
}
