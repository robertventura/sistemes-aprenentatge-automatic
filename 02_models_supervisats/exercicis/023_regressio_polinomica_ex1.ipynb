{
 "cells": [
  {
   "cell_type": "markdown",
   "id": "081305c2",
   "metadata": {},
   "source": [
    "# Exercici Polynomial\n",
    "\n",
    "Estudi dels persos dels peixos.\n",
    "\n",
    "Utiliza el dataset Fish.csv per crear un model de tal manera que sigui capaç de predir el pes en funció de l'amplada.\n"
   ]
  }
 ],
 "metadata": {
  "kernelspec": {
   "display_name": "Python 3 (ipykernel)",
   "language": "python",
   "name": "python3"
  },
  "language_info": {
   "codemirror_mode": {
    "name": "ipython",
    "version": 3
   },
   "file_extension": ".py",
   "mimetype": "text/x-python",
   "name": "python",
   "nbconvert_exporter": "python",
   "pygments_lexer": "ipython3",
   "version": "3.9.12"
  }
 },
 "nbformat": 4,
 "nbformat_minor": 5
}
